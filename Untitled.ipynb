{
 "cells": [
  {
   "cell_type": "code",
<<<<<<< HEAD
   "execution_count": 2,
=======
   "execution_count": 1,
>>>>>>> 3ad27c0c2c6f3c45823a6d7a11ae663e8a90ed25
   "metadata": {},
   "outputs": [
    {
     "ename": "ModuleNotFoundError",
     "evalue": "No module named 'plotly'",
     "output_type": "error",
     "traceback": [
      "\u001b[0;31m---------------------------------------------------------------------------\u001b[0m",
      "\u001b[0;31mModuleNotFoundError\u001b[0m                       Traceback (most recent call last)",
      "\u001b[0;32m<ipython-input-1-d0a8473196b0>\u001b[0m in \u001b[0;36m<module>\u001b[0;34m\u001b[0m\n\u001b[1;32m      1\u001b[0m \u001b[0;32mimport\u001b[0m \u001b[0mnumpy\u001b[0m \u001b[0;32mas\u001b[0m \u001b[0mnp\u001b[0m\u001b[0;34m\u001b[0m\u001b[0;34m\u001b[0m\u001b[0m\n\u001b[1;32m      2\u001b[0m \u001b[0;32mimport\u001b[0m \u001b[0mpandas\u001b[0m \u001b[0;32mas\u001b[0m \u001b[0mpd\u001b[0m\u001b[0;34m\u001b[0m\u001b[0;34m\u001b[0m\u001b[0m\n\u001b[0;32m----> 3\u001b[0;31m \u001b[0;32mimport\u001b[0m \u001b[0mplotly\u001b[0m\u001b[0;34m.\u001b[0m\u001b[0mexpress\u001b[0m \u001b[0;32mas\u001b[0m \u001b[0mpx\u001b[0m\u001b[0;34m\u001b[0m\u001b[0;34m\u001b[0m\u001b[0m\n\u001b[0m\u001b[1;32m      4\u001b[0m \u001b[0;32mimport\u001b[0m \u001b[0mplotly\u001b[0m\u001b[0;34m.\u001b[0m\u001b[0mgraph_objects\u001b[0m \u001b[0;32mas\u001b[0m \u001b[0mgo\u001b[0m\u001b[0;34m\u001b[0m\u001b[0;34m\u001b[0m\u001b[0m\n\u001b[1;32m      5\u001b[0m \u001b[0;32mimport\u001b[0m \u001b[0mmatplotlib\u001b[0m\u001b[0;34m.\u001b[0m\u001b[0mpyplot\u001b[0m \u001b[0;32mas\u001b[0m \u001b[0mplt\u001b[0m\u001b[0;34m\u001b[0m\u001b[0;34m\u001b[0m\u001b[0m\n",
      "\u001b[0;31mModuleNotFoundError\u001b[0m: No module named 'plotly'"
     ]
    }
   ],
   "source": [
    "\n",
    "import numpy as np \n",
    "import pandas as pd \n",
    "import plotly.express as px\n",
    "import plotly.graph_objects as go\n",
    "import matplotlib.pyplot as plt\n",
    "#import wordcloud\n",
    "#from wordcloud import STOPWORDS\n",
    "\n",
    "\n",
    "%matplotlib inline"
   ]
  },
  {
   "cell_type": "code",
<<<<<<< HEAD
   "execution_count": 3,
=======
   "execution_count": null,
>>>>>>> 3ad27c0c2c6f3c45823a6d7a11ae663e8a90ed25
   "metadata": {},
   "outputs": [],
   "source": [
    "disney_movies_df = pd.read_csv(\"./data/disney_plus_shows.csv\")"
   ]
  },
  {
   "cell_type": "code",
<<<<<<< HEAD
   "execution_count": 4,
   "metadata": {},
   "outputs": [
    {
     "name": "stdout",
     "output_type": "stream",
     "text": [
      "<class 'pandas.core.frame.DataFrame'>\n",
      "RangeIndex: 992 entries, 0 to 991\n",
      "Data columns (total 19 columns):\n",
      " #   Column       Non-Null Count  Dtype  \n",
      "---  ------       --------------  -----  \n",
      " 0   imdb_id      894 non-null    object \n",
      " 1   title        894 non-null    object \n",
      " 2   plot         866 non-null    object \n",
      " 3   type         894 non-null    object \n",
      " 4   rated        742 non-null    object \n",
      " 5   year         894 non-null    object \n",
      " 6   released_at  874 non-null    object \n",
      " 7   added_at     992 non-null    object \n",
      " 8   runtime      838 non-null    object \n",
      " 9   genre        885 non-null    object \n",
      " 10  director     689 non-null    object \n",
      " 11  writer       743 non-null    object \n",
      " 12  actors       870 non-null    object \n",
      " 13  language     865 non-null    object \n",
      " 14  country      869 non-null    object \n",
      " 15  awards       556 non-null    object \n",
      " 16  metascore    292 non-null    float64\n",
      " 17  imdb_rating  879 non-null    float64\n",
      " 18  imdb_votes   879 non-null    object \n",
      "dtypes: float64(2), object(17)\n",
      "memory usage: 147.4+ KB\n"
     ]
    }
   ],
=======
   "execution_count": null,
   "metadata": {},
   "outputs": [],
>>>>>>> 3ad27c0c2c6f3c45823a6d7a11ae663e8a90ed25
   "source": [
    "disney_movies_df.info()"
   ]
  },
  {
   "cell_type": "code",
   "execution_count": null,
   "metadata": {},
   "outputs": [],
   "source": [
    "disney_movies_df"
   ]
  },
  {
   "cell_type": "code",
   "execution_count": null,
   "metadata": {},
   "outputs": [],
   "source": []
  },
  {
   "cell_type": "code",
   "execution_count": null,
   "metadata": {},
   "outputs": [],
   "source": [
    "disney_plus_shows_df = pd.read_csv(\"./data/disney_plus_shows.csv\")\n",
    "disney_plus_shows_df.info()"
   ]
  },
  {
   "cell_type": "code",
   "execution_count": null,
   "metadata": {},
   "outputs": [],
   "source": [
    "disney_plus_shows_df"
   ]
  },
  {
   "cell_type": "code",
   "execution_count": null,
   "metadata": {},
   "outputs": [],
   "source": [
    "disney_join_df = disney_movies_df.merge(disney_plus_shows_df, left_on=\"movie_title\", right_on=\"title\")\n",
    "disney_join_df"
   ]
  },
  {
   "cell_type": "code",
   "execution_count": null,
   "metadata": {},
   "outputs": [],
   "source": [
    "disney_join_df.info()"
   ]
  },
  {
   "cell_type": "code",
   "execution_count": null,
   "metadata": {},
   "outputs": [],
   "source": [
    "disney_join_df.describe()"
   ]
  },
  {
   "cell_type": "code",
   "execution_count": null,
   "metadata": {},
   "outputs": [],
   "source": [
    "disney_join_df.hist()"
   ]
  },
  {
   "cell_type": "code",
   "execution_count": null,
   "metadata": {},
   "outputs": [],
   "source": [
    "fig = px.histogram(disney_join_df['imdb_rating'],nbins=40,labels={'value':'imbd_rating'})\n",
    "fig.update_layout(title='Distribution of IMBD Ratings',title_x=0.5)"
   ]
  },
  {
   "cell_type": "code",
   "execution_count": null,
   "metadata": {},
   "outputs": [],
   "source": [
    "df_top10 = disney_join_df.sort_values('imdb_rating',ascending=False).head(10)\n",
    "fig = go.Figure(data=[go.Bar(\n",
    "            x=df_top10['title'], y=df_top10['imdb_rating'],\n",
    "            text=df_top10['imdb_rating'],\n",
    "            textposition='auto',\n",
    "        )])\n",
    "fig.update_layout(title='Top 10 shows/movies/episodes with the Highest IMDB Ratings',title_x=0.5)"
   ]
  },
  {
   "cell_type": "code",
   "execution_count": null,
   "metadata": {},
   "outputs": [],
   "source": [
    "top10_m = disney_join_df[disney_join_df['type'] == 'movie'].sort_values('imdb_rating',ascending=False).head(10)\n",
    "\n",
    "fig = px.bar(top10_m,top10_m['title'],top10_m['imdb_rating'],text=top10_m['imdb_rating'])\n",
    "fig.update_layout(title='Top 10 Movies with highest IMDB Rating',title_x=0.5)\n",
    "fig.show()"
   ]
  },
  {
   "cell_type": "code",
   "execution_count": null,
   "metadata": {},
   "outputs": [],
   "source": [
    "fig = go.Figure(data=[go.Scatter(\n",
    "    x=top10_m['title'],\n",
    "    y=top10_m['imdb_rating'],\n",
    "    mode='markers',\n",
    "    marker=dict(\n",
    "        color=10+np.random.randn(200),\n",
    "\n",
    "        size=top10_m['imdb_rating']*5,\n",
    "        showscale=True\n",
    "        )\n",
    ")])\n",
    "fig.update_layout(\n",
    "    title='Top 10 Movies with the Highest IMDB Ratings',\n",
    "    title_x=0.5,\n",
    "    xaxis_title=\"name\",\n",
    "    yaxis_title=\"IMDB Rating\",\n",
    "        template='plotly_white'\n",
    "    )\n",
    "fig.show()"
   ]
  },
  {
   "cell_type": "code",
   "execution_count": null,
   "metadata": {},
   "outputs": [],
   "source": []
  }
 ],
 "metadata": {
  "kernelspec": {
   "display_name": "PythonData",
   "language": "python",
   "name": "pythondata"
  },
  "language_info": {
   "codemirror_mode": {
    "name": "ipython",
    "version": 3
   },
   "file_extension": ".py",
   "mimetype": "text/x-python",
   "name": "python",
   "nbconvert_exporter": "python",
   "pygments_lexer": "ipython3",
<<<<<<< HEAD
   "version": "3.8.8"
=======
   "version": "3.6.10"
>>>>>>> 3ad27c0c2c6f3c45823a6d7a11ae663e8a90ed25
  }
 },
 "nbformat": 4,
 "nbformat_minor": 4
}
