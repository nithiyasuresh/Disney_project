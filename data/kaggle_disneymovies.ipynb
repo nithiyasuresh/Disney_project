{
 "cells": [
  {
   "cell_type": "code",
   "execution_count": 2,
   "metadata": {},
   "outputs": [],
   "source": [
    "import pandas as pd"
   ]
  },
  {
   "cell_type": "code",
   "execution_count": 3,
   "metadata": {},
   "outputs": [
    {
     "name": "stdout",
     "output_type": "stream",
     "text": [
      "<class 'pandas.core.frame.DataFrame'>\n",
      "RangeIndex: 432 entries, 0 to 431\n",
      "Data columns (total 32 columns):\n",
      " #   Column                   Non-Null Count  Dtype  \n",
      "---  ------                   --------------  -----  \n",
      " 0   Unnamed: 0               432 non-null    int64  \n",
      " 1   title                    432 non-null    object \n",
      " 2   Production company       392 non-null    object \n",
      " 3   Release date             431 non-null    object \n",
      " 4   Running time             422 non-null    object \n",
      " 5   Country                  428 non-null    object \n",
      " 6   Language                 430 non-null    object \n",
      " 7   Running time (int)       422 non-null    float64\n",
      " 8   Budget (float)           273 non-null    float64\n",
      " 9   Box office (float)       355 non-null    float64\n",
      " 10  Release date (datetime)  428 non-null    object \n",
      " 11  imdb                     416 non-null    float64\n",
      " 12  metascore                283 non-null    float64\n",
      " 13  rotten_tomatoes          361 non-null    object \n",
      " 14  Directed by              431 non-null    object \n",
      " 15  Produced by              422 non-null    object \n",
      " 16  Written by               203 non-null    object \n",
      " 17  Based on                 211 non-null    object \n",
      " 18  Starring                 398 non-null    object \n",
      " 19  Music by                 422 non-null    object \n",
      " 20  Distributed by           429 non-null    object \n",
      " 21  Budget                   276 non-null    object \n",
      " 22  Box office               359 non-null    object \n",
      " 23  Story by                 139 non-null    object \n",
      " 24  Narrated by              55 non-null     object \n",
      " 25  Cinematography           342 non-null    object \n",
      " 26  Edited by                395 non-null    object \n",
      " 27  Screenplay by            191 non-null    object \n",
      " 28  Production companies     39 non-null     object \n",
      " 29  Adaptation by            1 non-null      object \n",
      " 30  Traditional              1 non-null      object \n",
      " 31  Simplified               1 non-null      object \n",
      "dtypes: float64(5), int64(1), object(26)\n",
      "memory usage: 108.1+ KB\n"
     ]
    }
   ],
   "source": [
    "DisneyMoviesDataset_df = pd.read_csv(\"DisneyMoviesDataset.csv\")\n",
    "DisneyMoviesDataset_df.info()"
   ]
  },
  {
   "cell_type": "code",
   "execution_count": 4,
   "metadata": {},
   "outputs": [
    {
     "data": {
      "text/plain": [
       "array([[<matplotlib.axes._subplots.AxesSubplot object at 0x7ffc0ee400b8>,\n",
       "        <matplotlib.axes._subplots.AxesSubplot object at 0x7ffc0ee942b0>],\n",
       "       [<matplotlib.axes._subplots.AxesSubplot object at 0x7ffc0eec5860>,\n",
       "        <matplotlib.axes._subplots.AxesSubplot object at 0x7ffc0eef8e10>],\n",
       "       [<matplotlib.axes._subplots.AxesSubplot object at 0x7ffc0ef36400>,\n",
       "        <matplotlib.axes._subplots.AxesSubplot object at 0x7ffc0ef649b0>]],\n",
       "      dtype=object)"
      ]
     },
     "execution_count": 4,
     "metadata": {},
     "output_type": "execute_result"
    },
    {
     "data": {
      "image/png": "[encoded data removed]",
      "text/plain": [
       "<Figure size 432x288 with 6 Axes>"
      ]
     },
     "metadata": {
      "needs_background": "light"
     },
     "output_type": "display_data"
    }
   ],
   "source": [
    "DisneyMoviesDataset_df.hist()"
   ]
  },
  {
   "cell_type": "code",
   "execution_count": 6,
   "metadata": {},
   "outputs": [
    {
     "data": {
      "text/plain": [
       "array(['Walt Disney Productions',\n",
       "       \"['Walt Disney Productions', 'RKO Radio Pictures, Inc.']\",\n",
       "       \"['Paramount Pictures', 'Walt Disney Productions', 'Robert Evans Productions', 'King Features Entertainment']\",\n",
       "       \"['Paramount Pictures', 'Walt Disney Productions']\", nan,\n",
       "       'Walt Disney Productions (promoted under the auspices of Touchstone Films)',\n",
       "       \"['Walt Disney Productions', 'Bryna Productions']\",\n",
       "       \"['Walt Disney Pictures', 'Amarok Productions Ltd.']\",\n",
       "       \"['Walt Disney Pictures', 'Silver Screen Partners II']\",\n",
       "       \"['Walt Disney Pictures', 'Walt Disney Productions', 'Silver Screen Partners II']\",\n",
       "       \"['Walt Disney Pictures', 'Silver Screen Partners II', 'Telefilm Canada']\",\n",
       "       \"['Walt Disney Pictures', 'Walt Disney Feature Animation', 'Silver Screen Partners II']\",\n",
       "       \"['PSO Productions', 'Viking Film AS']\",\n",
       "       \"['Walt Disney Pictures', 'Mulberry Square Productions', 'Silver Screen Partners III']\",\n",
       "       \"['Walt Disney Pictures', 'Silver Screen Partners III', 'Burrowes Film Group', 'The Hoyts Group']\",\n",
       "       \"['Walt Disney Pictures', 'Walt Disney Feature Animation', 'Silver Screen Partners III']\",\n",
       "       \"['Walt Disney Pictures', 'Silver Screen Partners III']\",\n",
       "       \"['Walt Disney Pictures', 'Walt Disney Feature Animation', 'Silver Screen Partners IV']\",\n",
       "       \"['Walt Disney Pictures', 'Silver Screen Partners IV']\",\n",
       "       \"['Walt Disney Pictures', 'AB Svensk Filmindustri']\",\n",
       "       'Walt Disney Pictures',\n",
       "       \"['Walt Disney Pictures', 'Touchwood Pacific Partners']\",\n",
       "       \"['Walt Disney Pictures', 'Avnet– Kerner Productions', 'Touchwood Pacific Partners I']\",\n",
       "       \"['Walt Disney Pictures', 'Amblin Entertainment', 'Touchwood Pacific Partners']\",\n",
       "       \"['Walt Disney Pictures', 'Caravan Pictures', 'Avnet–Kerner Productions (uncredited)']\",\n",
       "       \"['Walt Disney Pictures', 'Avnet–Kerner Productions']\",\n",
       "       \"['Walt Disney Pictures', 'Walt Disney Feature Animation']\",\n",
       "       \"['Walt Disney Pictures', 'Caravan Pictures']\",\n",
       "       \"['Walt Disney Pictures', 'All Girl Productions', 'Orr & Cruickshank Productions']\",\n",
       "       \"['Walt Disney Pictures', 'Interscope Communications', 'PolyGram Filmed Entertainment']\",\n",
       "       \"['Walt Disney Pictures', 'Trimark Pictures', 'Tapestry Films']\",\n",
       "       \"['Walt Disney Pictures', 'Caravan Pictures', 'Roger Birnbaum Productions']\",\n",
       "       \"['Theodore Thomas Productions', 'Walt Disney Pictures']\",\n",
       "       \"['Walt Disney Pictures', 'Pixar Animation Studios']\",\n",
       "       \"['Walt Disney Pictures', 'Jim Henson Productions']\",\n",
       "       \"['Walt Disney Pictures', 'Allied Filmmakers', 'Skellington Productions']\",\n",
       "       \"['Walt Disney Pictures', 'Avnet-Kerner Productions']\",\n",
       "       \"['Walt Disney Pictures', 'Great Oaks Entertainment']\",\n",
       "       \"['Walt Disney Pictures', 'Robert Simonds Productions']\",\n",
       "       \"['Walt Disney Pictures', 'TF1 International']\",\n",
       "       \"['Walt Disney Pictures', 'Mandeville Films', 'Jay Ward Productions', 'The Kerner Entertainment Company']\",\n",
       "       'Buddy Films, Inc.', \"['Walt Disney Pictures', 'Great Oaks']\",\n",
       "       \"['Walt Disney Pictures', 'UPA Productions']\",\n",
       "       \"['Walt Disney Pictures', 'DIC Entertainment', 'Peak Productions']\",\n",
       "       \"['Walt Disney Pictures', 'Mandeville Films']\",\n",
       "       \"['Walt Disney Pictures', 'RKO Pictures', 'The Jacobson Company']\",\n",
       "       \"['Walt Disney Pictures', 'Jumbo Pictures', 'Walt Disney Television Animation', 'Plus One Animation']\",\n",
       "       \"['Asymmetrical Productions', 'Canal+', 'FilmFour Productions', 'Ciby 2000', 'Le Studio Canal+']\",\n",
       "       \"['Walt Disney Television Animation', 'Walt Disney Animation Japan', 'Walt Disney Pictures']\",\n",
       "       \"['Walt Disney Pictures', 'Walt Disney Feature Animation', 'The Secret Lab']\",\n",
       "       \"['Walt Disney Pictures', 'Jerry Bruckheimer Films', 'Technical Black Films']\",\n",
       "       \"['Walt Disney Pictures', 'Cruella Productions', 'Kanzaman S.A.M. Films']\",\n",
       "       \"['Walt Disney Pictures', 'Walt Disney Television Animation', 'Walt Disney Television Animation Digital Production', 'Paul & Joe Productions', 'Sunwoo Animation Sunwoo Digital International']\",\n",
       "       \"['Walt Disney Pictures', 'BrownHouse Productions']\",\n",
       "       \"['Walt Disney Pictures', 'Karz Entertainment']\",\n",
       "       \"['Walt Disney Pictures', 'The Kerner Entertainment Company']\",\n",
       "       'Walt Disney Television Animation',\n",
       "       \"['Walt Disney Pictures', 'Scholastic Studios']\",\n",
       "       \"['Walt Disney Pictures', 'Outlaw Productions', 'Boxing Cat Films']\",\n",
       "       \"['DisneyToon Studios', 'Walt Disney Pictures']\",\n",
       "       \"['Walt Disney Pictures', 'Walden Media', 'Earthship Productions', 'Ascot Elite Entertainment Group', 'Golden Village', 'Telepool', 'UGC PH']\",\n",
       "       \"['Walt Disney Pictures', 'Walden Media', 'Phoenix Pictures', 'Chicago Pacific Entertainment']\",\n",
       "       \"['Walt Disney Pictures', 'Stan Rogow Productions']\",\n",
       "       \"['Walt Disney Pictures', 'Gunn Films']\",\n",
       "       \"['Walt Disney Pictures', 'The Kennedy/Marshall Company']\",\n",
       "       \"['Walt Disney Pictures', 'Walt Disney Television Animation', 'Toon City Animation']\",\n",
       "       \"['Walt Disney Pictures', 'Mayhem Pictures']\",\n",
       "       \"['Walt Disney Pictures', 'Walden Media', 'Spanknyce Films', 'Mostow/Lieberman Productions']\",\n",
       "       \"['Walt Disney Pictures', 'Blacklight Films']\",\n",
       "       \"['Walt Disney Pictures', 'Jerry Bruckheimer Films', 'Junction Entertainment', 'Saturn Films']\",\n",
       "       \"['Walt Disney Pictures', 'Walden Media', 'Earthship Productions']\",\n",
       "       \"['Walt Disney Pictures', 'Disneytoon Studios']\",\n",
       "       \"['Walt Disney Pictures', 'Spyglass Entertainment']\",\n",
       "       \"['Walt Disney Pictures', 'Bridget Johnson Films', 'On The Ice Productions']\",\n",
       "       \"['Vanguard Animation', 'Ealing Studios', 'UK Film Council', 'Take Film Partnerships', 'Odyssey Entertainment']\",\n",
       "       \"['Walt Disney Pictures', 'Walden Media']\",\n",
       "       \"['Walt Disney Pictures', 'Jerry Bruckheimer Films', 'Texas Western Productions', 'Glory Road Productions']\",\n",
       "       \"['Walt Disney Pictures', 'White Mountain Films', 'The Kennedy/Marshall Company']\",\n",
       "       \"['Walt Disney Pictures', 'Spyglass Entertainment', 'Mandeville Films', 'The Kennedy/Marshall Company']\",\n",
       "       \"['Walt Disney Pictures', 'Mandeville Films', 'Boxing Cat Films']\",\n",
       "       \"['Walt Disney Pictures', 'Hoytyboy Pictures', 'Sir Zip Productions', 'Contrafilm', 'C.O.R.E. Feature Animation']\",\n",
       "       \"['Touchstone Pictures', 'Skellington Productions']\",\n",
       "       \"['Walt Disney Pictures', 'Walt Disney Animation Studios']\",\n",
       "       'Leslie Iwerks Productions',\n",
       "       \"['Walt Disney Pictures', 'PACE', 'Disney Channel Original Productions']\",\n",
       "       \"['Walt Disney Pictures', 'Gunn Films', 'Head Gear Films']\",\n",
       "       \"['Walt Disney Pictures', 'Borden and Rosenbush Entertainment']\",\n",
       "       \"['Walt Disney Pictures', 'Happy Madison Productions', 'Gunn Films', 'Offspring Entertainment', 'Conman & Izzy Productions']\",\n",
       "       \"['Walt Disney Pictures', 'Jonas Films']\",\n",
       "       '[\\'Walt Disney Pictures\\', \"It\\'s a Laugh Productions\", \\'Millar Gough Ink\\']',\n",
       "       \"['BBC Worldwide', 'Greenlight Media', 'Discovery Channel', 'BBC Natural History Unit']\",\n",
       "       \"['The Walt Disney Company CIS', '(Russia)', 'Trite (Russia)']\",\n",
       "       \"['Walt Disney Pictures', 'ImageMovers Digital']\",\n",
       "       \"['Walt Disney Pictures', 'Tapestry Films']\",\n",
       "       \"['Walt Disney Pictures', 'Roth Films', 'The Zanuck Company', 'Team Todd']\",\n",
       "       'Stone Circle Pictures',\n",
       "       \"['Pathé', 'Participant Media', 'Galatée Films', 'Notro Films', 'France 2 Cinéma', 'France 3 Cinéma', 'Canal+', 'TPS Star', 'Alfred P. Sloan Foundation', 'Census of Marine Life']\",\n",
       "       \"['Walt Disney Pictures', 'Jerry Bruckheimer Films', 'Saturn Films', 'Broken Road Productions']\",\n",
       "       \"['Disneynature', 'Natural Light Films', 'Kudos Pictures']\",\n",
       "       \"['Walt Disney Pictures', 'Disney World Cinema', 'Planman Motion Pictures', 'Walt Disney Pictures India']\",\n",
       "       \"['Walt Disney Pictures', 'Red Hour Films']\",\n",
       "       \"['Disney World Cinema', 'A Bellyful of Dreams Entertainment', 'Arka Media Works', 'Walt Disney Pictures India']\",\n",
       "       \"['Disney World Cinema', 'Walt Disney Pictures India']\",\n",
       "       \"['Disneynature', 'Fothergill / Scholey Productions', 'Silverback Films']\",\n",
       "       \"['Walt Disney Pictures', 'Mandeville Films', 'The Muppets Studio']\",\n",
       "       \"['Disneynature', 'Great Ape Productions']\",\n",
       "       \"['Walt Disney Pictures', 'Walt Disney Pictures India', 'UTV Motion Pictures']\",\n",
       "       \"['Walt Disney Pictures', 'Scott Sanders Productions']\",\n",
       "       \"['Walt Disney Pictures', 'Tim Burton Productions']\",\n",
       "       \"['Disneynature', 'Blacklight Films']\",\n",
       "       \"['Walt Disney Pictures', 'Jerry Bruckheimer Films', 'Infinitum Nihil', 'Blind Wink Productions']\",\n",
       "       \"['Walt Disney Pictures', 'Ruby Films', 'Essential Media and Entertainment', 'BBC Films', 'Hopscotch Features']\",\n",
       "       \"['Disneynature', 'Silverback Films']\",\n",
       "       \"['Walt Disney Pictures', 'Roth Films', 'Mayhem Pictures']\",\n",
       "       \"['Walt Disney Pictures', 'Roth Films']\",\n",
       "       \"['Walt Disney Pictures India', 'Anil Kapoor Films Company']\",\n",
       "       \"['Walt Disney Pictures', '21 Laps Entertainment', 'The Jim Henson Company']\",\n",
       "       \"['Walt Disney Pictures', 'Lucamar Productions', 'Marc Platt Productions']\",\n",
       "       \"['Walt Disney Pictures', 'Kinberg Genre', 'Allison Shearmur Productions', 'Beagle Pug Films']\",\n",
       "       \"['Walt Disney Pictures', 'A113 Productions']\",\n",
       "       \"['Walt Disney Pictures', 'Whitaker Entertainment', 'Red Hawk Entertainment']\",\n",
       "       \"['Walt Disney Pictures', 'Fairview Entertainment']\",\n",
       "       \"['Walt Disney Pictures', 'Roth Films', 'Team Todd', 'Tim Burton Productions']\",\n",
       "       \"['Aamir Khan Productions', 'Walt Disney Pictures India']\",\n",
       "       \"['Wild Bunch', 'National Geographic Films', 'Bonne Pioche']\",\n",
       "       \"['Disneynature', 'Shanghai Media Group', 'Chuan Films', 'Brian Leith Productions']\",\n",
       "       \"['Walt Disney Pictures', 'Jerry Bruckheimer Films']\",\n",
       "       \"['Disneynature', 'Brian Leith Productions']\",\n",
       "       \"['Walt Disney Pictures India', 'Picture Shuru Entertainment', 'Ishana Movies']\",\n",
       "       \"['Walt Disney Pictures', '2DUX²']\",\n",
       "       \"['Walt Disney Pictures', 'The Mark Gordon Company']\",\n",
       "       \"['Walt Disney Pictures', 'Tim Burton Productions', 'Infinite Detective Productions', 'Secret Machine Entertainment']\",\n",
       "       \"['Walt Disney Pictures', 'Rideback', 'Marc Platt Productions']\",\n",
       "       \"['Walt Disney Pictures', 'Roth/Kirschenbaum Films']\",\n",
       "       \"['Walt Disney Pictures', 'Taylor Made']\",\n",
       "       \"['Walt Disney Pictures', 'Etalon Film', 'Slow Pony Pictures', 'Whitaker Entertainment']\",\n",
       "       \"['Walt Disney Pictures', 'Gotham Group', 'Hahnscape Entertainment']\",\n",
       "       'Disneynature',\n",
       "       \"['Walt Disney Pictures', 'TriBeCa Productions', 'Marzano Films']\",\n",
       "       \"['Walt Disney Pictures', '5000 Broadway Productions', 'Nevis Productions', 'Old 320 Sycamore Pictures', 'RadicalMedia']\",\n",
       "       \"['Parkwood Entertainment', 'Walt Disney Pictures']\",\n",
       "       \"['Walt Disney Pictures', 'Team Todd']\",\n",
       "       \"['Walt Disney Pictures', 'Jolie Pas Productions']\",\n",
       "       \"['Walt Disney Pictures', 'Jason T. Reed Productions', 'Good Fear Productions']\",\n",
       "       \"['Walt Disney Pictures', 'Gunn Films', 'Marc Platt Productions']\",\n",
       "       \"['Walt Disney Pictures', 'Davis Entertainment', 'Seven Bucks Productions', 'Flynn Picture Company']\"],\n",
       "      dtype=object)"
      ]
     },
     "execution_count": 6,
     "metadata": {},
     "output_type": "execute_result"
    }
   ],
   "source": [
    "DisneyMoviesDataset_df['Production company'].unique()"
   ]
  },
  {
   "cell_type": "code",
   "execution_count": null,
   "metadata": {},
   "outputs": [],
   "source": []
  }
 ],
 "metadata": {
  "kernelspec": {
   "display_name": "Python [conda env:PythonData] *",
   "language": "python",
   "name": "conda-env-PythonData-py"
  },
  "language_info": {
   "codemirror_mode": {
    "name": "ipython",
    "version": 3
   },
   "file_extension": ".py",
   "mimetype": "text/x-python",
   "name": "python",
   "nbconvert_exporter": "python",
   "pygments_lexer": "ipython3",
   "version": "3.6.10"
  }
 },
 "nbformat": 4,
 "nbformat_minor": 4
}
