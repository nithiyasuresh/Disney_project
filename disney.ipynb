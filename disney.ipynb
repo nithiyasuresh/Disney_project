{
 "cells": [
  {
   "cell_type": "code",
   "execution_count": null,
   "metadata": {},
   "outputs": [],
   "source": [
    "# pip install lux-api == 0.4.0"
   ]
  },
  {
   "cell_type": "code",
   "execution_count": 2,
   "metadata": {},
   "outputs": [
    {
     "name": "stdout",
     "output_type": "stream",
     "text": [
      "<class 'pandas.core.frame.DataFrame'>\n",
      "RangeIndex: 992 entries, 0 to 991\n",
      "Data columns (total 19 columns):\n",
      " #   Column       Non-Null Count  Dtype  \n",
      "---  ------       --------------  -----  \n",
      " 0   imdb_id      894 non-null    object \n",
      " 1   title        894 non-null    object \n",
      " 2   plot         866 non-null    object \n",
      " 3   type         894 non-null    object \n",
      " 4   rated        742 non-null    object \n",
      " 5   year         894 non-null    object \n",
      " 6   released_at  874 non-null    object \n",
      " 7   added_at     992 non-null    object \n",
      " 8   runtime      838 non-null    object \n",
      " 9   genre        885 non-null    object \n",
      " 10  director     689 non-null    object \n",
      " 11  writer       743 non-null    object \n",
      " 12  actors       870 non-null    object \n",
      " 13  language     865 non-null    object \n",
      " 14  country      869 non-null    object \n",
      " 15  awards       556 non-null    object \n",
      " 16  metascore    292 non-null    float64\n",
      " 17  imdb_rating  879 non-null    float64\n",
      " 18  imdb_votes   879 non-null    object \n",
      "dtypes: float64(2), object(17)\n",
      "memory usage: 147.4+ KB\n"
     ]
    }
   ],
   "source": [
    "import numpy as np \n",
    "import pandas as pd \n",
    "import plotly.express as px\n",
    "import plotly.graph_objects as go\n",
    "import matplotlib.pyplot as plt\n",
    "#from wordcloud import STOPWORDS\n",
    "#import wordcloud\n",
    "\n",
    "%matplotlib inline\n",
    "\n",
    "df = pd.read_csv(\"./data/disney_plus_shows.csv\")\n",
    "df.info()"
   ]
  },
  {
   "cell_type": "code",
   "execution_count": 4,
   "metadata": {},
   "outputs": [
    {
     "data": {
      "application/vnd.plotly.v1+json": {
       "config": {
        "plotlyServerURL": "https://plot.ly"
       },
       "data": [
        {
         "alignmentgroup": "True",
         "bingroup": "x",
         "hovertemplate": "variable=imdb_rating<br>imbd_rating=%{x}<br>count=%{y}<extra></extra>",
         "legendgroup": "imdb_rating",
         "marker": {
          "color": "#636efa",
          "pattern": {
           "shape": ""
          }
         },
         "name": "imdb_rating",
         "nbinsx": 40,
         "offsetgroup": "imdb_rating",
         "orientation": "v",
         "showlegend": true,
         "type": "histogram",
         "x": [
          7.3,
          6.2,
          5.7,
          5.8,
          4.9,
          6.3,
          7.2,
          7.2,
          7.6,
          6.8,
          4.7,
          7,
          6.1,
          7.1,
          4.2,
          7,
          8,
          6.4,
          5.9,
          7.4,
          6.4,
          6.4,
          7.6,
          6.2,
          7.1,
          6.2,
          4.8,
          7.9,
          6.6,
          6.4,
          7.3,
          6.7,
          7.7,
          null,
          5.9,
          6.8,
          5.1,
          6.9,
          7.1,
          5.9,
          7.8,
          null,
          6.8,
          6.3,
          7.3,
          6.1,
          7.5,
          null,
          6.7,
          7.6,
          8,
          5.4,
          6.1,
          6.3,
          7.1,
          6,
          7.4,
          8.3,
          6.3,
          5.5,
          6.4,
          6.6,
          null,
          7.8,
          null,
          6.2,
          null,
          6.6,
          6.9,
          5.3,
          9.7,
          7.3,
          6.8,
          null,
          6.8,
          null,
          7,
          8.1,
          8.3,
          7.1,
          6.3,
          7.5,
          null,
          7.1,
          6.8,
          6.2,
          5.8,
          7.3,
          null,
          7.7,
          5.5,
          6.1,
          5.2,
          5.2,
          5,
          6.8,
          6.7,
          null,
          7.1,
          6.1,
          6.7,
          null,
          6.4,
          null,
          null,
          null,
          null,
          null,
          6.3,
          6.3,
          6.8,
          null,
          6.2,
          6.6,
          6.4,
          6.4,
          5.9,
          5.9,
          6.1,
          7.3,
          5.7,
          7.6,
          7.4,
          7.3,
          5,
          5.9,
          7.5,
          6.6,
          8.4,
          null,
          4.3,
          4.6,
          7.5,
          7,
          5.7,
          null,
          7.4,
          5.2,
          4.8,
          4.9,
          7.2,
          7.6,
          6.8,
          7,
          8.1,
          7,
          7.4,
          6.5,
          6.7,
          7.9,
          7.9,
          5.5,
          6.2,
          6.5,
          6,
          7.8,
          5.7,
          6,
          7.1,
          3.5,
          5.4,
          6.4,
          6.7,
          null,
          6.1,
          6.1,
          5.4,
          5.5,
          null,
          5.5,
          8.9,
          null,
          6,
          7.6,
          5.6,
          4.6,
          null,
          6.1,
          null,
          6.4,
          7.8,
          null,
          5.7,
          7.5,
          6.5,
          8.2,
          null,
          null,
          6.7,
          7.4,
          8,
          5.9,
          6.1,
          6.5,
          null,
          6.4,
          6.1,
          6.8,
          null,
          7.5,
          6.2,
          8.1,
          null,
          null,
          6.6,
          7.2,
          6.2,
          6.5,
          7.8,
          6.6,
          6.1,
          6.8,
          null,
          7.6,
          7.4,
          7.2,
          7.2,
          7.3,
          7.3,
          6.9,
          7.4,
          7.4,
          6.8,
          5.4,
          4.7,
          8,
          null,
          7.6,
          7.4,
          6.9,
          7,
          6.8,
          7,
          6.9,
          6.1,
          5,
          8.1,
          8.9,
          7.2,
          5.4,
          6,
          7.5,
          7.2,
          7.6,
          6.2,
          5.7,
          8.2,
          6.9,
          7,
          6.3,
          null,
          5.6,
          7.4,
          6,
          7.3,
          6.4,
          null,
          4.7,
          7,
          6.2,
          8.3,
          7.2,
          6.4,
          7.6,
          6.9,
          8.1,
          7.2,
          7.8,
          7.2,
          6.4,
          6.8,
          7.2,
          7.3,
          8.1,
          null,
          5.2,
          4.6,
          6.9,
          7.4,
          7.5,
          5.3,
          null,
          8,
          null,
          null,
          null,
          null,
          null,
          7.8,
          null,
          null,
          8.1,
          null,
          7.8,
          6.9,
          7.3,
          6.3,
          6.1,
          3.7,
          8.2,
          5,
          7.5,
          7,
          5.7,
          6.6,
          7.6,
          5.1,
          8.1,
          6.4,
          6.3,
          null,
          5.4,
          3.3,
          7.9,
          5.1,
          null,
          7.2,
          7.2,
          5.7,
          6.8,
          7,
          6.4,
          6.8,
          7.9,
          5.8,
          null,
          7.3,
          8.1,
          7.3,
          5.9,
          6.2,
          6.8,
          6.2,
          6.5,
          5.6,
          5,
          2.3,
          4.4,
          null,
          5.4,
          7.2,
          6.6,
          5.1,
          5,
          5.7,
          5.7,
          4.8,
          7.3,
          5.4,
          5,
          4.8,
          7.3,
          null,
          7.8,
          6.9,
          7,
          4.5,
          5.3,
          5.9,
          6.9,
          4.8,
          6.3,
          5,
          6.2,
          8.2,
          5.1,
          6.8,
          5.5,
          7,
          7.3,
          7.2,
          7.1,
          6.1,
          5.5,
          7.5,
          5.9,
          6,
          7,
          null,
          8.1,
          null,
          null,
          8.2,
          4.1,
          3.4,
          7.7,
          7.6,
          7.1,
          6.1,
          6.7,
          6.5,
          6.6,
          null,
          5.8,
          7.6,
          6.7,
          7.8,
          null,
          5.9,
          null,
          6.6,
          5.5,
          6.3,
          1.5,
          null,
          7,
          5.3,
          6.2,
          5.2,
          7.4,
          6.5,
          3,
          6.3,
          3.6,
          7.1,
          null,
          7.3,
          8.2,
          8,
          null,
          5.8,
          8,
          6.6,
          6.3,
          7.3,
          5.9,
          7.7,
          6.7,
          null,
          5.7,
          6.5,
          null,
          7.5,
          5.6,
          7.5,
          null,
          7.4,
          7.5,
          null,
          7.5,
          7.5,
          6.9,
          7.1,
          6.2,
          6.4,
          7,
          8,
          4.9,
          5.6,
          4.8,
          7.9,
          7.2,
          6.7,
          6.3,
          6.6,
          7.7,
          6.7,
          8.7,
          null,
          6.4,
          7.9,
          null,
          6.2,
          null,
          6.7,
          7.3,
          null,
          null,
          6.5,
          5.4,
          7.4,
          7.4,
          8.3,
          6.8,
          8.4,
          5,
          4.6,
          4,
          4.9,
          null,
          5.5,
          5.1,
          7.6,
          null,
          7.3,
          7.3,
          8.4,
          7.3,
          7.8,
          6.9,
          7.7,
          6.9,
          7.5,
          8,
          7.6,
          7.9,
          7,
          7.2,
          8,
          7,
          7.9,
          6.9,
          6.1,
          7.1,
          7.9,
          6.7,
          7,
          null,
          6,
          7.4,
          null,
          6.2,
          5,
          4.7,
          7,
          7,
          6.1,
          null,
          null,
          7.8,
          6.6,
          4.1,
          6.8,
          6.4,
          null,
          8.1,
          7.7,
          6.2,
          6.4,
          6.6,
          8.1,
          null,
          7.2,
          6.9,
          7.9,
          6.5,
          5.6,
          7.1,
          6.7,
          6.9,
          5.8,
          7.5,
          7,
          6,
          6.7,
          7.9,
          7.1,
          7.6,
          5.9,
          7.3,
          8,
          6.6,
          7.3,
          7.5,
          7.2,
          7.6,
          5.7,
          7,
          null,
          8.8,
          7,
          6.4,
          6.6,
          5.1,
          5.7,
          6.8,
          6.5,
          7.7,
          7,
          8.5,
          6.2,
          6.3,
          5.5,
          5.4,
          7.3,
          6.7,
          7.5,
          6.4,
          7.3,
          null,
          7.2,
          6.6,
          7.7,
          8.8,
          7.5,
          5.1,
          6.9,
          7.6,
          7.5,
          6.6,
          null,
          5.9,
          8.2,
          7.1,
          6.7,
          7.2,
          6.4,
          6.7,
          7.3,
          5.8,
          6.5,
          7,
          7.9,
          7.4,
          8.3,
          null,
          6.1,
          7.4,
          8.4,
          7.1,
          7.3,
          6.6,
          8,
          6.7,
          5.7,
          5.7,
          null,
          null,
          7.7,
          6.5,
          6.6,
          null,
          null,
          6.7,
          4.9,
          7.4,
          7.1,
          6.4,
          null,
          8.4,
          8.5,
          5.6,
          5.4,
          8.1,
          7.1,
          6.4,
          6.8,
          7.4,
          5.7,
          8,
          5.5,
          5.3,
          6.7,
          6.6,
          6.8,
          5.9,
          6.4,
          7.8,
          null,
          5.9,
          5.6,
          6.7,
          4.1,
          6.3,
          null,
          6.2,
          7.6,
          7.8,
          7.8,
          6,
          7.2,
          7.2,
          7.7,
          6,
          6.2,
          6.5,
          6.9,
          4.9,
          7.4,
          7.5,
          7.7,
          null,
          6.9,
          7.1,
          7.2,
          5.1,
          7.8,
          7.2,
          8.2,
          null,
          4.8,
          null,
          4.7,
          6.5,
          6.7,
          6.3,
          7.1,
          7.3,
          6.4,
          5.6,
          5,
          7.2,
          7.4,
          6.3,
          6.7,
          5.2,
          7.6,
          6.5,
          6,
          8.5,
          7.1,
          6.1,
          6.8,
          7,
          7.2,
          6.4,
          5.8,
          6.2,
          5,
          8,
          null,
          4.9,
          8.6,
          6.5,
          6.1,
          8.3,
          7.5,
          8.1,
          5.9,
          8.7,
          7.9,
          7,
          6.5,
          null,
          6.2,
          6.1,
          7.6,
          6,
          6.2,
          6.5,
          5.6,
          7.1,
          4.2,
          6.3,
          7,
          6.5,
          7.2,
          7.6,
          5.9,
          7.7,
          6.6,
          7.6,
          5.4,
          5.8,
          6.4,
          6.1,
          5.9,
          5.5,
          4.7,
          6.8,
          6.5,
          6.8,
          null,
          6.6,
          6.2,
          7,
          8.2,
          7.3,
          6.5,
          6.1,
          7.1,
          7.3,
          8.3,
          5.5,
          7.9,
          6.2,
          6.4,
          7.1,
          5.7,
          6.4,
          6,
          7.6,
          null,
          6.3,
          6.8,
          5.7,
          5.9,
          6.1,
          4.8,
          5,
          4.7,
          6.5,
          6.5,
          6.9,
          7.4,
          6,
          4.1,
          null,
          null,
          7.3,
          6.2,
          6.8,
          8.2,
          7.3,
          5.3,
          6.1,
          6.6,
          6.9,
          6.9,
          6.7,
          7.2,
          7.2,
          7.4,
          5,
          7.1,
          6.9,
          4.7,
          9.1,
          8.6,
          null,
          7.1,
          8,
          7,
          7.6,
          5.4,
          4.2,
          6,
          6.2,
          6.9,
          6.6,
          6.5,
          8.5,
          7.6,
          5.6,
          6.3,
          null,
          7.5,
          5.5,
          6.5,
          7.2,
          6.5,
          8.7,
          7.6,
          5.9,
          6.7,
          7.7,
          7.6,
          7.1,
          7.4,
          7.6,
          7.5,
          6.6,
          7.9,
          7.1,
          7.2,
          6.1,
          7.1,
          6.5,
          6.7,
          8.1,
          4.7,
          6.2,
          7.1,
          7.1,
          8.1,
          6.3,
          5.8,
          6.4,
          5.4,
          6.9,
          5.8,
          6.9,
          6.9,
          6.5,
          6.9,
          5,
          6.5,
          5.6,
          4.7,
          6.7,
          5.3,
          5.9,
          6.5,
          7.1,
          null,
          8.7,
          7.8,
          8,
          6.7,
          8,
          6.1,
          5.3,
          6.5,
          6.3,
          6.1,
          6.1,
          7.2,
          6,
          6.5,
          6.4,
          6.3,
          7.2,
          6.7,
          7.6,
          5.9,
          7.7,
          5.3,
          7.1,
          6.5,
          5.5,
          7.9,
          5.6,
          6.8,
          null,
          7.2,
          7.5,
          null,
          6,
          5.4,
          null,
          6.3,
          6.2,
          8,
          6.1,
          7.1,
          6.5,
          6.8,
          6.9,
          6.7,
          7.2,
          7,
          8.1,
          5.5,
          8.3,
          7.9,
          8.3,
          7.8,
          7.3,
          null,
          7.1,
          6.4,
          7.1,
          6.9,
          6.3,
          7.2,
          null,
          6.8,
          8.2,
          6.8,
          7.5,
          6.6,
          7.1,
          6.2,
          7.4,
          5.5,
          5.7,
          5.8,
          5.3,
          null,
          7.7,
          8.2,
          5.6,
          5.5,
          7.1,
          5.2,
          7.6,
          8.4,
          null,
          6.9,
          5.4,
          5,
          6.7,
          7.7,
          6.6,
          null,
          null,
          null,
          7.3,
          null,
          6.5,
          7.2,
          6.8,
          6.5,
          7.4,
          6.8,
          6.2,
          8,
          null,
          7.7,
          7.9,
          null,
          7.5,
          6.9,
          4.7,
          6.1,
          7.1,
          6.3,
          5.1,
          6.4,
          5.9,
          5.5,
          8
         ],
         "xaxis": "x",
         "yaxis": "y"
        }
       ],
       "layout": {
        "barmode": "relative",
        "legend": {
         "title": {
          "text": "variable"
         },
         "tracegroupgap": 0
        },
        "margin": {
         "t": 60
        },
        "template": {
         "data": {
          "bar": [
           {
            "error_x": {
             "color": "#2a3f5f"
            },
            "error_y": {
             "color": "#2a3f5f"
            },
            "marker": {
             "line": {
              "color": "#E5ECF6",
              "width": 0.5
             },
             "pattern": {
              "fillmode": "overlay",
              "size": 10,
              "solidity": 0.2
             }
            },
            "type": "bar"
           }
          ],
          "barpolar": [
           {
            "marker": {
             "line": {
              "color": "#E5ECF6",
              "width": 0.5
             },
             "pattern": {
              "fillmode": "overlay",
              "size": 10,
              "solidity": 0.2
             }
            },
            "type": "barpolar"
           }
          ],
          "carpet": [
           {
            "aaxis": {
             "endlinecolor": "#2a3f5f",
             "gridcolor": "white",
             "linecolor": "white",
             "minorgridcolor": "white",
             "startlinecolor": "#2a3f5f"
            },
            "baxis": {
             "endlinecolor": "#2a3f5f",
             "gridcolor": "white",
             "linecolor": "white",
             "minorgridcolor": "white",
             "startlinecolor": "#2a3f5f"
            },
            "type": "carpet"
           }
          ],
          "choropleth": [
           {
            "colorbar": {
             "outlinewidth": 0,
             "ticks": ""
            },
            "type": "choropleth"
           }
          ],
          "contour": [
           {
            "colorbar": {
             "outlinewidth": 0,
             "ticks": ""
            },
            "colorscale": [
             [
              0,
              "#0d0887"
             ],
             [
              0.1111111111111111,
              "#46039f"
             ],
             [
              0.2222222222222222,
              "#7201a8"
             ],
             [
              0.3333333333333333,
              "#9c179e"
             ],
             [
              0.4444444444444444,
              "#bd3786"
             ],
             [
              0.5555555555555556,
              "#d8576b"
             ],
             [
              0.6666666666666666,
              "#ed7953"
             ],
             [
              0.7777777777777778,
              "#fb9f3a"
             ],
             [
              0.8888888888888888,
              "#fdca26"
             ],
             [
              1,
              "#f0f921"
             ]
            ],
            "type": "contour"
           }
          ],
          "contourcarpet": [
           {
            "colorbar": {
             "outlinewidth": 0,
             "ticks": ""
            },
            "type": "contourcarpet"
           }
          ],
          "heatmap": [
           {
            "colorbar": {
             "outlinewidth": 0,
             "ticks": ""
            },
            "colorscale": [
             [
              0,
              "#0d0887"
             ],
             [
              0.1111111111111111,
              "#46039f"
             ],
             [
              0.2222222222222222,
              "#7201a8"
             ],
             [
              0.3333333333333333,
              "#9c179e"
             ],
             [
              0.4444444444444444,
              "#bd3786"
             ],
             [
              0.5555555555555556,
              "#d8576b"
             ],
             [
              0.6666666666666666,
              "#ed7953"
             ],
             [
              0.7777777777777778,
              "#fb9f3a"
             ],
             [
              0.8888888888888888,
              "#fdca26"
             ],
             [
              1,
              "#f0f921"
             ]
            ],
            "type": "heatmap"
           }
          ],
          "heatmapgl": [
           {
            "colorbar": {
             "outlinewidth": 0,
             "ticks": ""
            },
            "colorscale": [
             [
              0,
              "#0d0887"
             ],
             [
              0.1111111111111111,
              "#46039f"
             ],
             [
              0.2222222222222222,
              "#7201a8"
             ],
             [
              0.3333333333333333,
              "#9c179e"
             ],
             [
              0.4444444444444444,
              "#bd3786"
             ],
             [
              0.5555555555555556,
              "#d8576b"
             ],
             [
              0.6666666666666666,
              "#ed7953"
             ],
             [
              0.7777777777777778,
              "#fb9f3a"
             ],
             [
              0.8888888888888888,
              "#fdca26"
             ],
             [
              1,
              "#f0f921"
             ]
            ],
            "type": "heatmapgl"
           }
          ],
          "histogram": [
           {
            "marker": {
             "pattern": {
              "fillmode": "overlay",
              "size": 10,
              "solidity": 0.2
             }
            },
            "type": "histogram"
           }
          ],
          "histogram2d": [
           {
            "colorbar": {
             "outlinewidth": 0,
             "ticks": ""
            },
            "colorscale": [
             [
              0,
              "#0d0887"
             ],
             [
              0.1111111111111111,
              "#46039f"
             ],
             [
              0.2222222222222222,
              "#7201a8"
             ],
             [
              0.3333333333333333,
              "#9c179e"
             ],
             [
              0.4444444444444444,
              "#bd3786"
             ],
             [
              0.5555555555555556,
              "#d8576b"
             ],
             [
              0.6666666666666666,
              "#ed7953"
             ],
             [
              0.7777777777777778,
              "#fb9f3a"
             ],
             [
              0.8888888888888888,
              "#fdca26"
             ],
             [
              1,
              "#f0f921"
             ]
            ],
            "type": "histogram2d"
           }
          ],
          "histogram2dcontour": [
           {
            "colorbar": {
             "outlinewidth": 0,
             "ticks": ""
            },
            "colorscale": [
             [
              0,
              "#0d0887"
             ],
             [
              0.1111111111111111,
              "#46039f"
             ],
             [
              0.2222222222222222,
              "#7201a8"
             ],
             [
              0.3333333333333333,
              "#9c179e"
             ],
             [
              0.4444444444444444,
              "#bd3786"
             ],
             [
              0.5555555555555556,
              "#d8576b"
             ],
             [
              0.6666666666666666,
              "#ed7953"
             ],
             [
              0.7777777777777778,
              "#fb9f3a"
             ],
             [
              0.8888888888888888,
              "#fdca26"
             ],
             [
              1,
              "#f0f921"
             ]
            ],
            "type": "histogram2dcontour"
           }
          ],
          "mesh3d": [
           {
            "colorbar": {
             "outlinewidth": 0,
             "ticks": ""
            },
            "type": "mesh3d"
           }
          ],
          "parcoords": [
           {
            "line": {
             "colorbar": {
              "outlinewidth": 0,
              "ticks": ""
             }
            },
            "type": "parcoords"
           }
          ],
          "pie": [
           {
            "automargin": true,
            "type": "pie"
           }
          ],
          "scatter": [
           {
            "marker": {
             "colorbar": {
              "outlinewidth": 0,
              "ticks": ""
             }
            },
            "type": "scatter"
           }
          ],
          "scatter3d": [
           {
            "line": {
             "colorbar": {
              "outlinewidth": 0,
              "ticks": ""
             }
            },
            "marker": {
             "colorbar": {
              "outlinewidth": 0,
              "ticks": ""
             }
            },
            "type": "scatter3d"
           }
          ],
          "scattercarpet": [
           {
            "marker": {
             "colorbar": {
              "outlinewidth": 0,
              "ticks": ""
             }
            },
            "type": "scattercarpet"
           }
          ],
          "scattergeo": [
           {
            "marker": {
             "colorbar": {
              "outlinewidth": 0,
              "ticks": ""
             }
            },
            "type": "scattergeo"
           }
          ],
          "scattergl": [
           {
            "marker": {
             "colorbar": {
              "outlinewidth": 0,
              "ticks": ""
             }
            },
            "type": "scattergl"
           }
          ],
          "scattermapbox": [
           {
            "marker": {
             "colorbar": {
              "outlinewidth": 0,
              "ticks": ""
             }
            },
            "type": "scattermapbox"
           }
          ],
          "scatterpolar": [
           {
            "marker": {
             "colorbar": {
              "outlinewidth": 0,
              "ticks": ""
             }
            },
            "type": "scatterpolar"
           }
          ],
          "scatterpolargl": [
           {
            "marker": {
             "colorbar": {
              "outlinewidth": 0,
              "ticks": ""
             }
            },
            "type": "scatterpolargl"
           }
          ],
          "scatterternary": [
           {
            "marker": {
             "colorbar": {
              "outlinewidth": 0,
              "ticks": ""
             }
            },
            "type": "scatterternary"
           }
          ],
          "surface": [
           {
            "colorbar": {
             "outlinewidth": 0,
             "ticks": ""
            },
            "colorscale": [
             [
              0,
              "#0d0887"
             ],
             [
              0.1111111111111111,
              "#46039f"
             ],
             [
              0.2222222222222222,
              "#7201a8"
             ],
             [
              0.3333333333333333,
              "#9c179e"
             ],
             [
              0.4444444444444444,
              "#bd3786"
             ],
             [
              0.5555555555555556,
              "#d8576b"
             ],
             [
              0.6666666666666666,
              "#ed7953"
             ],
             [
              0.7777777777777778,
              "#fb9f3a"
             ],
             [
              0.8888888888888888,
              "#fdca26"
             ],
             [
              1,
              "#f0f921"
             ]
            ],
            "type": "surface"
           }
          ],
          "table": [
           {
            "cells": {
             "fill": {
              "color": "#EBF0F8"
             },
             "line": {
              "color": "white"
             }
            },
            "header": {
             "fill": {
              "color": "#C8D4E3"
             },
             "line": {
              "color": "white"
             }
            },
            "type": "table"
           }
          ]
         },
         "layout": {
          "annotationdefaults": {
           "arrowcolor": "#2a3f5f",
           "arrowhead": 0,
           "arrowwidth": 1
          },
          "autotypenumbers": "strict",
          "coloraxis": {
           "colorbar": {
            "outlinewidth": 0,
            "ticks": ""
           }
          },
          "colorscale": {
           "diverging": [
            [
             0,
             "#8e0152"
            ],
            [
             0.1,
             "#c51b7d"
            ],
            [
             0.2,
             "#de77ae"
            ],
            [
             0.3,
             "#f1b6da"
            ],
            [
             0.4,
             "#fde0ef"
            ],
            [
             0.5,
             "#f7f7f7"
            ],
            [
             0.6,
             "#e6f5d0"
            ],
            [
             0.7,
             "#b8e186"
            ],
            [
             0.8,
             "#7fbc41"
            ],
            [
             0.9,
             "#4d9221"
            ],
            [
             1,
             "#276419"
            ]
           ],
           "sequential": [
            [
             0,
             "#0d0887"
            ],
            [
             0.1111111111111111,
             "#46039f"
            ],
            [
             0.2222222222222222,
             "#7201a8"
            ],
            [
             0.3333333333333333,
             "#9c179e"
            ],
            [
             0.4444444444444444,
             "#bd3786"
            ],
            [
             0.5555555555555556,
             "#d8576b"
            ],
            [
             0.6666666666666666,
             "#ed7953"
            ],
            [
             0.7777777777777778,
             "#fb9f3a"
            ],
            [
             0.8888888888888888,
             "#fdca26"
            ],
            [
             1,
             "#f0f921"
            ]
           ],
           "sequentialminus": [
            [
             0,
             "#0d0887"
            ],
            [
             0.1111111111111111,
             "#46039f"
            ],
            [
             0.2222222222222222,
             "#7201a8"
            ],
            [
             0.3333333333333333,
             "#9c179e"
            ],
            [
             0.4444444444444444,
             "#bd3786"
            ],
            [
             0.5555555555555556,
             "#d8576b"
            ],
            [
             0.6666666666666666,
             "#ed7953"
            ],
            [
             0.7777777777777778,
             "#fb9f3a"
            ],
            [
             0.8888888888888888,
             "#fdca26"
            ],
            [
             1,
             "#f0f921"
            ]
           ]
          },
          "colorway": [
           "#636efa",
           "#EF553B",
           "#00cc96",
           "#ab63fa",
           "#FFA15A",
           "#19d3f3",
           "#FF6692",
           "#B6E880",
           "#FF97FF",
           "#FECB52"
          ],
          "font": {
           "color": "#2a3f5f"
          },
          "geo": {
           "bgcolor": "white",
           "lakecolor": "white",
           "landcolor": "#E5ECF6",
           "showlakes": true,
           "showland": true,
           "subunitcolor": "white"
          },
          "hoverlabel": {
           "align": "left"
          },
          "hovermode": "closest",
          "mapbox": {
           "style": "light"
          },
          "paper_bgcolor": "white",
          "plot_bgcolor": "#E5ECF6",
          "polar": {
           "angularaxis": {
            "gridcolor": "white",
            "linecolor": "white",
            "ticks": ""
           },
           "bgcolor": "#E5ECF6",
           "radialaxis": {
            "gridcolor": "white",
            "linecolor": "white",
            "ticks": ""
           }
          },
          "scene": {
           "xaxis": {
            "backgroundcolor": "#E5ECF6",
            "gridcolor": "white",
            "gridwidth": 2,
            "linecolor": "white",
            "showbackground": true,
            "ticks": "",
            "zerolinecolor": "white"
           },
           "yaxis": {
            "backgroundcolor": "#E5ECF6",
            "gridcolor": "white",
            "gridwidth": 2,
            "linecolor": "white",
            "showbackground": true,
            "ticks": "",
            "zerolinecolor": "white"
           },
           "zaxis": {
            "backgroundcolor": "#E5ECF6",
            "gridcolor": "white",
            "gridwidth": 2,
            "linecolor": "white",
            "showbackground": true,
            "ticks": "",
            "zerolinecolor": "white"
           }
          },
          "shapedefaults": {
           "line": {
            "color": "#2a3f5f"
           }
          },
          "ternary": {
           "aaxis": {
            "gridcolor": "white",
            "linecolor": "white",
            "ticks": ""
           },
           "baxis": {
            "gridcolor": "white",
            "linecolor": "white",
            "ticks": ""
           },
           "bgcolor": "#E5ECF6",
           "caxis": {
            "gridcolor": "white",
            "linecolor": "white",
            "ticks": ""
           }
          },
          "title": {
           "x": 0.05
          },
          "xaxis": {
           "automargin": true,
           "gridcolor": "white",
           "linecolor": "white",
           "ticks": "",
           "title": {
            "standoff": 15
           },
           "zerolinecolor": "white",
           "zerolinewidth": 2
          },
          "yaxis": {
           "automargin": true,
           "gridcolor": "white",
           "linecolor": "white",
           "ticks": "",
           "title": {
            "standoff": 15
           },
           "zerolinecolor": "white",
           "zerolinewidth": 2
          }
         }
        },
        "title": {
         "text": "Distribution of IMBD Ratings",
         "x": 0.5
        },
        "xaxis": {
         "anchor": "y",
         "domain": [
          0,
          1
         ],
         "title": {
          "text": "imbd_rating"
         }
        },
        "yaxis": {
         "anchor": "x",
         "domain": [
          0,
          1
         ],
         "title": {
          "text": "count"
         }
        }
       }
      },
      "text/html": [
       "<div>                            <div id=\"1904d26e-1b7b-421d-be3a-45f37496bbe6\" class=\"plotly-graph-div\" style=\"height:525px; width:100%;\"></div>            <script type=\"text/javascript\">                require([\"plotly\"], function(Plotly) {                    window.PLOTLYENV=window.PLOTLYENV || {};                                    if (document.getElementById(\"1904d26e-1b7b-421d-be3a-45f37496bbe6\")) {                    Plotly.newPlot(                        \"1904d26e-1b7b-421d-be3a-45f37496bbe6\",                        [{\"alignmentgroup\":\"True\",\"bingroup\":\"x\",\"hovertemplate\":\"variable=imdb_rating<br>imbd_rating=%{x}<br>count=%{y}<extra></extra>\",\"legendgroup\":\"imdb_rating\",\"marker\":{\"color\":\"#636efa\",\"pattern\":{\"shape\":\"\"}},\"name\":\"imdb_rating\",\"nbinsx\":40,\"offsetgroup\":\"imdb_rating\",\"orientation\":\"v\",\"showlegend\":true,\"type\":\"histogram\",\"x\":[7.3,6.2,5.7,5.8,4.9,6.3,7.2,7.2,7.6,6.8,4.7,7.0,6.1,7.1,4.2,7.0,8.0,6.4,5.9,7.4,6.4,6.4,7.6,6.2,7.1,6.2,4.8,7.9,6.6,6.4,7.3,6.7,7.7,null,5.9,6.8,5.1,6.9,7.1,5.9,7.8,null,6.8,6.3,7.3,6.1,7.5,null,6.7,7.6,8.0,5.4,6.1,6.3,7.1,6.0,7.4,8.3,6.3,5.5,6.4,6.6,null,7.8,null,6.2,null,6.6,6.9,5.3,9.7,7.3,6.8,null,6.8,null,7.0,8.1,8.3,7.1,6.3,7.5,null,7.1,6.8,6.2,5.8,7.3,null,7.7,5.5,6.1,5.2,5.2,5.0,6.8,6.7,null,7.1,6.1,6.7,null,6.4,null,null,null,null,null,6.3,6.3,6.8,null,6.2,6.6,6.4,6.4,5.9,5.9,6.1,7.3,5.7,7.6,7.4,7.3,5.0,5.9,7.5,6.6,8.4,null,4.3,4.6,7.5,7.0,5.7,null,7.4,5.2,4.8,4.9,7.2,7.6,6.8,7.0,8.1,7.0,7.4,6.5,6.7,7.9,7.9,5.5,6.2,6.5,6.0,7.8,5.7,6.0,7.1,3.5,5.4,6.4,6.7,null,6.1,6.1,5.4,5.5,null,5.5,8.9,null,6.0,7.6,5.6,4.6,null,6.1,null,6.4,7.8,null,5.7,7.5,6.5,8.2,null,null,6.7,7.4,8.0,5.9,6.1,6.5,null,6.4,6.1,6.8,null,7.5,6.2,8.1,null,null,6.6,7.2,6.2,6.5,7.8,6.6,6.1,6.8,null,7.6,7.4,7.2,7.2,7.3,7.3,6.9,7.4,7.4,6.8,5.4,4.7,8.0,null,7.6,7.4,6.9,7.0,6.8,7.0,6.9,6.1,5.0,8.1,8.9,7.2,5.4,6.0,7.5,7.2,7.6,6.2,5.7,8.2,6.9,7.0,6.3,null,5.6,7.4,6.0,7.3,6.4,null,4.7,7.0,6.2,8.3,7.2,6.4,7.6,6.9,8.1,7.2,7.8,7.2,6.4,6.8,7.2,7.3,8.1,null,5.2,4.6,6.9,7.4,7.5,5.3,null,8.0,null,null,null,null,null,7.8,null,null,8.1,null,7.8,6.9,7.3,6.3,6.1,3.7,8.2,5.0,7.5,7.0,5.7,6.6,7.6,5.1,8.1,6.4,6.3,null,5.4,3.3,7.9,5.1,null,7.2,7.2,5.7,6.8,7.0,6.4,6.8,7.9,5.8,null,7.3,8.1,7.3,5.9,6.2,6.8,6.2,6.5,5.6,5.0,2.3,4.4,null,5.4,7.2,6.6,5.1,5.0,5.7,5.7,4.8,7.3,5.4,5.0,4.8,7.3,null,7.8,6.9,7.0,4.5,5.3,5.9,6.9,4.8,6.3,5.0,6.2,8.2,5.1,6.8,5.5,7.0,7.3,7.2,7.1,6.1,5.5,7.5,5.9,6.0,7.0,null,8.1,null,null,8.2,4.1,3.4,7.7,7.6,7.1,6.1,6.7,6.5,6.6,null,5.8,7.6,6.7,7.8,null,5.9,null,6.6,5.5,6.3,1.5,null,7.0,5.3,6.2,5.2,7.4,6.5,3.0,6.3,3.6,7.1,null,7.3,8.2,8.0,null,5.8,8.0,6.6,6.3,7.3,5.9,7.7,6.7,null,5.7,6.5,null,7.5,5.6,7.5,null,7.4,7.5,null,7.5,7.5,6.9,7.1,6.2,6.4,7.0,8.0,4.9,5.6,4.8,7.9,7.2,6.7,6.3,6.6,7.7,6.7,8.7,null,6.4,7.9,null,6.2,null,6.7,7.3,null,null,6.5,5.4,7.4,7.4,8.3,6.8,8.4,5.0,4.6,4.0,4.9,null,5.5,5.1,7.6,null,7.3,7.3,8.4,7.3,7.8,6.9,7.7,6.9,7.5,8.0,7.6,7.9,7.0,7.2,8.0,7.0,7.9,6.9,6.1,7.1,7.9,6.7,7.0,null,6.0,7.4,null,6.2,5.0,4.7,7.0,7.0,6.1,null,null,7.8,6.6,4.1,6.8,6.4,null,8.1,7.7,6.2,6.4,6.6,8.1,null,7.2,6.9,7.9,6.5,5.6,7.1,6.7,6.9,5.8,7.5,7.0,6.0,6.7,7.9,7.1,7.6,5.9,7.3,8.0,6.6,7.3,7.5,7.2,7.6,5.7,7.0,null,8.8,7.0,6.4,6.6,5.1,5.7,6.8,6.5,7.7,7.0,8.5,6.2,6.3,5.5,5.4,7.3,6.7,7.5,6.4,7.3,null,7.2,6.6,7.7,8.8,7.5,5.1,6.9,7.6,7.5,6.6,null,5.9,8.2,7.1,6.7,7.2,6.4,6.7,7.3,5.8,6.5,7.0,7.9,7.4,8.3,null,6.1,7.4,8.4,7.1,7.3,6.6,8.0,6.7,5.7,5.7,null,null,7.7,6.5,6.6,null,null,6.7,4.9,7.4,7.1,6.4,null,8.4,8.5,5.6,5.4,8.1,7.1,6.4,6.8,7.4,5.7,8.0,5.5,5.3,6.7,6.6,6.8,5.9,6.4,7.8,null,5.9,5.6,6.7,4.1,6.3,null,6.2,7.6,7.8,7.8,6.0,7.2,7.2,7.7,6.0,6.2,6.5,6.9,4.9,7.4,7.5,7.7,null,6.9,7.1,7.2,5.1,7.8,7.2,8.2,null,4.8,null,4.7,6.5,6.7,6.3,7.1,7.3,6.4,5.6,5.0,7.2,7.4,6.3,6.7,5.2,7.6,6.5,6.0,8.5,7.1,6.1,6.8,7.0,7.2,6.4,5.8,6.2,5.0,8.0,null,4.9,8.6,6.5,6.1,8.3,7.5,8.1,5.9,8.7,7.9,7.0,6.5,null,6.2,6.1,7.6,6.0,6.2,6.5,5.6,7.1,4.2,6.3,7.0,6.5,7.2,7.6,5.9,7.7,6.6,7.6,5.4,5.8,6.4,6.1,5.9,5.5,4.7,6.8,6.5,6.8,null,6.6,6.2,7.0,8.2,7.3,6.5,6.1,7.1,7.3,8.3,5.5,7.9,6.2,6.4,7.1,5.7,6.4,6.0,7.6,null,6.3,6.8,5.7,5.9,6.1,4.8,5.0,4.7,6.5,6.5,6.9,7.4,6.0,4.1,null,null,7.3,6.2,6.8,8.2,7.3,5.3,6.1,6.6,6.9,6.9,6.7,7.2,7.2,7.4,5.0,7.1,6.9,4.7,9.1,8.6,null,7.1,8.0,7.0,7.6,5.4,4.2,6.0,6.2,6.9,6.6,6.5,8.5,7.6,5.6,6.3,null,7.5,5.5,6.5,7.2,6.5,8.7,7.6,5.9,6.7,7.7,7.6,7.1,7.4,7.6,7.5,6.6,7.9,7.1,7.2,6.1,7.1,6.5,6.7,8.1,4.7,6.2,7.1,7.1,8.1,6.3,5.8,6.4,5.4,6.9,5.8,6.9,6.9,6.5,6.9,5.0,6.5,5.6,4.7,6.7,5.3,5.9,6.5,7.1,null,8.7,7.8,8.0,6.7,8.0,6.1,5.3,6.5,6.3,6.1,6.1,7.2,6.0,6.5,6.4,6.3,7.2,6.7,7.6,5.9,7.7,5.3,7.1,6.5,5.5,7.9,5.6,6.8,null,7.2,7.5,null,6.0,5.4,null,6.3,6.2,8.0,6.1,7.1,6.5,6.8,6.9,6.7,7.2,7.0,8.1,5.5,8.3,7.9,8.3,7.8,7.3,null,7.1,6.4,7.1,6.9,6.3,7.2,null,6.8,8.2,6.8,7.5,6.6,7.1,6.2,7.4,5.5,5.7,5.8,5.3,null,7.7,8.2,5.6,5.5,7.1,5.2,7.6,8.4,null,6.9,5.4,5.0,6.7,7.7,6.6,null,null,null,7.3,null,6.5,7.2,6.8,6.5,7.4,6.8,6.2,8.0,null,7.7,7.9,null,7.5,6.9,4.7,6.1,7.1,6.3,5.1,6.4,5.9,5.5,8.0],\"xaxis\":\"x\",\"yaxis\":\"y\"}],                        {\"barmode\":\"relative\",\"legend\":{\"title\":{\"text\":\"variable\"},\"tracegroupgap\":0},\"margin\":{\"t\":60},\"template\":{\"data\":{\"bar\":[{\"error_x\":{\"color\":\"#2a3f5f\"},\"error_y\":{\"color\":\"#2a3f5f\"},\"marker\":{\"line\":{\"color\":\"#E5ECF6\",\"width\":0.5},\"pattern\":{\"fillmode\":\"overlay\",\"size\":10,\"solidity\":0.2}},\"type\":\"bar\"}],\"barpolar\":[{\"marker\":{\"line\":{\"color\":\"#E5ECF6\",\"width\":0.5},\"pattern\":{\"fillmode\":\"overlay\",\"size\":10,\"solidity\":0.2}},\"type\":\"barpolar\"}],\"carpet\":[{\"aaxis\":{\"endlinecolor\":\"#2a3f5f\",\"gridcolor\":\"white\",\"linecolor\":\"white\",\"minorgridcolor\":\"white\",\"startlinecolor\":\"#2a3f5f\"},\"baxis\":{\"endlinecolor\":\"#2a3f5f\",\"gridcolor\":\"white\",\"linecolor\":\"white\",\"minorgridcolor\":\"white\",\"startlinecolor\":\"#2a3f5f\"},\"type\":\"carpet\"}],\"choropleth\":[{\"colorbar\":{\"outlinewidth\":0,\"ticks\":\"\"},\"type\":\"choropleth\"}],\"contour\":[{\"colorbar\":{\"outlinewidth\":0,\"ticks\":\"\"},\"colorscale\":[[0.0,\"#0d0887\"],[0.1111111111111111,\"#46039f\"],[0.2222222222222222,\"#7201a8\"],[0.3333333333333333,\"#9c179e\"],[0.4444444444444444,\"#bd3786\"],[0.5555555555555556,\"#d8576b\"],[0.6666666666666666,\"#ed7953\"],[0.7777777777777778,\"#fb9f3a\"],[0.8888888888888888,\"#fdca26\"],[1.0,\"#f0f921\"]],\"type\":\"contour\"}],\"contourcarpet\":[{\"colorbar\":{\"outlinewidth\":0,\"ticks\":\"\"},\"type\":\"contourcarpet\"}],\"heatmap\":[{\"colorbar\":{\"outlinewidth\":0,\"ticks\":\"\"},\"colorscale\":[[0.0,\"#0d0887\"],[0.1111111111111111,\"#46039f\"],[0.2222222222222222,\"#7201a8\"],[0.3333333333333333,\"#9c179e\"],[0.4444444444444444,\"#bd3786\"],[0.5555555555555556,\"#d8576b\"],[0.6666666666666666,\"#ed7953\"],[0.7777777777777778,\"#fb9f3a\"],[0.8888888888888888,\"#fdca26\"],[1.0,\"#f0f921\"]],\"type\":\"heatmap\"}],\"heatmapgl\":[{\"colorbar\":{\"outlinewidth\":0,\"ticks\":\"\"},\"colorscale\":[[0.0,\"#0d0887\"],[0.1111111111111111,\"#46039f\"],[0.2222222222222222,\"#7201a8\"],[0.3333333333333333,\"#9c179e\"],[0.4444444444444444,\"#bd3786\"],[0.5555555555555556,\"#d8576b\"],[0.6666666666666666,\"#ed7953\"],[0.7777777777777778,\"#fb9f3a\"],[0.8888888888888888,\"#fdca26\"],[1.0,\"#f0f921\"]],\"type\":\"heatmapgl\"}],\"histogram\":[{\"marker\":{\"pattern\":{\"fillmode\":\"overlay\",\"size\":10,\"solidity\":0.2}},\"type\":\"histogram\"}],\"histogram2d\":[{\"colorbar\":{\"outlinewidth\":0,\"ticks\":\"\"},\"colorscale\":[[0.0,\"#0d0887\"],[0.1111111111111111,\"#46039f\"],[0.2222222222222222,\"#7201a8\"],[0.3333333333333333,\"#9c179e\"],[0.4444444444444444,\"#bd3786\"],[0.5555555555555556,\"#d8576b\"],[0.6666666666666666,\"#ed7953\"],[0.7777777777777778,\"#fb9f3a\"],[0.8888888888888888,\"#fdca26\"],[1.0,\"#f0f921\"]],\"type\":\"histogram2d\"}],\"histogram2dcontour\":[{\"colorbar\":{\"outlinewidth\":0,\"ticks\":\"\"},\"colorscale\":[[0.0,\"#0d0887\"],[0.1111111111111111,\"#46039f\"],[0.2222222222222222,\"#7201a8\"],[0.3333333333333333,\"#9c179e\"],[0.4444444444444444,\"#bd3786\"],[0.5555555555555556,\"#d8576b\"],[0.6666666666666666,\"#ed7953\"],[0.7777777777777778,\"#fb9f3a\"],[0.8888888888888888,\"#fdca26\"],[1.0,\"#f0f921\"]],\"type\":\"histogram2dcontour\"}],\"mesh3d\":[{\"colorbar\":{\"outlinewidth\":0,\"ticks\":\"\"},\"type\":\"mesh3d\"}],\"parcoords\":[{\"line\":{\"colorbar\":{\"outlinewidth\":0,\"ticks\":\"\"}},\"type\":\"parcoords\"}],\"pie\":[{\"automargin\":true,\"type\":\"pie\"}],\"scatter\":[{\"marker\":{\"colorbar\":{\"outlinewidth\":0,\"ticks\":\"\"}},\"type\":\"scatter\"}],\"scatter3d\":[{\"line\":{\"colorbar\":{\"outlinewidth\":0,\"ticks\":\"\"}},\"marker\":{\"colorbar\":{\"outlinewidth\":0,\"ticks\":\"\"}},\"type\":\"scatter3d\"}],\"scattercarpet\":[{\"marker\":{\"colorbar\":{\"outlinewidth\":0,\"ticks\":\"\"}},\"type\":\"scattercarpet\"}],\"scattergeo\":[{\"marker\":{\"colorbar\":{\"outlinewidth\":0,\"ticks\":\"\"}},\"type\":\"scattergeo\"}],\"scattergl\":[{\"marker\":{\"colorbar\":{\"outlinewidth\":0,\"ticks\":\"\"}},\"type\":\"scattergl\"}],\"scattermapbox\":[{\"marker\":{\"colorbar\":{\"outlinewidth\":0,\"ticks\":\"\"}},\"type\":\"scattermapbox\"}],\"scatterpolar\":[{\"marker\":{\"colorbar\":{\"outlinewidth\":0,\"ticks\":\"\"}},\"type\":\"scatterpolar\"}],\"scatterpolargl\":[{\"marker\":{\"colorbar\":{\"outlinewidth\":0,\"ticks\":\"\"}},\"type\":\"scatterpolargl\"}],\"scatterternary\":[{\"marker\":{\"colorbar\":{\"outlinewidth\":0,\"ticks\":\"\"}},\"type\":\"scatterternary\"}],\"surface\":[{\"colorbar\":{\"outlinewidth\":0,\"ticks\":\"\"},\"colorscale\":[[0.0,\"#0d0887\"],[0.1111111111111111,\"#46039f\"],[0.2222222222222222,\"#7201a8\"],[0.3333333333333333,\"#9c179e\"],[0.4444444444444444,\"#bd3786\"],[0.5555555555555556,\"#d8576b\"],[0.6666666666666666,\"#ed7953\"],[0.7777777777777778,\"#fb9f3a\"],[0.8888888888888888,\"#fdca26\"],[1.0,\"#f0f921\"]],\"type\":\"surface\"}],\"table\":[{\"cells\":{\"fill\":{\"color\":\"#EBF0F8\"},\"line\":{\"color\":\"white\"}},\"header\":{\"fill\":{\"color\":\"#C8D4E3\"},\"line\":{\"color\":\"white\"}},\"type\":\"table\"}]},\"layout\":{\"annotationdefaults\":{\"arrowcolor\":\"#2a3f5f\",\"arrowhead\":0,\"arrowwidth\":1},\"autotypenumbers\":\"strict\",\"coloraxis\":{\"colorbar\":{\"outlinewidth\":0,\"ticks\":\"\"}},\"colorscale\":{\"diverging\":[[0,\"#8e0152\"],[0.1,\"#c51b7d\"],[0.2,\"#de77ae\"],[0.3,\"#f1b6da\"],[0.4,\"#fde0ef\"],[0.5,\"#f7f7f7\"],[0.6,\"#e6f5d0\"],[0.7,\"#b8e186\"],[0.8,\"#7fbc41\"],[0.9,\"#4d9221\"],[1,\"#276419\"]],\"sequential\":[[0.0,\"#0d0887\"],[0.1111111111111111,\"#46039f\"],[0.2222222222222222,\"#7201a8\"],[0.3333333333333333,\"#9c179e\"],[0.4444444444444444,\"#bd3786\"],[0.5555555555555556,\"#d8576b\"],[0.6666666666666666,\"#ed7953\"],[0.7777777777777778,\"#fb9f3a\"],[0.8888888888888888,\"#fdca26\"],[1.0,\"#f0f921\"]],\"sequentialminus\":[[0.0,\"#0d0887\"],[0.1111111111111111,\"#46039f\"],[0.2222222222222222,\"#7201a8\"],[0.3333333333333333,\"#9c179e\"],[0.4444444444444444,\"#bd3786\"],[0.5555555555555556,\"#d8576b\"],[0.6666666666666666,\"#ed7953\"],[0.7777777777777778,\"#fb9f3a\"],[0.8888888888888888,\"#fdca26\"],[1.0,\"#f0f921\"]]},\"colorway\":[\"#636efa\",\"#EF553B\",\"#00cc96\",\"#ab63fa\",\"#FFA15A\",\"#19d3f3\",\"#FF6692\",\"#B6E880\",\"#FF97FF\",\"#FECB52\"],\"font\":{\"color\":\"#2a3f5f\"},\"geo\":{\"bgcolor\":\"white\",\"lakecolor\":\"white\",\"landcolor\":\"#E5ECF6\",\"showlakes\":true,\"showland\":true,\"subunitcolor\":\"white\"},\"hoverlabel\":{\"align\":\"left\"},\"hovermode\":\"closest\",\"mapbox\":{\"style\":\"light\"},\"paper_bgcolor\":\"white\",\"plot_bgcolor\":\"#E5ECF6\",\"polar\":{\"angularaxis\":{\"gridcolor\":\"white\",\"linecolor\":\"white\",\"ticks\":\"\"},\"bgcolor\":\"#E5ECF6\",\"radialaxis\":{\"gridcolor\":\"white\",\"linecolor\":\"white\",\"ticks\":\"\"}},\"scene\":{\"xaxis\":{\"backgroundcolor\":\"#E5ECF6\",\"gridcolor\":\"white\",\"gridwidth\":2,\"linecolor\":\"white\",\"showbackground\":true,\"ticks\":\"\",\"zerolinecolor\":\"white\"},\"yaxis\":{\"backgroundcolor\":\"#E5ECF6\",\"gridcolor\":\"white\",\"gridwidth\":2,\"linecolor\":\"white\",\"showbackground\":true,\"ticks\":\"\",\"zerolinecolor\":\"white\"},\"zaxis\":{\"backgroundcolor\":\"#E5ECF6\",\"gridcolor\":\"white\",\"gridwidth\":2,\"linecolor\":\"white\",\"showbackground\":true,\"ticks\":\"\",\"zerolinecolor\":\"white\"}},\"shapedefaults\":{\"line\":{\"color\":\"#2a3f5f\"}},\"ternary\":{\"aaxis\":{\"gridcolor\":\"white\",\"linecolor\":\"white\",\"ticks\":\"\"},\"baxis\":{\"gridcolor\":\"white\",\"linecolor\":\"white\",\"ticks\":\"\"},\"bgcolor\":\"#E5ECF6\",\"caxis\":{\"gridcolor\":\"white\",\"linecolor\":\"white\",\"ticks\":\"\"}},\"title\":{\"x\":0.05},\"xaxis\":{\"automargin\":true,\"gridcolor\":\"white\",\"linecolor\":\"white\",\"ticks\":\"\",\"title\":{\"standoff\":15},\"zerolinecolor\":\"white\",\"zerolinewidth\":2},\"yaxis\":{\"automargin\":true,\"gridcolor\":\"white\",\"linecolor\":\"white\",\"ticks\":\"\",\"title\":{\"standoff\":15},\"zerolinecolor\":\"white\",\"zerolinewidth\":2}}},\"title\":{\"text\":\"Distribution of IMBD Ratings\",\"x\":0.5},\"xaxis\":{\"anchor\":\"y\",\"domain\":[0.0,1.0],\"title\":{\"text\":\"imbd_rating\"}},\"yaxis\":{\"anchor\":\"x\",\"domain\":[0.0,1.0],\"title\":{\"text\":\"count\"}}},                        {\"responsive\": true}                    ).then(function(){\n",
       "                            \n",
       "var gd = document.getElementById('1904d26e-1b7b-421d-be3a-45f37496bbe6');\n",
       "var x = new MutationObserver(function (mutations, observer) {{\n",
       "        var display = window.getComputedStyle(gd).display;\n",
       "        if (!display || display === 'none') {{\n",
       "            console.log([gd, 'removed!']);\n",
       "            Plotly.purge(gd);\n",
       "            observer.disconnect();\n",
       "        }}\n",
       "}});\n",
       "\n",
       "// Listen for the removal of the full notebook cells\n",
       "var notebookContainer = gd.closest('#notebook-container');\n",
       "if (notebookContainer) {{\n",
       "    x.observe(notebookContainer, {childList: true});\n",
       "}}\n",
       "\n",
       "// Listen for the clearing of the current output cell\n",
       "var outputEl = gd.closest('.output');\n",
       "if (outputEl) {{\n",
       "    x.observe(outputEl, {childList: true});\n",
       "}}\n",
       "\n",
       "                        })                };                });            </script>        </div>"
      ]
     },
     "metadata": {},
     "output_type": "display_data"
    }
   ],
   "source": [
    "fig = px.histogram(df['imdb_rating'],nbins=40,labels={'value':'imbd_rating'})\n",
    "fig.update_layout(title='Distribution of IMBD Ratings',title_x=0.5)"
   ]
  },
  {
   "cell_type": "code",
   "execution_count": 5,
   "metadata": {},
   "outputs": [
    {
     "data": {
      "application/vnd.plotly.v1+json": {
       "config": {
        "plotlyServerURL": "https://plot.ly"
       },
       "data": [
        {
         "alignmentgroup": "True",
         "hovertemplate": "imdb_rating=%{y}<extra></extra>",
         "legendgroup": "",
         "marker": {
          "color": "#636efa"
         },
         "name": "",
         "notched": false,
         "offsetgroup": "",
         "orientation": "v",
         "showlegend": false,
         "type": "box",
         "x0": " ",
         "xaxis": "x",
         "y": [
          7.3,
          6.2,
          5.7,
          5.8,
          4.9,
          6.3,
          7.2,
          7.2,
          7.6,
          6.8,
          4.7,
          7,
          6.1,
          7.1,
          4.2,
          7,
          8,
          6.4,
          5.9,
          7.4,
          6.4,
          6.4,
          7.6,
          6.2,
          7.1,
          6.2,
          4.8,
          7.9,
          6.6,
          6.4,
          7.3,
          6.7,
          7.7,
          null,
          5.9,
          6.8,
          5.1,
          6.9,
          7.1,
          5.9,
          7.8,
          null,
          6.8,
          6.3,
          7.3,
          6.1,
          7.5,
          null,
          6.7,
          7.6,
          8,
          5.4,
          6.1,
          6.3,
          7.1,
          6,
          7.4,
          8.3,
          6.3,
          5.5,
          6.4,
          6.6,
          null,
          7.8,
          null,
          6.2,
          null,
          6.6,
          6.9,
          5.3,
          9.7,
          7.3,
          6.8,
          null,
          6.8,
          null,
          7,
          8.1,
          8.3,
          7.1,
          6.3,
          7.5,
          null,
          7.1,
          6.8,
          6.2,
          5.8,
          7.3,
          null,
          7.7,
          5.5,
          6.1,
          5.2,
          5.2,
          5,
          6.8,
          6.7,
          null,
          7.1,
          6.1,
          6.7,
          null,
          6.4,
          null,
          null,
          null,
          null,
          null,
          6.3,
          6.3,
          6.8,
          null,
          6.2,
          6.6,
          6.4,
          6.4,
          5.9,
          5.9,
          6.1,
          7.3,
          5.7,
          7.6,
          7.4,
          7.3,
          5,
          5.9,
          7.5,
          6.6,
          8.4,
          null,
          4.3,
          4.6,
          7.5,
          7,
          5.7,
          null,
          7.4,
          5.2,
          4.8,
          4.9,
          7.2,
          7.6,
          6.8,
          7,
          8.1,
          7,
          7.4,
          6.5,
          6.7,
          7.9,
          7.9,
          5.5,
          6.2,
          6.5,
          6,
          7.8,
          5.7,
          6,
          7.1,
          3.5,
          5.4,
          6.4,
          6.7,
          null,
          6.1,
          6.1,
          5.4,
          5.5,
          null,
          5.5,
          8.9,
          null,
          6,
          7.6,
          5.6,
          4.6,
          null,
          6.1,
          null,
          6.4,
          7.8,
          null,
          5.7,
          7.5,
          6.5,
          8.2,
          null,
          null,
          6.7,
          7.4,
          8,
          5.9,
          6.1,
          6.5,
          null,
          6.4,
          6.1,
          6.8,
          null,
          7.5,
          6.2,
          8.1,
          null,
          null,
          6.6,
          7.2,
          6.2,
          6.5,
          7.8,
          6.6,
          6.1,
          6.8,
          null,
          7.6,
          7.4,
          7.2,
          7.2,
          7.3,
          7.3,
          6.9,
          7.4,
          7.4,
          6.8,
          5.4,
          4.7,
          8,
          null,
          7.6,
          7.4,
          6.9,
          7,
          6.8,
          7,
          6.9,
          6.1,
          5,
          8.1,
          8.9,
          7.2,
          5.4,
          6,
          7.5,
          7.2,
          7.6,
          6.2,
          5.7,
          8.2,
          6.9,
          7,
          6.3,
          null,
          5.6,
          7.4,
          6,
          7.3,
          6.4,
          null,
          4.7,
          7,
          6.2,
          8.3,
          7.2,
          6.4,
          7.6,
          6.9,
          8.1,
          7.2,
          7.8,
          7.2,
          6.4,
          6.8,
          7.2,
          7.3,
          8.1,
          null,
          5.2,
          4.6,
          6.9,
          7.4,
          7.5,
          5.3,
          null,
          8,
          null,
          null,
          null,
          null,
          null,
          7.8,
          null,
          null,
          8.1,
          null,
          7.8,
          6.9,
          7.3,
          6.3,
          6.1,
          3.7,
          8.2,
          5,
          7.5,
          7,
          5.7,
          6.6,
          7.6,
          5.1,
          8.1,
          6.4,
          6.3,
          null,
          5.4,
          3.3,
          7.9,
          5.1,
          null,
          7.2,
          7.2,
          5.7,
          6.8,
          7,
          6.4,
          6.8,
          7.9,
          5.8,
          null,
          7.3,
          8.1,
          7.3,
          5.9,
          6.2,
          6.8,
          6.2,
          6.5,
          5.6,
          5,
          2.3,
          4.4,
          null,
          5.4,
          7.2,
          6.6,
          5.1,
          5,
          5.7,
          5.7,
          4.8,
          7.3,
          5.4,
          5,
          4.8,
          7.3,
          null,
          7.8,
          6.9,
          7,
          4.5,
          5.3,
          5.9,
          6.9,
          4.8,
          6.3,
          5,
          6.2,
          8.2,
          5.1,
          6.8,
          5.5,
          7,
          7.3,
          7.2,
          7.1,
          6.1,
          5.5,
          7.5,
          5.9,
          6,
          7,
          null,
          8.1,
          null,
          null,
          8.2,
          4.1,
          3.4,
          7.7,
          7.6,
          7.1,
          6.1,
          6.7,
          6.5,
          6.6,
          null,
          5.8,
          7.6,
          6.7,
          7.8,
          null,
          5.9,
          null,
          6.6,
          5.5,
          6.3,
          1.5,
          null,
          7,
          5.3,
          6.2,
          5.2,
          7.4,
          6.5,
          3,
          6.3,
          3.6,
          7.1,
          null,
          7.3,
          8.2,
          8,
          null,
          5.8,
          8,
          6.6,
          6.3,
          7.3,
          5.9,
          7.7,
          6.7,
          null,
          5.7,
          6.5,
          null,
          7.5,
          5.6,
          7.5,
          null,
          7.4,
          7.5,
          null,
          7.5,
          7.5,
          6.9,
          7.1,
          6.2,
          6.4,
          7,
          8,
          4.9,
          5.6,
          4.8,
          7.9,
          7.2,
          6.7,
          6.3,
          6.6,
          7.7,
          6.7,
          8.7,
          null,
          6.4,
          7.9,
          null,
          6.2,
          null,
          6.7,
          7.3,
          null,
          null,
          6.5,
          5.4,
          7.4,
          7.4,
          8.3,
          6.8,
          8.4,
          5,
          4.6,
          4,
          4.9,
          null,
          5.5,
          5.1,
          7.6,
          null,
          7.3,
          7.3,
          8.4,
          7.3,
          7.8,
          6.9,
          7.7,
          6.9,
          7.5,
          8,
          7.6,
          7.9,
          7,
          7.2,
          8,
          7,
          7.9,
          6.9,
          6.1,
          7.1,
          7.9,
          6.7,
          7,
          null,
          6,
          7.4,
          null,
          6.2,
          5,
          4.7,
          7,
          7,
          6.1,
          null,
          null,
          7.8,
          6.6,
          4.1,
          6.8,
          6.4,
          null,
          8.1,
          7.7,
          6.2,
          6.4,
          6.6,
          8.1,
          null,
          7.2,
          6.9,
          7.9,
          6.5,
          5.6,
          7.1,
          6.7,
          6.9,
          5.8,
          7.5,
          7,
          6,
          6.7,
          7.9,
          7.1,
          7.6,
          5.9,
          7.3,
          8,
          6.6,
          7.3,
          7.5,
          7.2,
          7.6,
          5.7,
          7,
          null,
          8.8,
          7,
          6.4,
          6.6,
          5.1,
          5.7,
          6.8,
          6.5,
          7.7,
          7,
          8.5,
          6.2,
          6.3,
          5.5,
          5.4,
          7.3,
          6.7,
          7.5,
          6.4,
          7.3,
          null,
          7.2,
          6.6,
          7.7,
          8.8,
          7.5,
          5.1,
          6.9,
          7.6,
          7.5,
          6.6,
          null,
          5.9,
          8.2,
          7.1,
          6.7,
          7.2,
          6.4,
          6.7,
          7.3,
          5.8,
          6.5,
          7,
          7.9,
          7.4,
          8.3,
          null,
          6.1,
          7.4,
          8.4,
          7.1,
          7.3,
          6.6,
          8,
          6.7,
          5.7,
          5.7,
          null,
          null,
          7.7,
          6.5,
          6.6,
          null,
          null,
          6.7,
          4.9,
          7.4,
          7.1,
          6.4,
          null,
          8.4,
          8.5,
          5.6,
          5.4,
          8.1,
          7.1,
          6.4,
          6.8,
          7.4,
          5.7,
          8,
          5.5,
          5.3,
          6.7,
          6.6,
          6.8,
          5.9,
          6.4,
          7.8,
          null,
          5.9,
          5.6,
          6.7,
          4.1,
          6.3,
          null,
          6.2,
          7.6,
          7.8,
          7.8,
          6,
          7.2,
          7.2,
          7.7,
          6,
          6.2,
          6.5,
          6.9,
          4.9,
          7.4,
          7.5,
          7.7,
          null,
          6.9,
          7.1,
          7.2,
          5.1,
          7.8,
          7.2,
          8.2,
          null,
          4.8,
          null,
          4.7,
          6.5,
          6.7,
          6.3,
          7.1,
          7.3,
          6.4,
          5.6,
          5,
          7.2,
          7.4,
          6.3,
          6.7,
          5.2,
          7.6,
          6.5,
          6,
          8.5,
          7.1,
          6.1,
          6.8,
          7,
          7.2,
          6.4,
          5.8,
          6.2,
          5,
          8,
          null,
          4.9,
          8.6,
          6.5,
          6.1,
          8.3,
          7.5,
          8.1,
          5.9,
          8.7,
          7.9,
          7,
          6.5,
          null,
          6.2,
          6.1,
          7.6,
          6,
          6.2,
          6.5,
          5.6,
          7.1,
          4.2,
          6.3,
          7,
          6.5,
          7.2,
          7.6,
          5.9,
          7.7,
          6.6,
          7.6,
          5.4,
          5.8,
          6.4,
          6.1,
          5.9,
          5.5,
          4.7,
          6.8,
          6.5,
          6.8,
          null,
          6.6,
          6.2,
          7,
          8.2,
          7.3,
          6.5,
          6.1,
          7.1,
          7.3,
          8.3,
          5.5,
          7.9,
          6.2,
          6.4,
          7.1,
          5.7,
          6.4,
          6,
          7.6,
          null,
          6.3,
          6.8,
          5.7,
          5.9,
          6.1,
          4.8,
          5,
          4.7,
          6.5,
          6.5,
          6.9,
          7.4,
          6,
          4.1,
          null,
          null,
          7.3,
          6.2,
          6.8,
          8.2,
          7.3,
          5.3,
          6.1,
          6.6,
          6.9,
          6.9,
          6.7,
          7.2,
          7.2,
          7.4,
          5,
          7.1,
          6.9,
          4.7,
          9.1,
          8.6,
          null,
          7.1,
          8,
          7,
          7.6,
          5.4,
          4.2,
          6,
          6.2,
          6.9,
          6.6,
          6.5,
          8.5,
          7.6,
          5.6,
          6.3,
          null,
          7.5,
          5.5,
          6.5,
          7.2,
          6.5,
          8.7,
          7.6,
          5.9,
          6.7,
          7.7,
          7.6,
          7.1,
          7.4,
          7.6,
          7.5,
          6.6,
          7.9,
          7.1,
          7.2,
          6.1,
          7.1,
          6.5,
          6.7,
          8.1,
          4.7,
          6.2,
          7.1,
          7.1,
          8.1,
          6.3,
          5.8,
          6.4,
          5.4,
          6.9,
          5.8,
          6.9,
          6.9,
          6.5,
          6.9,
          5,
          6.5,
          5.6,
          4.7,
          6.7,
          5.3,
          5.9,
          6.5,
          7.1,
          null,
          8.7,
          7.8,
          8,
          6.7,
          8,
          6.1,
          5.3,
          6.5,
          6.3,
          6.1,
          6.1,
          7.2,
          6,
          6.5,
          6.4,
          6.3,
          7.2,
          6.7,
          7.6,
          5.9,
          7.7,
          5.3,
          7.1,
          6.5,
          5.5,
          7.9,
          5.6,
          6.8,
          null,
          7.2,
          7.5,
          null,
          6,
          5.4,
          null,
          6.3,
          6.2,
          8,
          6.1,
          7.1,
          6.5,
          6.8,
          6.9,
          6.7,
          7.2,
          7,
          8.1,
          5.5,
          8.3,
          7.9,
          8.3,
          7.8,
          7.3,
          null,
          7.1,
          6.4,
          7.1,
          6.9,
          6.3,
          7.2,
          null,
          6.8,
          8.2,
          6.8,
          7.5,
          6.6,
          7.1,
          6.2,
          7.4,
          5.5,
          5.7,
          5.8,
          5.3,
          null,
          7.7,
          8.2,
          5.6,
          5.5,
          7.1,
          5.2,
          7.6,
          8.4,
          null,
          6.9,
          5.4,
          5,
          6.7,
          7.7,
          6.6,
          null,
          null,
          null,
          7.3,
          null,
          6.5,
          7.2,
          6.8,
          6.5,
          7.4,
          6.8,
          6.2,
          8,
          null,
          7.7,
          7.9,
          null,
          7.5,
          6.9,
          4.7,
          6.1,
          7.1,
          6.3,
          5.1,
          6.4,
          5.9,
          5.5,
          8
         ],
         "y0": " ",
         "yaxis": "y"
        }
       ],
       "layout": {
        "boxmode": "group",
        "legend": {
         "tracegroupgap": 0
        },
        "margin": {
         "t": 60
        },
        "template": {
         "data": {
          "bar": [
           {
            "error_x": {
             "color": "#2a3f5f"
            },
            "error_y": {
             "color": "#2a3f5f"
            },
            "marker": {
             "line": {
              "color": "#E5ECF6",
              "width": 0.5
             },
             "pattern": {
              "fillmode": "overlay",
              "size": 10,
              "solidity": 0.2
             }
            },
            "type": "bar"
           }
          ],
          "barpolar": [
           {
            "marker": {
             "line": {
              "color": "#E5ECF6",
              "width": 0.5
             },
             "pattern": {
              "fillmode": "overlay",
              "size": 10,
              "solidity": 0.2
             }
            },
            "type": "barpolar"
           }
          ],
          "carpet": [
           {
            "aaxis": {
             "endlinecolor": "#2a3f5f",
             "gridcolor": "white",
             "linecolor": "white",
             "minorgridcolor": "white",
             "startlinecolor": "#2a3f5f"
            },
            "baxis": {
             "endlinecolor": "#2a3f5f",
             "gridcolor": "white",
             "linecolor": "white",
             "minorgridcolor": "white",
             "startlinecolor": "#2a3f5f"
            },
            "type": "carpet"
           }
          ],
          "choropleth": [
           {
            "colorbar": {
             "outlinewidth": 0,
             "ticks": ""
            },
            "type": "choropleth"
           }
          ],
          "contour": [
           {
            "colorbar": {
             "outlinewidth": 0,
             "ticks": ""
            },
            "colorscale": [
             [
              0,
              "#0d0887"
             ],
             [
              0.1111111111111111,
              "#46039f"
             ],
             [
              0.2222222222222222,
              "#7201a8"
             ],
             [
              0.3333333333333333,
              "#9c179e"
             ],
             [
              0.4444444444444444,
              "#bd3786"
             ],
             [
              0.5555555555555556,
              "#d8576b"
             ],
             [
              0.6666666666666666,
              "#ed7953"
             ],
             [
              0.7777777777777778,
              "#fb9f3a"
             ],
             [
              0.8888888888888888,
              "#fdca26"
             ],
             [
              1,
              "#f0f921"
             ]
            ],
            "type": "contour"
           }
          ],
          "contourcarpet": [
           {
            "colorbar": {
             "outlinewidth": 0,
             "ticks": ""
            },
            "type": "contourcarpet"
           }
          ],
          "heatmap": [
           {
            "colorbar": {
             "outlinewidth": 0,
             "ticks": ""
            },
            "colorscale": [
             [
              0,
              "#0d0887"
             ],
             [
              0.1111111111111111,
              "#46039f"
             ],
             [
              0.2222222222222222,
              "#7201a8"
             ],
             [
              0.3333333333333333,
              "#9c179e"
             ],
             [
              0.4444444444444444,
              "#bd3786"
             ],
             [
              0.5555555555555556,
              "#d8576b"
             ],
             [
              0.6666666666666666,
              "#ed7953"
             ],
             [
              0.7777777777777778,
              "#fb9f3a"
             ],
             [
              0.8888888888888888,
              "#fdca26"
             ],
             [
              1,
              "#f0f921"
             ]
            ],
            "type": "heatmap"
           }
          ],
          "heatmapgl": [
           {
            "colorbar": {
             "outlinewidth": 0,
             "ticks": ""
            },
            "colorscale": [
             [
              0,
              "#0d0887"
             ],
             [
              0.1111111111111111,
              "#46039f"
             ],
             [
              0.2222222222222222,
              "#7201a8"
             ],
             [
              0.3333333333333333,
              "#9c179e"
             ],
             [
              0.4444444444444444,
              "#bd3786"
             ],
             [
              0.5555555555555556,
              "#d8576b"
             ],
             [
              0.6666666666666666,
              "#ed7953"
             ],
             [
              0.7777777777777778,
              "#fb9f3a"
             ],
             [
              0.8888888888888888,
              "#fdca26"
             ],
             [
              1,
              "#f0f921"
             ]
            ],
            "type": "heatmapgl"
           }
          ],
          "histogram": [
           {
            "marker": {
             "pattern": {
              "fillmode": "overlay",
              "size": 10,
              "solidity": 0.2
             }
            },
            "type": "histogram"
           }
          ],
          "histogram2d": [
           {
            "colorbar": {
             "outlinewidth": 0,
             "ticks": ""
            },
            "colorscale": [
             [
              0,
              "#0d0887"
             ],
             [
              0.1111111111111111,
              "#46039f"
             ],
             [
              0.2222222222222222,
              "#7201a8"
             ],
             [
              0.3333333333333333,
              "#9c179e"
             ],
             [
              0.4444444444444444,
              "#bd3786"
             ],
             [
              0.5555555555555556,
              "#d8576b"
             ],
             [
              0.6666666666666666,
              "#ed7953"
             ],
             [
              0.7777777777777778,
              "#fb9f3a"
             ],
             [
              0.8888888888888888,
              "#fdca26"
             ],
             [
              1,
              "#f0f921"
             ]
            ],
            "type": "histogram2d"
           }
          ],
          "histogram2dcontour": [
           {
            "colorbar": {
             "outlinewidth": 0,
             "ticks": ""
            },
            "colorscale": [
             [
              0,
              "#0d0887"
             ],
             [
              0.1111111111111111,
              "#46039f"
             ],
             [
              0.2222222222222222,
              "#7201a8"
             ],
             [
              0.3333333333333333,
              "#9c179e"
             ],
             [
              0.4444444444444444,
              "#bd3786"
             ],
             [
              0.5555555555555556,
              "#d8576b"
             ],
             [
              0.6666666666666666,
              "#ed7953"
             ],
             [
              0.7777777777777778,
              "#fb9f3a"
             ],
             [
              0.8888888888888888,
              "#fdca26"
             ],
             [
              1,
              "#f0f921"
             ]
            ],
            "type": "histogram2dcontour"
           }
          ],
          "mesh3d": [
           {
            "colorbar": {
             "outlinewidth": 0,
             "ticks": ""
            },
            "type": "mesh3d"
           }
          ],
          "parcoords": [
           {
            "line": {
             "colorbar": {
              "outlinewidth": 0,
              "ticks": ""
             }
            },
            "type": "parcoords"
           }
          ],
          "pie": [
           {
            "automargin": true,
            "type": "pie"
           }
          ],
          "scatter": [
           {
            "marker": {
             "colorbar": {
              "outlinewidth": 0,
              "ticks": ""
             }
            },
            "type": "scatter"
           }
          ],
          "scatter3d": [
           {
            "line": {
             "colorbar": {
              "outlinewidth": 0,
              "ticks": ""
             }
            },
            "marker": {
             "colorbar": {
              "outlinewidth": 0,
              "ticks": ""
             }
            },
            "type": "scatter3d"
           }
          ],
          "scattercarpet": [
           {
            "marker": {
             "colorbar": {
              "outlinewidth": 0,
              "ticks": ""
             }
            },
            "type": "scattercarpet"
           }
          ],
          "scattergeo": [
           {
            "marker": {
             "colorbar": {
              "outlinewidth": 0,
              "ticks": ""
             }
            },
            "type": "scattergeo"
           }
          ],
          "scattergl": [
           {
            "marker": {
             "colorbar": {
              "outlinewidth": 0,
              "ticks": ""
             }
            },
            "type": "scattergl"
           }
          ],
          "scattermapbox": [
           {
            "marker": {
             "colorbar": {
              "outlinewidth": 0,
              "ticks": ""
             }
            },
            "type": "scattermapbox"
           }
          ],
          "scatterpolar": [
           {
            "marker": {
             "colorbar": {
              "outlinewidth": 0,
              "ticks": ""
             }
            },
            "type": "scatterpolar"
           }
          ],
          "scatterpolargl": [
           {
            "marker": {
             "colorbar": {
              "outlinewidth": 0,
              "ticks": ""
             }
            },
            "type": "scatterpolargl"
           }
          ],
          "scatterternary": [
           {
            "marker": {
             "colorbar": {
              "outlinewidth": 0,
              "ticks": ""
             }
            },
            "type": "scatterternary"
           }
          ],
          "surface": [
           {
            "colorbar": {
             "outlinewidth": 0,
             "ticks": ""
            },
            "colorscale": [
             [
              0,
              "#0d0887"
             ],
             [
              0.1111111111111111,
              "#46039f"
             ],
             [
              0.2222222222222222,
              "#7201a8"
             ],
             [
              0.3333333333333333,
              "#9c179e"
             ],
             [
              0.4444444444444444,
              "#bd3786"
             ],
             [
              0.5555555555555556,
              "#d8576b"
             ],
             [
              0.6666666666666666,
              "#ed7953"
             ],
             [
              0.7777777777777778,
              "#fb9f3a"
             ],
             [
              0.8888888888888888,
              "#fdca26"
             ],
             [
              1,
              "#f0f921"
             ]
            ],
            "type": "surface"
           }
          ],
          "table": [
           {
            "cells": {
             "fill": {
              "color": "#EBF0F8"
             },
             "line": {
              "color": "white"
             }
            },
            "header": {
             "fill": {
              "color": "#C8D4E3"
             },
             "line": {
              "color": "white"
             }
            },
            "type": "table"
           }
          ]
         },
         "layout": {
          "annotationdefaults": {
           "arrowcolor": "#2a3f5f",
           "arrowhead": 0,
           "arrowwidth": 1
          },
          "autotypenumbers": "strict",
          "coloraxis": {
           "colorbar": {
            "outlinewidth": 0,
            "ticks": ""
           }
          },
          "colorscale": {
           "diverging": [
            [
             0,
             "#8e0152"
            ],
            [
             0.1,
             "#c51b7d"
            ],
            [
             0.2,
             "#de77ae"
            ],
            [
             0.3,
             "#f1b6da"
            ],
            [
             0.4,
             "#fde0ef"
            ],
            [
             0.5,
             "#f7f7f7"
            ],
            [
             0.6,
             "#e6f5d0"
            ],
            [
             0.7,
             "#b8e186"
            ],
            [
             0.8,
             "#7fbc41"
            ],
            [
             0.9,
             "#4d9221"
            ],
            [
             1,
             "#276419"
            ]
           ],
           "sequential": [
            [
             0,
             "#0d0887"
            ],
            [
             0.1111111111111111,
             "#46039f"
            ],
            [
             0.2222222222222222,
             "#7201a8"
            ],
            [
             0.3333333333333333,
             "#9c179e"
            ],
            [
             0.4444444444444444,
             "#bd3786"
            ],
            [
             0.5555555555555556,
             "#d8576b"
            ],
            [
             0.6666666666666666,
             "#ed7953"
            ],
            [
             0.7777777777777778,
             "#fb9f3a"
            ],
            [
             0.8888888888888888,
             "#fdca26"
            ],
            [
             1,
             "#f0f921"
            ]
           ],
           "sequentialminus": [
            [
             0,
             "#0d0887"
            ],
            [
             0.1111111111111111,
             "#46039f"
            ],
            [
             0.2222222222222222,
             "#7201a8"
            ],
            [
             0.3333333333333333,
             "#9c179e"
            ],
            [
             0.4444444444444444,
             "#bd3786"
            ],
            [
             0.5555555555555556,
             "#d8576b"
            ],
            [
             0.6666666666666666,
             "#ed7953"
            ],
            [
             0.7777777777777778,
             "#fb9f3a"
            ],
            [
             0.8888888888888888,
             "#fdca26"
            ],
            [
             1,
             "#f0f921"
            ]
           ]
          },
          "colorway": [
           "#636efa",
           "#EF553B",
           "#00cc96",
           "#ab63fa",
           "#FFA15A",
           "#19d3f3",
           "#FF6692",
           "#B6E880",
           "#FF97FF",
           "#FECB52"
          ],
          "font": {
           "color": "#2a3f5f"
          },
          "geo": {
           "bgcolor": "white",
           "lakecolor": "white",
           "landcolor": "#E5ECF6",
           "showlakes": true,
           "showland": true,
           "subunitcolor": "white"
          },
          "hoverlabel": {
           "align": "left"
          },
          "hovermode": "closest",
          "mapbox": {
           "style": "light"
          },
          "paper_bgcolor": "white",
          "plot_bgcolor": "#E5ECF6",
          "polar": {
           "angularaxis": {
            "gridcolor": "white",
            "linecolor": "white",
            "ticks": ""
           },
           "bgcolor": "#E5ECF6",
           "radialaxis": {
            "gridcolor": "white",
            "linecolor": "white",
            "ticks": ""
           }
          },
          "scene": {
           "xaxis": {
            "backgroundcolor": "#E5ECF6",
            "gridcolor": "white",
            "gridwidth": 2,
            "linecolor": "white",
            "showbackground": true,
            "ticks": "",
            "zerolinecolor": "white"
           },
           "yaxis": {
            "backgroundcolor": "#E5ECF6",
            "gridcolor": "white",
            "gridwidth": 2,
            "linecolor": "white",
            "showbackground": true,
            "ticks": "",
            "zerolinecolor": "white"
           },
           "zaxis": {
            "backgroundcolor": "#E5ECF6",
            "gridcolor": "white",
            "gridwidth": 2,
            "linecolor": "white",
            "showbackground": true,
            "ticks": "",
            "zerolinecolor": "white"
           }
          },
          "shapedefaults": {
           "line": {
            "color": "#2a3f5f"
           }
          },
          "ternary": {
           "aaxis": {
            "gridcolor": "white",
            "linecolor": "white",
            "ticks": ""
           },
           "baxis": {
            "gridcolor": "white",
            "linecolor": "white",
            "ticks": ""
           },
           "bgcolor": "#E5ECF6",
           "caxis": {
            "gridcolor": "white",
            "linecolor": "white",
            "ticks": ""
           }
          },
          "title": {
           "x": 0.05
          },
          "xaxis": {
           "automargin": true,
           "gridcolor": "white",
           "linecolor": "white",
           "ticks": "",
           "title": {
            "standoff": 15
           },
           "zerolinecolor": "white",
           "zerolinewidth": 2
          },
          "yaxis": {
           "automargin": true,
           "gridcolor": "white",
           "linecolor": "white",
           "ticks": "",
           "title": {
            "standoff": 15
           },
           "zerolinecolor": "white",
           "zerolinewidth": 2
          }
         }
        },
        "title": {
         "text": "Box Plot of IMBD Ratings",
         "x": 0.5
        },
        "xaxis": {
         "anchor": "y",
         "domain": [
          0,
          1
         ]
        },
        "yaxis": {
         "anchor": "x",
         "domain": [
          0,
          1
         ],
         "title": {
          "text": "imdb_rating"
         }
        }
       }
      },
      "text/html": [
       "<div>                            <div id=\"791f5450-40e7-4abf-a732-bc786feb2655\" class=\"plotly-graph-div\" style=\"height:525px; width:100%;\"></div>            <script type=\"text/javascript\">                require([\"plotly\"], function(Plotly) {                    window.PLOTLYENV=window.PLOTLYENV || {};                                    if (document.getElementById(\"791f5450-40e7-4abf-a732-bc786feb2655\")) {                    Plotly.newPlot(                        \"791f5450-40e7-4abf-a732-bc786feb2655\",                        [{\"alignmentgroup\":\"True\",\"hovertemplate\":\"imdb_rating=%{y}<extra></extra>\",\"legendgroup\":\"\",\"marker\":{\"color\":\"#636efa\"},\"name\":\"\",\"notched\":false,\"offsetgroup\":\"\",\"orientation\":\"v\",\"showlegend\":false,\"type\":\"box\",\"x0\":\" \",\"xaxis\":\"x\",\"y\":[7.3,6.2,5.7,5.8,4.9,6.3,7.2,7.2,7.6,6.8,4.7,7.0,6.1,7.1,4.2,7.0,8.0,6.4,5.9,7.4,6.4,6.4,7.6,6.2,7.1,6.2,4.8,7.9,6.6,6.4,7.3,6.7,7.7,null,5.9,6.8,5.1,6.9,7.1,5.9,7.8,null,6.8,6.3,7.3,6.1,7.5,null,6.7,7.6,8.0,5.4,6.1,6.3,7.1,6.0,7.4,8.3,6.3,5.5,6.4,6.6,null,7.8,null,6.2,null,6.6,6.9,5.3,9.7,7.3,6.8,null,6.8,null,7.0,8.1,8.3,7.1,6.3,7.5,null,7.1,6.8,6.2,5.8,7.3,null,7.7,5.5,6.1,5.2,5.2,5.0,6.8,6.7,null,7.1,6.1,6.7,null,6.4,null,null,null,null,null,6.3,6.3,6.8,null,6.2,6.6,6.4,6.4,5.9,5.9,6.1,7.3,5.7,7.6,7.4,7.3,5.0,5.9,7.5,6.6,8.4,null,4.3,4.6,7.5,7.0,5.7,null,7.4,5.2,4.8,4.9,7.2,7.6,6.8,7.0,8.1,7.0,7.4,6.5,6.7,7.9,7.9,5.5,6.2,6.5,6.0,7.8,5.7,6.0,7.1,3.5,5.4,6.4,6.7,null,6.1,6.1,5.4,5.5,null,5.5,8.9,null,6.0,7.6,5.6,4.6,null,6.1,null,6.4,7.8,null,5.7,7.5,6.5,8.2,null,null,6.7,7.4,8.0,5.9,6.1,6.5,null,6.4,6.1,6.8,null,7.5,6.2,8.1,null,null,6.6,7.2,6.2,6.5,7.8,6.6,6.1,6.8,null,7.6,7.4,7.2,7.2,7.3,7.3,6.9,7.4,7.4,6.8,5.4,4.7,8.0,null,7.6,7.4,6.9,7.0,6.8,7.0,6.9,6.1,5.0,8.1,8.9,7.2,5.4,6.0,7.5,7.2,7.6,6.2,5.7,8.2,6.9,7.0,6.3,null,5.6,7.4,6.0,7.3,6.4,null,4.7,7.0,6.2,8.3,7.2,6.4,7.6,6.9,8.1,7.2,7.8,7.2,6.4,6.8,7.2,7.3,8.1,null,5.2,4.6,6.9,7.4,7.5,5.3,null,8.0,null,null,null,null,null,7.8,null,null,8.1,null,7.8,6.9,7.3,6.3,6.1,3.7,8.2,5.0,7.5,7.0,5.7,6.6,7.6,5.1,8.1,6.4,6.3,null,5.4,3.3,7.9,5.1,null,7.2,7.2,5.7,6.8,7.0,6.4,6.8,7.9,5.8,null,7.3,8.1,7.3,5.9,6.2,6.8,6.2,6.5,5.6,5.0,2.3,4.4,null,5.4,7.2,6.6,5.1,5.0,5.7,5.7,4.8,7.3,5.4,5.0,4.8,7.3,null,7.8,6.9,7.0,4.5,5.3,5.9,6.9,4.8,6.3,5.0,6.2,8.2,5.1,6.8,5.5,7.0,7.3,7.2,7.1,6.1,5.5,7.5,5.9,6.0,7.0,null,8.1,null,null,8.2,4.1,3.4,7.7,7.6,7.1,6.1,6.7,6.5,6.6,null,5.8,7.6,6.7,7.8,null,5.9,null,6.6,5.5,6.3,1.5,null,7.0,5.3,6.2,5.2,7.4,6.5,3.0,6.3,3.6,7.1,null,7.3,8.2,8.0,null,5.8,8.0,6.6,6.3,7.3,5.9,7.7,6.7,null,5.7,6.5,null,7.5,5.6,7.5,null,7.4,7.5,null,7.5,7.5,6.9,7.1,6.2,6.4,7.0,8.0,4.9,5.6,4.8,7.9,7.2,6.7,6.3,6.6,7.7,6.7,8.7,null,6.4,7.9,null,6.2,null,6.7,7.3,null,null,6.5,5.4,7.4,7.4,8.3,6.8,8.4,5.0,4.6,4.0,4.9,null,5.5,5.1,7.6,null,7.3,7.3,8.4,7.3,7.8,6.9,7.7,6.9,7.5,8.0,7.6,7.9,7.0,7.2,8.0,7.0,7.9,6.9,6.1,7.1,7.9,6.7,7.0,null,6.0,7.4,null,6.2,5.0,4.7,7.0,7.0,6.1,null,null,7.8,6.6,4.1,6.8,6.4,null,8.1,7.7,6.2,6.4,6.6,8.1,null,7.2,6.9,7.9,6.5,5.6,7.1,6.7,6.9,5.8,7.5,7.0,6.0,6.7,7.9,7.1,7.6,5.9,7.3,8.0,6.6,7.3,7.5,7.2,7.6,5.7,7.0,null,8.8,7.0,6.4,6.6,5.1,5.7,6.8,6.5,7.7,7.0,8.5,6.2,6.3,5.5,5.4,7.3,6.7,7.5,6.4,7.3,null,7.2,6.6,7.7,8.8,7.5,5.1,6.9,7.6,7.5,6.6,null,5.9,8.2,7.1,6.7,7.2,6.4,6.7,7.3,5.8,6.5,7.0,7.9,7.4,8.3,null,6.1,7.4,8.4,7.1,7.3,6.6,8.0,6.7,5.7,5.7,null,null,7.7,6.5,6.6,null,null,6.7,4.9,7.4,7.1,6.4,null,8.4,8.5,5.6,5.4,8.1,7.1,6.4,6.8,7.4,5.7,8.0,5.5,5.3,6.7,6.6,6.8,5.9,6.4,7.8,null,5.9,5.6,6.7,4.1,6.3,null,6.2,7.6,7.8,7.8,6.0,7.2,7.2,7.7,6.0,6.2,6.5,6.9,4.9,7.4,7.5,7.7,null,6.9,7.1,7.2,5.1,7.8,7.2,8.2,null,4.8,null,4.7,6.5,6.7,6.3,7.1,7.3,6.4,5.6,5.0,7.2,7.4,6.3,6.7,5.2,7.6,6.5,6.0,8.5,7.1,6.1,6.8,7.0,7.2,6.4,5.8,6.2,5.0,8.0,null,4.9,8.6,6.5,6.1,8.3,7.5,8.1,5.9,8.7,7.9,7.0,6.5,null,6.2,6.1,7.6,6.0,6.2,6.5,5.6,7.1,4.2,6.3,7.0,6.5,7.2,7.6,5.9,7.7,6.6,7.6,5.4,5.8,6.4,6.1,5.9,5.5,4.7,6.8,6.5,6.8,null,6.6,6.2,7.0,8.2,7.3,6.5,6.1,7.1,7.3,8.3,5.5,7.9,6.2,6.4,7.1,5.7,6.4,6.0,7.6,null,6.3,6.8,5.7,5.9,6.1,4.8,5.0,4.7,6.5,6.5,6.9,7.4,6.0,4.1,null,null,7.3,6.2,6.8,8.2,7.3,5.3,6.1,6.6,6.9,6.9,6.7,7.2,7.2,7.4,5.0,7.1,6.9,4.7,9.1,8.6,null,7.1,8.0,7.0,7.6,5.4,4.2,6.0,6.2,6.9,6.6,6.5,8.5,7.6,5.6,6.3,null,7.5,5.5,6.5,7.2,6.5,8.7,7.6,5.9,6.7,7.7,7.6,7.1,7.4,7.6,7.5,6.6,7.9,7.1,7.2,6.1,7.1,6.5,6.7,8.1,4.7,6.2,7.1,7.1,8.1,6.3,5.8,6.4,5.4,6.9,5.8,6.9,6.9,6.5,6.9,5.0,6.5,5.6,4.7,6.7,5.3,5.9,6.5,7.1,null,8.7,7.8,8.0,6.7,8.0,6.1,5.3,6.5,6.3,6.1,6.1,7.2,6.0,6.5,6.4,6.3,7.2,6.7,7.6,5.9,7.7,5.3,7.1,6.5,5.5,7.9,5.6,6.8,null,7.2,7.5,null,6.0,5.4,null,6.3,6.2,8.0,6.1,7.1,6.5,6.8,6.9,6.7,7.2,7.0,8.1,5.5,8.3,7.9,8.3,7.8,7.3,null,7.1,6.4,7.1,6.9,6.3,7.2,null,6.8,8.2,6.8,7.5,6.6,7.1,6.2,7.4,5.5,5.7,5.8,5.3,null,7.7,8.2,5.6,5.5,7.1,5.2,7.6,8.4,null,6.9,5.4,5.0,6.7,7.7,6.6,null,null,null,7.3,null,6.5,7.2,6.8,6.5,7.4,6.8,6.2,8.0,null,7.7,7.9,null,7.5,6.9,4.7,6.1,7.1,6.3,5.1,6.4,5.9,5.5,8.0],\"y0\":\" \",\"yaxis\":\"y\"}],                        {\"boxmode\":\"group\",\"legend\":{\"tracegroupgap\":0},\"margin\":{\"t\":60},\"template\":{\"data\":{\"bar\":[{\"error_x\":{\"color\":\"#2a3f5f\"},\"error_y\":{\"color\":\"#2a3f5f\"},\"marker\":{\"line\":{\"color\":\"#E5ECF6\",\"width\":0.5},\"pattern\":{\"fillmode\":\"overlay\",\"size\":10,\"solidity\":0.2}},\"type\":\"bar\"}],\"barpolar\":[{\"marker\":{\"line\":{\"color\":\"#E5ECF6\",\"width\":0.5},\"pattern\":{\"fillmode\":\"overlay\",\"size\":10,\"solidity\":0.2}},\"type\":\"barpolar\"}],\"carpet\":[{\"aaxis\":{\"endlinecolor\":\"#2a3f5f\",\"gridcolor\":\"white\",\"linecolor\":\"white\",\"minorgridcolor\":\"white\",\"startlinecolor\":\"#2a3f5f\"},\"baxis\":{\"endlinecolor\":\"#2a3f5f\",\"gridcolor\":\"white\",\"linecolor\":\"white\",\"minorgridcolor\":\"white\",\"startlinecolor\":\"#2a3f5f\"},\"type\":\"carpet\"}],\"choropleth\":[{\"colorbar\":{\"outlinewidth\":0,\"ticks\":\"\"},\"type\":\"choropleth\"}],\"contour\":[{\"colorbar\":{\"outlinewidth\":0,\"ticks\":\"\"},\"colorscale\":[[0.0,\"#0d0887\"],[0.1111111111111111,\"#46039f\"],[0.2222222222222222,\"#7201a8\"],[0.3333333333333333,\"#9c179e\"],[0.4444444444444444,\"#bd3786\"],[0.5555555555555556,\"#d8576b\"],[0.6666666666666666,\"#ed7953\"],[0.7777777777777778,\"#fb9f3a\"],[0.8888888888888888,\"#fdca26\"],[1.0,\"#f0f921\"]],\"type\":\"contour\"}],\"contourcarpet\":[{\"colorbar\":{\"outlinewidth\":0,\"ticks\":\"\"},\"type\":\"contourcarpet\"}],\"heatmap\":[{\"colorbar\":{\"outlinewidth\":0,\"ticks\":\"\"},\"colorscale\":[[0.0,\"#0d0887\"],[0.1111111111111111,\"#46039f\"],[0.2222222222222222,\"#7201a8\"],[0.3333333333333333,\"#9c179e\"],[0.4444444444444444,\"#bd3786\"],[0.5555555555555556,\"#d8576b\"],[0.6666666666666666,\"#ed7953\"],[0.7777777777777778,\"#fb9f3a\"],[0.8888888888888888,\"#fdca26\"],[1.0,\"#f0f921\"]],\"type\":\"heatmap\"}],\"heatmapgl\":[{\"colorbar\":{\"outlinewidth\":0,\"ticks\":\"\"},\"colorscale\":[[0.0,\"#0d0887\"],[0.1111111111111111,\"#46039f\"],[0.2222222222222222,\"#7201a8\"],[0.3333333333333333,\"#9c179e\"],[0.4444444444444444,\"#bd3786\"],[0.5555555555555556,\"#d8576b\"],[0.6666666666666666,\"#ed7953\"],[0.7777777777777778,\"#fb9f3a\"],[0.8888888888888888,\"#fdca26\"],[1.0,\"#f0f921\"]],\"type\":\"heatmapgl\"}],\"histogram\":[{\"marker\":{\"pattern\":{\"fillmode\":\"overlay\",\"size\":10,\"solidity\":0.2}},\"type\":\"histogram\"}],\"histogram2d\":[{\"colorbar\":{\"outlinewidth\":0,\"ticks\":\"\"},\"colorscale\":[[0.0,\"#0d0887\"],[0.1111111111111111,\"#46039f\"],[0.2222222222222222,\"#7201a8\"],[0.3333333333333333,\"#9c179e\"],[0.4444444444444444,\"#bd3786\"],[0.5555555555555556,\"#d8576b\"],[0.6666666666666666,\"#ed7953\"],[0.7777777777777778,\"#fb9f3a\"],[0.8888888888888888,\"#fdca26\"],[1.0,\"#f0f921\"]],\"type\":\"histogram2d\"}],\"histogram2dcontour\":[{\"colorbar\":{\"outlinewidth\":0,\"ticks\":\"\"},\"colorscale\":[[0.0,\"#0d0887\"],[0.1111111111111111,\"#46039f\"],[0.2222222222222222,\"#7201a8\"],[0.3333333333333333,\"#9c179e\"],[0.4444444444444444,\"#bd3786\"],[0.5555555555555556,\"#d8576b\"],[0.6666666666666666,\"#ed7953\"],[0.7777777777777778,\"#fb9f3a\"],[0.8888888888888888,\"#fdca26\"],[1.0,\"#f0f921\"]],\"type\":\"histogram2dcontour\"}],\"mesh3d\":[{\"colorbar\":{\"outlinewidth\":0,\"ticks\":\"\"},\"type\":\"mesh3d\"}],\"parcoords\":[{\"line\":{\"colorbar\":{\"outlinewidth\":0,\"ticks\":\"\"}},\"type\":\"parcoords\"}],\"pie\":[{\"automargin\":true,\"type\":\"pie\"}],\"scatter\":[{\"marker\":{\"colorbar\":{\"outlinewidth\":0,\"ticks\":\"\"}},\"type\":\"scatter\"}],\"scatter3d\":[{\"line\":{\"colorbar\":{\"outlinewidth\":0,\"ticks\":\"\"}},\"marker\":{\"colorbar\":{\"outlinewidth\":0,\"ticks\":\"\"}},\"type\":\"scatter3d\"}],\"scattercarpet\":[{\"marker\":{\"colorbar\":{\"outlinewidth\":0,\"ticks\":\"\"}},\"type\":\"scattercarpet\"}],\"scattergeo\":[{\"marker\":{\"colorbar\":{\"outlinewidth\":0,\"ticks\":\"\"}},\"type\":\"scattergeo\"}],\"scattergl\":[{\"marker\":{\"colorbar\":{\"outlinewidth\":0,\"ticks\":\"\"}},\"type\":\"scattergl\"}],\"scattermapbox\":[{\"marker\":{\"colorbar\":{\"outlinewidth\":0,\"ticks\":\"\"}},\"type\":\"scattermapbox\"}],\"scatterpolar\":[{\"marker\":{\"colorbar\":{\"outlinewidth\":0,\"ticks\":\"\"}},\"type\":\"scatterpolar\"}],\"scatterpolargl\":[{\"marker\":{\"colorbar\":{\"outlinewidth\":0,\"ticks\":\"\"}},\"type\":\"scatterpolargl\"}],\"scatterternary\":[{\"marker\":{\"colorbar\":{\"outlinewidth\":0,\"ticks\":\"\"}},\"type\":\"scatterternary\"}],\"surface\":[{\"colorbar\":{\"outlinewidth\":0,\"ticks\":\"\"},\"colorscale\":[[0.0,\"#0d0887\"],[0.1111111111111111,\"#46039f\"],[0.2222222222222222,\"#7201a8\"],[0.3333333333333333,\"#9c179e\"],[0.4444444444444444,\"#bd3786\"],[0.5555555555555556,\"#d8576b\"],[0.6666666666666666,\"#ed7953\"],[0.7777777777777778,\"#fb9f3a\"],[0.8888888888888888,\"#fdca26\"],[1.0,\"#f0f921\"]],\"type\":\"surface\"}],\"table\":[{\"cells\":{\"fill\":{\"color\":\"#EBF0F8\"},\"line\":{\"color\":\"white\"}},\"header\":{\"fill\":{\"color\":\"#C8D4E3\"},\"line\":{\"color\":\"white\"}},\"type\":\"table\"}]},\"layout\":{\"annotationdefaults\":{\"arrowcolor\":\"#2a3f5f\",\"arrowhead\":0,\"arrowwidth\":1},\"autotypenumbers\":\"strict\",\"coloraxis\":{\"colorbar\":{\"outlinewidth\":0,\"ticks\":\"\"}},\"colorscale\":{\"diverging\":[[0,\"#8e0152\"],[0.1,\"#c51b7d\"],[0.2,\"#de77ae\"],[0.3,\"#f1b6da\"],[0.4,\"#fde0ef\"],[0.5,\"#f7f7f7\"],[0.6,\"#e6f5d0\"],[0.7,\"#b8e186\"],[0.8,\"#7fbc41\"],[0.9,\"#4d9221\"],[1,\"#276419\"]],\"sequential\":[[0.0,\"#0d0887\"],[0.1111111111111111,\"#46039f\"],[0.2222222222222222,\"#7201a8\"],[0.3333333333333333,\"#9c179e\"],[0.4444444444444444,\"#bd3786\"],[0.5555555555555556,\"#d8576b\"],[0.6666666666666666,\"#ed7953\"],[0.7777777777777778,\"#fb9f3a\"],[0.8888888888888888,\"#fdca26\"],[1.0,\"#f0f921\"]],\"sequentialminus\":[[0.0,\"#0d0887\"],[0.1111111111111111,\"#46039f\"],[0.2222222222222222,\"#7201a8\"],[0.3333333333333333,\"#9c179e\"],[0.4444444444444444,\"#bd3786\"],[0.5555555555555556,\"#d8576b\"],[0.6666666666666666,\"#ed7953\"],[0.7777777777777778,\"#fb9f3a\"],[0.8888888888888888,\"#fdca26\"],[1.0,\"#f0f921\"]]},\"colorway\":[\"#636efa\",\"#EF553B\",\"#00cc96\",\"#ab63fa\",\"#FFA15A\",\"#19d3f3\",\"#FF6692\",\"#B6E880\",\"#FF97FF\",\"#FECB52\"],\"font\":{\"color\":\"#2a3f5f\"},\"geo\":{\"bgcolor\":\"white\",\"lakecolor\":\"white\",\"landcolor\":\"#E5ECF6\",\"showlakes\":true,\"showland\":true,\"subunitcolor\":\"white\"},\"hoverlabel\":{\"align\":\"left\"},\"hovermode\":\"closest\",\"mapbox\":{\"style\":\"light\"},\"paper_bgcolor\":\"white\",\"plot_bgcolor\":\"#E5ECF6\",\"polar\":{\"angularaxis\":{\"gridcolor\":\"white\",\"linecolor\":\"white\",\"ticks\":\"\"},\"bgcolor\":\"#E5ECF6\",\"radialaxis\":{\"gridcolor\":\"white\",\"linecolor\":\"white\",\"ticks\":\"\"}},\"scene\":{\"xaxis\":{\"backgroundcolor\":\"#E5ECF6\",\"gridcolor\":\"white\",\"gridwidth\":2,\"linecolor\":\"white\",\"showbackground\":true,\"ticks\":\"\",\"zerolinecolor\":\"white\"},\"yaxis\":{\"backgroundcolor\":\"#E5ECF6\",\"gridcolor\":\"white\",\"gridwidth\":2,\"linecolor\":\"white\",\"showbackground\":true,\"ticks\":\"\",\"zerolinecolor\":\"white\"},\"zaxis\":{\"backgroundcolor\":\"#E5ECF6\",\"gridcolor\":\"white\",\"gridwidth\":2,\"linecolor\":\"white\",\"showbackground\":true,\"ticks\":\"\",\"zerolinecolor\":\"white\"}},\"shapedefaults\":{\"line\":{\"color\":\"#2a3f5f\"}},\"ternary\":{\"aaxis\":{\"gridcolor\":\"white\",\"linecolor\":\"white\",\"ticks\":\"\"},\"baxis\":{\"gridcolor\":\"white\",\"linecolor\":\"white\",\"ticks\":\"\"},\"bgcolor\":\"#E5ECF6\",\"caxis\":{\"gridcolor\":\"white\",\"linecolor\":\"white\",\"ticks\":\"\"}},\"title\":{\"x\":0.05},\"xaxis\":{\"automargin\":true,\"gridcolor\":\"white\",\"linecolor\":\"white\",\"ticks\":\"\",\"title\":{\"standoff\":15},\"zerolinecolor\":\"white\",\"zerolinewidth\":2},\"yaxis\":{\"automargin\":true,\"gridcolor\":\"white\",\"linecolor\":\"white\",\"ticks\":\"\",\"title\":{\"standoff\":15},\"zerolinecolor\":\"white\",\"zerolinewidth\":2}}},\"title\":{\"text\":\"Box Plot of IMBD Ratings\",\"x\":0.5},\"xaxis\":{\"anchor\":\"y\",\"domain\":[0.0,1.0]},\"yaxis\":{\"anchor\":\"x\",\"domain\":[0.0,1.0],\"title\":{\"text\":\"imdb_rating\"}}},                        {\"responsive\": true}                    ).then(function(){\n",
       "                            \n",
       "var gd = document.getElementById('791f5450-40e7-4abf-a732-bc786feb2655');\n",
       "var x = new MutationObserver(function (mutations, observer) {{\n",
       "        var display = window.getComputedStyle(gd).display;\n",
       "        if (!display || display === 'none') {{\n",
       "            console.log([gd, 'removed!']);\n",
       "            Plotly.purge(gd);\n",
       "            observer.disconnect();\n",
       "        }}\n",
       "}});\n",
       "\n",
       "// Listen for the removal of the full notebook cells\n",
       "var notebookContainer = gd.closest('#notebook-container');\n",
       "if (notebookContainer) {{\n",
       "    x.observe(notebookContainer, {childList: true});\n",
       "}}\n",
       "\n",
       "// Listen for the clearing of the current output cell\n",
       "var outputEl = gd.closest('.output');\n",
       "if (outputEl) {{\n",
       "    x.observe(outputEl, {childList: true});\n",
       "}}\n",
       "\n",
       "                        })                };                });            </script>        </div>"
      ]
     },
     "metadata": {},
     "output_type": "display_data"
    }
   ],
   "source": [
    "fig = px.box(df,y='imdb_rating')\n",
    "fig.update_layout(title='Box Plot of IMBD Ratings',title_x=0.5)"
   ]
  },
  {
   "cell_type": "code",
   "execution_count": 6,
   "metadata": {},
   "outputs": [
    {
     "data": {
      "application/vnd.plotly.v1+json": {
       "config": {
        "plotlyServerURL": "https://plot.ly"
       },
       "data": [
        {
         "text": [
          "9.7",
          "9.1",
          "8.9",
          "8.9",
          "8.8",
          "8.8",
          "8.7",
          "8.7",
          "8.7",
          "8.7"
         ],
         "textposition": "auto",
         "type": "bar",
         "x": [
          "Bluey",
          "The Imagineering Story",
          "Gravity Falls",
          "Dr. T, Lone Star Vet",
          "Muppet Moments",
          "One Strange Rock",
          "The Simpsons",
          "The Mandalorian",
          "Lost Cities with Albert Lin",
          "Star Wars: Episode V - The Empire Strikes Back"
         ],
         "y": [
          9.7,
          9.1,
          8.9,
          8.9,
          8.8,
          8.8,
          8.7,
          8.7,
          8.7,
          8.7
         ]
        }
       ],
       "layout": {
        "template": {
         "data": {
          "bar": [
           {
            "error_x": {
             "color": "#2a3f5f"
            },
            "error_y": {
             "color": "#2a3f5f"
            },
            "marker": {
             "line": {
              "color": "#E5ECF6",
              "width": 0.5
             },
             "pattern": {
              "fillmode": "overlay",
              "size": 10,
              "solidity": 0.2
             }
            },
            "type": "bar"
           }
          ],
          "barpolar": [
           {
            "marker": {
             "line": {
              "color": "#E5ECF6",
              "width": 0.5
             },
             "pattern": {
              "fillmode": "overlay",
              "size": 10,
              "solidity": 0.2
             }
            },
            "type": "barpolar"
           }
          ],
          "carpet": [
           {
            "aaxis": {
             "endlinecolor": "#2a3f5f",
             "gridcolor": "white",
             "linecolor": "white",
             "minorgridcolor": "white",
             "startlinecolor": "#2a3f5f"
            },
            "baxis": {
             "endlinecolor": "#2a3f5f",
             "gridcolor": "white",
             "linecolor": "white",
             "minorgridcolor": "white",
             "startlinecolor": "#2a3f5f"
            },
            "type": "carpet"
           }
          ],
          "choropleth": [
           {
            "colorbar": {
             "outlinewidth": 0,
             "ticks": ""
            },
            "type": "choropleth"
           }
          ],
          "contour": [
           {
            "colorbar": {
             "outlinewidth": 0,
             "ticks": ""
            },
            "colorscale": [
             [
              0,
              "#0d0887"
             ],
             [
              0.1111111111111111,
              "#46039f"
             ],
             [
              0.2222222222222222,
              "#7201a8"
             ],
             [
              0.3333333333333333,
              "#9c179e"
             ],
             [
              0.4444444444444444,
              "#bd3786"
             ],
             [
              0.5555555555555556,
              "#d8576b"
             ],
             [
              0.6666666666666666,
              "#ed7953"
             ],
             [
              0.7777777777777778,
              "#fb9f3a"
             ],
             [
              0.8888888888888888,
              "#fdca26"
             ],
             [
              1,
              "#f0f921"
             ]
            ],
            "type": "contour"
           }
          ],
          "contourcarpet": [
           {
            "colorbar": {
             "outlinewidth": 0,
             "ticks": ""
            },
            "type": "contourcarpet"
           }
          ],
          "heatmap": [
           {
            "colorbar": {
             "outlinewidth": 0,
             "ticks": ""
            },
            "colorscale": [
             [
              0,
              "#0d0887"
             ],
             [
              0.1111111111111111,
              "#46039f"
             ],
             [
              0.2222222222222222,
              "#7201a8"
             ],
             [
              0.3333333333333333,
              "#9c179e"
             ],
             [
              0.4444444444444444,
              "#bd3786"
             ],
             [
              0.5555555555555556,
              "#d8576b"
             ],
             [
              0.6666666666666666,
              "#ed7953"
             ],
             [
              0.7777777777777778,
              "#fb9f3a"
             ],
             [
              0.8888888888888888,
              "#fdca26"
             ],
             [
              1,
              "#f0f921"
             ]
            ],
            "type": "heatmap"
           }
          ],
          "heatmapgl": [
           {
            "colorbar": {
             "outlinewidth": 0,
             "ticks": ""
            },
            "colorscale": [
             [
              0,
              "#0d0887"
             ],
             [
              0.1111111111111111,
              "#46039f"
             ],
             [
              0.2222222222222222,
              "#7201a8"
             ],
             [
              0.3333333333333333,
              "#9c179e"
             ],
             [
              0.4444444444444444,
              "#bd3786"
             ],
             [
              0.5555555555555556,
              "#d8576b"
             ],
             [
              0.6666666666666666,
              "#ed7953"
             ],
             [
              0.7777777777777778,
              "#fb9f3a"
             ],
             [
              0.8888888888888888,
              "#fdca26"
             ],
             [
              1,
              "#f0f921"
             ]
            ],
            "type": "heatmapgl"
           }
          ],
          "histogram": [
           {
            "marker": {
             "pattern": {
              "fillmode": "overlay",
              "size": 10,
              "solidity": 0.2
             }
            },
            "type": "histogram"
           }
          ],
          "histogram2d": [
           {
            "colorbar": {
             "outlinewidth": 0,
             "ticks": ""
            },
            "colorscale": [
             [
              0,
              "#0d0887"
             ],
             [
              0.1111111111111111,
              "#46039f"
             ],
             [
              0.2222222222222222,
              "#7201a8"
             ],
             [
              0.3333333333333333,
              "#9c179e"
             ],
             [
              0.4444444444444444,
              "#bd3786"
             ],
             [
              0.5555555555555556,
              "#d8576b"
             ],
             [
              0.6666666666666666,
              "#ed7953"
             ],
             [
              0.7777777777777778,
              "#fb9f3a"
             ],
             [
              0.8888888888888888,
              "#fdca26"
             ],
             [
              1,
              "#f0f921"
             ]
            ],
            "type": "histogram2d"
           }
          ],
          "histogram2dcontour": [
           {
            "colorbar": {
             "outlinewidth": 0,
             "ticks": ""
            },
            "colorscale": [
             [
              0,
              "#0d0887"
             ],
             [
              0.1111111111111111,
              "#46039f"
             ],
             [
              0.2222222222222222,
              "#7201a8"
             ],
             [
              0.3333333333333333,
              "#9c179e"
             ],
             [
              0.4444444444444444,
              "#bd3786"
             ],
             [
              0.5555555555555556,
              "#d8576b"
             ],
             [
              0.6666666666666666,
              "#ed7953"
             ],
             [
              0.7777777777777778,
              "#fb9f3a"
             ],
             [
              0.8888888888888888,
              "#fdca26"
             ],
             [
              1,
              "#f0f921"
             ]
            ],
            "type": "histogram2dcontour"
           }
          ],
          "mesh3d": [
           {
            "colorbar": {
             "outlinewidth": 0,
             "ticks": ""
            },
            "type": "mesh3d"
           }
          ],
          "parcoords": [
           {
            "line": {
             "colorbar": {
              "outlinewidth": 0,
              "ticks": ""
             }
            },
            "type": "parcoords"
           }
          ],
          "pie": [
           {
            "automargin": true,
            "type": "pie"
           }
          ],
          "scatter": [
           {
            "marker": {
             "colorbar": {
              "outlinewidth": 0,
              "ticks": ""
             }
            },
            "type": "scatter"
           }
          ],
          "scatter3d": [
           {
            "line": {
             "colorbar": {
              "outlinewidth": 0,
              "ticks": ""
             }
            },
            "marker": {
             "colorbar": {
              "outlinewidth": 0,
              "ticks": ""
             }
            },
            "type": "scatter3d"
           }
          ],
          "scattercarpet": [
           {
            "marker": {
             "colorbar": {
              "outlinewidth": 0,
              "ticks": ""
             }
            },
            "type": "scattercarpet"
           }
          ],
          "scattergeo": [
           {
            "marker": {
             "colorbar": {
              "outlinewidth": 0,
              "ticks": ""
             }
            },
            "type": "scattergeo"
           }
          ],
          "scattergl": [
           {
            "marker": {
             "colorbar": {
              "outlinewidth": 0,
              "ticks": ""
             }
            },
            "type": "scattergl"
           }
          ],
          "scattermapbox": [
           {
            "marker": {
             "colorbar": {
              "outlinewidth": 0,
              "ticks": ""
             }
            },
            "type": "scattermapbox"
           }
          ],
          "scatterpolar": [
           {
            "marker": {
             "colorbar": {
              "outlinewidth": 0,
              "ticks": ""
             }
            },
            "type": "scatterpolar"
           }
          ],
          "scatterpolargl": [
           {
            "marker": {
             "colorbar": {
              "outlinewidth": 0,
              "ticks": ""
             }
            },
            "type": "scatterpolargl"
           }
          ],
          "scatterternary": [
           {
            "marker": {
             "colorbar": {
              "outlinewidth": 0,
              "ticks": ""
             }
            },
            "type": "scatterternary"
           }
          ],
          "surface": [
           {
            "colorbar": {
             "outlinewidth": 0,
             "ticks": ""
            },
            "colorscale": [
             [
              0,
              "#0d0887"
             ],
             [
              0.1111111111111111,
              "#46039f"
             ],
             [
              0.2222222222222222,
              "#7201a8"
             ],
             [
              0.3333333333333333,
              "#9c179e"
             ],
             [
              0.4444444444444444,
              "#bd3786"
             ],
             [
              0.5555555555555556,
              "#d8576b"
             ],
             [
              0.6666666666666666,
              "#ed7953"
             ],
             [
              0.7777777777777778,
              "#fb9f3a"
             ],
             [
              0.8888888888888888,
              "#fdca26"
             ],
             [
              1,
              "#f0f921"
             ]
            ],
            "type": "surface"
           }
          ],
          "table": [
           {
            "cells": {
             "fill": {
              "color": "#EBF0F8"
             },
             "line": {
              "color": "white"
             }
            },
            "header": {
             "fill": {
              "color": "#C8D4E3"
             },
             "line": {
              "color": "white"
             }
            },
            "type": "table"
           }
          ]
         },
         "layout": {
          "annotationdefaults": {
           "arrowcolor": "#2a3f5f",
           "arrowhead": 0,
           "arrowwidth": 1
          },
          "autotypenumbers": "strict",
          "coloraxis": {
           "colorbar": {
            "outlinewidth": 0,
            "ticks": ""
           }
          },
          "colorscale": {
           "diverging": [
            [
             0,
             "#8e0152"
            ],
            [
             0.1,
             "#c51b7d"
            ],
            [
             0.2,
             "#de77ae"
            ],
            [
             0.3,
             "#f1b6da"
            ],
            [
             0.4,
             "#fde0ef"
            ],
            [
             0.5,
             "#f7f7f7"
            ],
            [
             0.6,
             "#e6f5d0"
            ],
            [
             0.7,
             "#b8e186"
            ],
            [
             0.8,
             "#7fbc41"
            ],
            [
             0.9,
             "#4d9221"
            ],
            [
             1,
             "#276419"
            ]
           ],
           "sequential": [
            [
             0,
             "#0d0887"
            ],
            [
             0.1111111111111111,
             "#46039f"
            ],
            [
             0.2222222222222222,
             "#7201a8"
            ],
            [
             0.3333333333333333,
             "#9c179e"
            ],
            [
             0.4444444444444444,
             "#bd3786"
            ],
            [
             0.5555555555555556,
             "#d8576b"
            ],
            [
             0.6666666666666666,
             "#ed7953"
            ],
            [
             0.7777777777777778,
             "#fb9f3a"
            ],
            [
             0.8888888888888888,
             "#fdca26"
            ],
            [
             1,
             "#f0f921"
            ]
           ],
           "sequentialminus": [
            [
             0,
             "#0d0887"
            ],
            [
             0.1111111111111111,
             "#46039f"
            ],
            [
             0.2222222222222222,
             "#7201a8"
            ],
            [
             0.3333333333333333,
             "#9c179e"
            ],
            [
             0.4444444444444444,
             "#bd3786"
            ],
            [
             0.5555555555555556,
             "#d8576b"
            ],
            [
             0.6666666666666666,
             "#ed7953"
            ],
            [
             0.7777777777777778,
             "#fb9f3a"
            ],
            [
             0.8888888888888888,
             "#fdca26"
            ],
            [
             1,
             "#f0f921"
            ]
           ]
          },
          "colorway": [
           "#636efa",
           "#EF553B",
           "#00cc96",
           "#ab63fa",
           "#FFA15A",
           "#19d3f3",
           "#FF6692",
           "#B6E880",
           "#FF97FF",
           "#FECB52"
          ],
          "font": {
           "color": "#2a3f5f"
          },
          "geo": {
           "bgcolor": "white",
           "lakecolor": "white",
           "landcolor": "#E5ECF6",
           "showlakes": true,
           "showland": true,
           "subunitcolor": "white"
          },
          "hoverlabel": {
           "align": "left"
          },
          "hovermode": "closest",
          "mapbox": {
           "style": "light"
          },
          "paper_bgcolor": "white",
          "plot_bgcolor": "#E5ECF6",
          "polar": {
           "angularaxis": {
            "gridcolor": "white",
            "linecolor": "white",
            "ticks": ""
           },
           "bgcolor": "#E5ECF6",
           "radialaxis": {
            "gridcolor": "white",
            "linecolor": "white",
            "ticks": ""
           }
          },
          "scene": {
           "xaxis": {
            "backgroundcolor": "#E5ECF6",
            "gridcolor": "white",
            "gridwidth": 2,
            "linecolor": "white",
            "showbackground": true,
            "ticks": "",
            "zerolinecolor": "white"
           },
           "yaxis": {
            "backgroundcolor": "#E5ECF6",
            "gridcolor": "white",
            "gridwidth": 2,
            "linecolor": "white",
            "showbackground": true,
            "ticks": "",
            "zerolinecolor": "white"
           },
           "zaxis": {
            "backgroundcolor": "#E5ECF6",
            "gridcolor": "white",
            "gridwidth": 2,
            "linecolor": "white",
            "showbackground": true,
            "ticks": "",
            "zerolinecolor": "white"
           }
          },
          "shapedefaults": {
           "line": {
            "color": "#2a3f5f"
           }
          },
          "ternary": {
           "aaxis": {
            "gridcolor": "white",
            "linecolor": "white",
            "ticks": ""
           },
           "baxis": {
            "gridcolor": "white",
            "linecolor": "white",
            "ticks": ""
           },
           "bgcolor": "#E5ECF6",
           "caxis": {
            "gridcolor": "white",
            "linecolor": "white",
            "ticks": ""
           }
          },
          "title": {
           "x": 0.05
          },
          "xaxis": {
           "automargin": true,
           "gridcolor": "white",
           "linecolor": "white",
           "ticks": "",
           "title": {
            "standoff": 15
           },
           "zerolinecolor": "white",
           "zerolinewidth": 2
          },
          "yaxis": {
           "automargin": true,
           "gridcolor": "white",
           "linecolor": "white",
           "ticks": "",
           "title": {
            "standoff": 15
           },
           "zerolinecolor": "white",
           "zerolinewidth": 2
          }
         }
        },
        "title": {
         "text": "Top 10 shows/movies/episodes with the Highest IMDB Ratings",
         "x": 0.5
        }
       }
      },
      "text/html": [
       "<div>                            <div id=\"d0f6519b-f76a-4282-8925-4de07ef19e20\" class=\"plotly-graph-div\" style=\"height:525px; width:100%;\"></div>            <script type=\"text/javascript\">                require([\"plotly\"], function(Plotly) {                    window.PLOTLYENV=window.PLOTLYENV || {};                                    if (document.getElementById(\"d0f6519b-f76a-4282-8925-4de07ef19e20\")) {                    Plotly.newPlot(                        \"d0f6519b-f76a-4282-8925-4de07ef19e20\",                        [{\"text\":[\"9.7\",\"9.1\",\"8.9\",\"8.9\",\"8.8\",\"8.8\",\"8.7\",\"8.7\",\"8.7\",\"8.7\"],\"textposition\":\"auto\",\"type\":\"bar\",\"x\":[\"Bluey\",\"The Imagineering Story\",\"Gravity Falls\",\"Dr. T, Lone Star Vet\",\"Muppet Moments\",\"One Strange Rock\",\"The Simpsons\",\"The Mandalorian\",\"Lost Cities with Albert Lin\",\"Star Wars: Episode V - The Empire Strikes Back\"],\"y\":[9.7,9.1,8.9,8.9,8.8,8.8,8.7,8.7,8.7,8.7]}],                        {\"template\":{\"data\":{\"bar\":[{\"error_x\":{\"color\":\"#2a3f5f\"},\"error_y\":{\"color\":\"#2a3f5f\"},\"marker\":{\"line\":{\"color\":\"#E5ECF6\",\"width\":0.5},\"pattern\":{\"fillmode\":\"overlay\",\"size\":10,\"solidity\":0.2}},\"type\":\"bar\"}],\"barpolar\":[{\"marker\":{\"line\":{\"color\":\"#E5ECF6\",\"width\":0.5},\"pattern\":{\"fillmode\":\"overlay\",\"size\":10,\"solidity\":0.2}},\"type\":\"barpolar\"}],\"carpet\":[{\"aaxis\":{\"endlinecolor\":\"#2a3f5f\",\"gridcolor\":\"white\",\"linecolor\":\"white\",\"minorgridcolor\":\"white\",\"startlinecolor\":\"#2a3f5f\"},\"baxis\":{\"endlinecolor\":\"#2a3f5f\",\"gridcolor\":\"white\",\"linecolor\":\"white\",\"minorgridcolor\":\"white\",\"startlinecolor\":\"#2a3f5f\"},\"type\":\"carpet\"}],\"choropleth\":[{\"colorbar\":{\"outlinewidth\":0,\"ticks\":\"\"},\"type\":\"choropleth\"}],\"contour\":[{\"colorbar\":{\"outlinewidth\":0,\"ticks\":\"\"},\"colorscale\":[[0.0,\"#0d0887\"],[0.1111111111111111,\"#46039f\"],[0.2222222222222222,\"#7201a8\"],[0.3333333333333333,\"#9c179e\"],[0.4444444444444444,\"#bd3786\"],[0.5555555555555556,\"#d8576b\"],[0.6666666666666666,\"#ed7953\"],[0.7777777777777778,\"#fb9f3a\"],[0.8888888888888888,\"#fdca26\"],[1.0,\"#f0f921\"]],\"type\":\"contour\"}],\"contourcarpet\":[{\"colorbar\":{\"outlinewidth\":0,\"ticks\":\"\"},\"type\":\"contourcarpet\"}],\"heatmap\":[{\"colorbar\":{\"outlinewidth\":0,\"ticks\":\"\"},\"colorscale\":[[0.0,\"#0d0887\"],[0.1111111111111111,\"#46039f\"],[0.2222222222222222,\"#7201a8\"],[0.3333333333333333,\"#9c179e\"],[0.4444444444444444,\"#bd3786\"],[0.5555555555555556,\"#d8576b\"],[0.6666666666666666,\"#ed7953\"],[0.7777777777777778,\"#fb9f3a\"],[0.8888888888888888,\"#fdca26\"],[1.0,\"#f0f921\"]],\"type\":\"heatmap\"}],\"heatmapgl\":[{\"colorbar\":{\"outlinewidth\":0,\"ticks\":\"\"},\"colorscale\":[[0.0,\"#0d0887\"],[0.1111111111111111,\"#46039f\"],[0.2222222222222222,\"#7201a8\"],[0.3333333333333333,\"#9c179e\"],[0.4444444444444444,\"#bd3786\"],[0.5555555555555556,\"#d8576b\"],[0.6666666666666666,\"#ed7953\"],[0.7777777777777778,\"#fb9f3a\"],[0.8888888888888888,\"#fdca26\"],[1.0,\"#f0f921\"]],\"type\":\"heatmapgl\"}],\"histogram\":[{\"marker\":{\"pattern\":{\"fillmode\":\"overlay\",\"size\":10,\"solidity\":0.2}},\"type\":\"histogram\"}],\"histogram2d\":[{\"colorbar\":{\"outlinewidth\":0,\"ticks\":\"\"},\"colorscale\":[[0.0,\"#0d0887\"],[0.1111111111111111,\"#46039f\"],[0.2222222222222222,\"#7201a8\"],[0.3333333333333333,\"#9c179e\"],[0.4444444444444444,\"#bd3786\"],[0.5555555555555556,\"#d8576b\"],[0.6666666666666666,\"#ed7953\"],[0.7777777777777778,\"#fb9f3a\"],[0.8888888888888888,\"#fdca26\"],[1.0,\"#f0f921\"]],\"type\":\"histogram2d\"}],\"histogram2dcontour\":[{\"colorbar\":{\"outlinewidth\":0,\"ticks\":\"\"},\"colorscale\":[[0.0,\"#0d0887\"],[0.1111111111111111,\"#46039f\"],[0.2222222222222222,\"#7201a8\"],[0.3333333333333333,\"#9c179e\"],[0.4444444444444444,\"#bd3786\"],[0.5555555555555556,\"#d8576b\"],[0.6666666666666666,\"#ed7953\"],[0.7777777777777778,\"#fb9f3a\"],[0.8888888888888888,\"#fdca26\"],[1.0,\"#f0f921\"]],\"type\":\"histogram2dcontour\"}],\"mesh3d\":[{\"colorbar\":{\"outlinewidth\":0,\"ticks\":\"\"},\"type\":\"mesh3d\"}],\"parcoords\":[{\"line\":{\"colorbar\":{\"outlinewidth\":0,\"ticks\":\"\"}},\"type\":\"parcoords\"}],\"pie\":[{\"automargin\":true,\"type\":\"pie\"}],\"scatter\":[{\"marker\":{\"colorbar\":{\"outlinewidth\":0,\"ticks\":\"\"}},\"type\":\"scatter\"}],\"scatter3d\":[{\"line\":{\"colorbar\":{\"outlinewidth\":0,\"ticks\":\"\"}},\"marker\":{\"colorbar\":{\"outlinewidth\":0,\"ticks\":\"\"}},\"type\":\"scatter3d\"}],\"scattercarpet\":[{\"marker\":{\"colorbar\":{\"outlinewidth\":0,\"ticks\":\"\"}},\"type\":\"scattercarpet\"}],\"scattergeo\":[{\"marker\":{\"colorbar\":{\"outlinewidth\":0,\"ticks\":\"\"}},\"type\":\"scattergeo\"}],\"scattergl\":[{\"marker\":{\"colorbar\":{\"outlinewidth\":0,\"ticks\":\"\"}},\"type\":\"scattergl\"}],\"scattermapbox\":[{\"marker\":{\"colorbar\":{\"outlinewidth\":0,\"ticks\":\"\"}},\"type\":\"scattermapbox\"}],\"scatterpolar\":[{\"marker\":{\"colorbar\":{\"outlinewidth\":0,\"ticks\":\"\"}},\"type\":\"scatterpolar\"}],\"scatterpolargl\":[{\"marker\":{\"colorbar\":{\"outlinewidth\":0,\"ticks\":\"\"}},\"type\":\"scatterpolargl\"}],\"scatterternary\":[{\"marker\":{\"colorbar\":{\"outlinewidth\":0,\"ticks\":\"\"}},\"type\":\"scatterternary\"}],\"surface\":[{\"colorbar\":{\"outlinewidth\":0,\"ticks\":\"\"},\"colorscale\":[[0.0,\"#0d0887\"],[0.1111111111111111,\"#46039f\"],[0.2222222222222222,\"#7201a8\"],[0.3333333333333333,\"#9c179e\"],[0.4444444444444444,\"#bd3786\"],[0.5555555555555556,\"#d8576b\"],[0.6666666666666666,\"#ed7953\"],[0.7777777777777778,\"#fb9f3a\"],[0.8888888888888888,\"#fdca26\"],[1.0,\"#f0f921\"]],\"type\":\"surface\"}],\"table\":[{\"cells\":{\"fill\":{\"color\":\"#EBF0F8\"},\"line\":{\"color\":\"white\"}},\"header\":{\"fill\":{\"color\":\"#C8D4E3\"},\"line\":{\"color\":\"white\"}},\"type\":\"table\"}]},\"layout\":{\"annotationdefaults\":{\"arrowcolor\":\"#2a3f5f\",\"arrowhead\":0,\"arrowwidth\":1},\"autotypenumbers\":\"strict\",\"coloraxis\":{\"colorbar\":{\"outlinewidth\":0,\"ticks\":\"\"}},\"colorscale\":{\"diverging\":[[0,\"#8e0152\"],[0.1,\"#c51b7d\"],[0.2,\"#de77ae\"],[0.3,\"#f1b6da\"],[0.4,\"#fde0ef\"],[0.5,\"#f7f7f7\"],[0.6,\"#e6f5d0\"],[0.7,\"#b8e186\"],[0.8,\"#7fbc41\"],[0.9,\"#4d9221\"],[1,\"#276419\"]],\"sequential\":[[0.0,\"#0d0887\"],[0.1111111111111111,\"#46039f\"],[0.2222222222222222,\"#7201a8\"],[0.3333333333333333,\"#9c179e\"],[0.4444444444444444,\"#bd3786\"],[0.5555555555555556,\"#d8576b\"],[0.6666666666666666,\"#ed7953\"],[0.7777777777777778,\"#fb9f3a\"],[0.8888888888888888,\"#fdca26\"],[1.0,\"#f0f921\"]],\"sequentialminus\":[[0.0,\"#0d0887\"],[0.1111111111111111,\"#46039f\"],[0.2222222222222222,\"#7201a8\"],[0.3333333333333333,\"#9c179e\"],[0.4444444444444444,\"#bd3786\"],[0.5555555555555556,\"#d8576b\"],[0.6666666666666666,\"#ed7953\"],[0.7777777777777778,\"#fb9f3a\"],[0.8888888888888888,\"#fdca26\"],[1.0,\"#f0f921\"]]},\"colorway\":[\"#636efa\",\"#EF553B\",\"#00cc96\",\"#ab63fa\",\"#FFA15A\",\"#19d3f3\",\"#FF6692\",\"#B6E880\",\"#FF97FF\",\"#FECB52\"],\"font\":{\"color\":\"#2a3f5f\"},\"geo\":{\"bgcolor\":\"white\",\"lakecolor\":\"white\",\"landcolor\":\"#E5ECF6\",\"showlakes\":true,\"showland\":true,\"subunitcolor\":\"white\"},\"hoverlabel\":{\"align\":\"left\"},\"hovermode\":\"closest\",\"mapbox\":{\"style\":\"light\"},\"paper_bgcolor\":\"white\",\"plot_bgcolor\":\"#E5ECF6\",\"polar\":{\"angularaxis\":{\"gridcolor\":\"white\",\"linecolor\":\"white\",\"ticks\":\"\"},\"bgcolor\":\"#E5ECF6\",\"radialaxis\":{\"gridcolor\":\"white\",\"linecolor\":\"white\",\"ticks\":\"\"}},\"scene\":{\"xaxis\":{\"backgroundcolor\":\"#E5ECF6\",\"gridcolor\":\"white\",\"gridwidth\":2,\"linecolor\":\"white\",\"showbackground\":true,\"ticks\":\"\",\"zerolinecolor\":\"white\"},\"yaxis\":{\"backgroundcolor\":\"#E5ECF6\",\"gridcolor\":\"white\",\"gridwidth\":2,\"linecolor\":\"white\",\"showbackground\":true,\"ticks\":\"\",\"zerolinecolor\":\"white\"},\"zaxis\":{\"backgroundcolor\":\"#E5ECF6\",\"gridcolor\":\"white\",\"gridwidth\":2,\"linecolor\":\"white\",\"showbackground\":true,\"ticks\":\"\",\"zerolinecolor\":\"white\"}},\"shapedefaults\":{\"line\":{\"color\":\"#2a3f5f\"}},\"ternary\":{\"aaxis\":{\"gridcolor\":\"white\",\"linecolor\":\"white\",\"ticks\":\"\"},\"baxis\":{\"gridcolor\":\"white\",\"linecolor\":\"white\",\"ticks\":\"\"},\"bgcolor\":\"#E5ECF6\",\"caxis\":{\"gridcolor\":\"white\",\"linecolor\":\"white\",\"ticks\":\"\"}},\"title\":{\"x\":0.05},\"xaxis\":{\"automargin\":true,\"gridcolor\":\"white\",\"linecolor\":\"white\",\"ticks\":\"\",\"title\":{\"standoff\":15},\"zerolinecolor\":\"white\",\"zerolinewidth\":2},\"yaxis\":{\"automargin\":true,\"gridcolor\":\"white\",\"linecolor\":\"white\",\"ticks\":\"\",\"title\":{\"standoff\":15},\"zerolinecolor\":\"white\",\"zerolinewidth\":2}}},\"title\":{\"text\":\"Top 10 shows/movies/episodes with the Highest IMDB Ratings\",\"x\":0.5}},                        {\"responsive\": true}                    ).then(function(){\n",
       "                            \n",
       "var gd = document.getElementById('d0f6519b-f76a-4282-8925-4de07ef19e20');\n",
       "var x = new MutationObserver(function (mutations, observer) {{\n",
       "        var display = window.getComputedStyle(gd).display;\n",
       "        if (!display || display === 'none') {{\n",
       "            console.log([gd, 'removed!']);\n",
       "            Plotly.purge(gd);\n",
       "            observer.disconnect();\n",
       "        }}\n",
       "}});\n",
       "\n",
       "// Listen for the removal of the full notebook cells\n",
       "var notebookContainer = gd.closest('#notebook-container');\n",
       "if (notebookContainer) {{\n",
       "    x.observe(notebookContainer, {childList: true});\n",
       "}}\n",
       "\n",
       "// Listen for the clearing of the current output cell\n",
       "var outputEl = gd.closest('.output');\n",
       "if (outputEl) {{\n",
       "    x.observe(outputEl, {childList: true});\n",
       "}}\n",
       "\n",
       "                        })                };                });            </script>        </div>"
      ]
     },
     "metadata": {},
     "output_type": "display_data"
    }
   ],
   "source": [
    "df_top10 = df.sort_values('imdb_rating',ascending=False).head(10)\n",
    "fig = go.Figure(data=[go.Bar(\n",
    "            x=df_top10['title'], y=df_top10['imdb_rating'],\n",
    "            text=df_top10['imdb_rating'],\n",
    "            textposition='auto',\n",
    "        )])\n",
    "fig.update_layout(title='Top 10 shows/movies/episodes with the Highest IMDB Ratings',title_x=0.5)"
   ]
  },
  {
   "cell_type": "code",
   "execution_count": 7,
   "metadata": {},
   "outputs": [
    {
     "data": {
      "application/vnd.plotly.v1+json": {
       "config": {
        "plotlyServerURL": "https://plot.ly"
       },
       "data": [
        {
         "alignmentgroup": "True",
         "hovertemplate": "title=%{x}<br>imdb_rating=%{text}<extra></extra>",
         "legendgroup": "",
         "marker": {
          "color": "#636efa",
          "pattern": {
           "shape": ""
          }
         },
         "name": "",
         "offsetgroup": "",
         "orientation": "v",
         "showlegend": false,
         "text": [
          "8.7",
          "8.6",
          "8.5",
          "8.5",
          "8.4",
          "8.4",
          "8.4",
          "8.4",
          "8.4",
          "8.3"
         ],
         "textposition": "auto",
         "type": "bar",
         "x": [
          "Star Wars: Episode V - The Empire Strikes Back",
          "Star Wars: Episode IV - A New Hope",
          "The Lion King",
          "Disney's Newsies: The Broadway Musical!",
          "Presto",
          "Piper",
          "Coco",
          "WALL·E",
          "Avengers: Endgame",
          "Star Wars: Episode VI - Return of the Jedi"
         ],
         "xaxis": "x",
         "y": [
          8.7,
          8.6,
          8.5,
          8.5,
          8.4,
          8.4,
          8.4,
          8.4,
          8.4,
          8.3
         ],
         "yaxis": "y"
        }
       ],
       "layout": {
        "barmode": "relative",
        "legend": {
         "tracegroupgap": 0
        },
        "margin": {
         "t": 60
        },
        "template": {
         "data": {
          "bar": [
           {
            "error_x": {
             "color": "#2a3f5f"
            },
            "error_y": {
             "color": "#2a3f5f"
            },
            "marker": {
             "line": {
              "color": "#E5ECF6",
              "width": 0.5
             },
             "pattern": {
              "fillmode": "overlay",
              "size": 10,
              "solidity": 0.2
             }
            },
            "type": "bar"
           }
          ],
          "barpolar": [
           {
            "marker": {
             "line": {
              "color": "#E5ECF6",
              "width": 0.5
             },
             "pattern": {
              "fillmode": "overlay",
              "size": 10,
              "solidity": 0.2
             }
            },
            "type": "barpolar"
           }
          ],
          "carpet": [
           {
            "aaxis": {
             "endlinecolor": "#2a3f5f",
             "gridcolor": "white",
             "linecolor": "white",
             "minorgridcolor": "white",
             "startlinecolor": "#2a3f5f"
            },
            "baxis": {
             "endlinecolor": "#2a3f5f",
             "gridcolor": "white",
             "linecolor": "white",
             "minorgridcolor": "white",
             "startlinecolor": "#2a3f5f"
            },
            "type": "carpet"
           }
          ],
          "choropleth": [
           {
            "colorbar": {
             "outlinewidth": 0,
             "ticks": ""
            },
            "type": "choropleth"
           }
          ],
          "contour": [
           {
            "colorbar": {
             "outlinewidth": 0,
             "ticks": ""
            },
            "colorscale": [
             [
              0,
              "#0d0887"
             ],
             [
              0.1111111111111111,
              "#46039f"
             ],
             [
              0.2222222222222222,
              "#7201a8"
             ],
             [
              0.3333333333333333,
              "#9c179e"
             ],
             [
              0.4444444444444444,
              "#bd3786"
             ],
             [
              0.5555555555555556,
              "#d8576b"
             ],
             [
              0.6666666666666666,
              "#ed7953"
             ],
             [
              0.7777777777777778,
              "#fb9f3a"
             ],
             [
              0.8888888888888888,
              "#fdca26"
             ],
             [
              1,
              "#f0f921"
             ]
            ],
            "type": "contour"
           }
          ],
          "contourcarpet": [
           {
            "colorbar": {
             "outlinewidth": 0,
             "ticks": ""
            },
            "type": "contourcarpet"
           }
          ],
          "heatmap": [
           {
            "colorbar": {
             "outlinewidth": 0,
             "ticks": ""
            },
            "colorscale": [
             [
              0,
              "#0d0887"
             ],
             [
              0.1111111111111111,
              "#46039f"
             ],
             [
              0.2222222222222222,
              "#7201a8"
             ],
             [
              0.3333333333333333,
              "#9c179e"
             ],
             [
              0.4444444444444444,
              "#bd3786"
             ],
             [
              0.5555555555555556,
              "#d8576b"
             ],
             [
              0.6666666666666666,
              "#ed7953"
             ],
             [
              0.7777777777777778,
              "#fb9f3a"
             ],
             [
              0.8888888888888888,
              "#fdca26"
             ],
             [
              1,
              "#f0f921"
             ]
            ],
            "type": "heatmap"
           }
          ],
          "heatmapgl": [
           {
            "colorbar": {
             "outlinewidth": 0,
             "ticks": ""
            },
            "colorscale": [
             [
              0,
              "#0d0887"
             ],
             [
              0.1111111111111111,
              "#46039f"
             ],
             [
              0.2222222222222222,
              "#7201a8"
             ],
             [
              0.3333333333333333,
              "#9c179e"
             ],
             [
              0.4444444444444444,
              "#bd3786"
             ],
             [
              0.5555555555555556,
              "#d8576b"
             ],
             [
              0.6666666666666666,
              "#ed7953"
             ],
             [
              0.7777777777777778,
              "#fb9f3a"
             ],
             [
              0.8888888888888888,
              "#fdca26"
             ],
             [
              1,
              "#f0f921"
             ]
            ],
            "type": "heatmapgl"
           }
          ],
          "histogram": [
           {
            "marker": {
             "pattern": {
              "fillmode": "overlay",
              "size": 10,
              "solidity": 0.2
             }
            },
            "type": "histogram"
           }
          ],
          "histogram2d": [
           {
            "colorbar": {
             "outlinewidth": 0,
             "ticks": ""
            },
            "colorscale": [
             [
              0,
              "#0d0887"
             ],
             [
              0.1111111111111111,
              "#46039f"
             ],
             [
              0.2222222222222222,
              "#7201a8"
             ],
             [
              0.3333333333333333,
              "#9c179e"
             ],
             [
              0.4444444444444444,
              "#bd3786"
             ],
             [
              0.5555555555555556,
              "#d8576b"
             ],
             [
              0.6666666666666666,
              "#ed7953"
             ],
             [
              0.7777777777777778,
              "#fb9f3a"
             ],
             [
              0.8888888888888888,
              "#fdca26"
             ],
             [
              1,
              "#f0f921"
             ]
            ],
            "type": "histogram2d"
           }
          ],
          "histogram2dcontour": [
           {
            "colorbar": {
             "outlinewidth": 0,
             "ticks": ""
            },
            "colorscale": [
             [
              0,
              "#0d0887"
             ],
             [
              0.1111111111111111,
              "#46039f"
             ],
             [
              0.2222222222222222,
              "#7201a8"
             ],
             [
              0.3333333333333333,
              "#9c179e"
             ],
             [
              0.4444444444444444,
              "#bd3786"
             ],
             [
              0.5555555555555556,
              "#d8576b"
             ],
             [
              0.6666666666666666,
              "#ed7953"
             ],
             [
              0.7777777777777778,
              "#fb9f3a"
             ],
             [
              0.8888888888888888,
              "#fdca26"
             ],
             [
              1,
              "#f0f921"
             ]
            ],
            "type": "histogram2dcontour"
           }
          ],
          "mesh3d": [
           {
            "colorbar": {
             "outlinewidth": 0,
             "ticks": ""
            },
            "type": "mesh3d"
           }
          ],
          "parcoords": [
           {
            "line": {
             "colorbar": {
              "outlinewidth": 0,
              "ticks": ""
             }
            },
            "type": "parcoords"
           }
          ],
          "pie": [
           {
            "automargin": true,
            "type": "pie"
           }
          ],
          "scatter": [
           {
            "marker": {
             "colorbar": {
              "outlinewidth": 0,
              "ticks": ""
             }
            },
            "type": "scatter"
           }
          ],
          "scatter3d": [
           {
            "line": {
             "colorbar": {
              "outlinewidth": 0,
              "ticks": ""
             }
            },
            "marker": {
             "colorbar": {
              "outlinewidth": 0,
              "ticks": ""
             }
            },
            "type": "scatter3d"
           }
          ],
          "scattercarpet": [
           {
            "marker": {
             "colorbar": {
              "outlinewidth": 0,
              "ticks": ""
             }
            },
            "type": "scattercarpet"
           }
          ],
          "scattergeo": [
           {
            "marker": {
             "colorbar": {
              "outlinewidth": 0,
              "ticks": ""
             }
            },
            "type": "scattergeo"
           }
          ],
          "scattergl": [
           {
            "marker": {
             "colorbar": {
              "outlinewidth": 0,
              "ticks": ""
             }
            },
            "type": "scattergl"
           }
          ],
          "scattermapbox": [
           {
            "marker": {
             "colorbar": {
              "outlinewidth": 0,
              "ticks": ""
             }
            },
            "type": "scattermapbox"
           }
          ],
          "scatterpolar": [
           {
            "marker": {
             "colorbar": {
              "outlinewidth": 0,
              "ticks": ""
             }
            },
            "type": "scatterpolar"
           }
          ],
          "scatterpolargl": [
           {
            "marker": {
             "colorbar": {
              "outlinewidth": 0,
              "ticks": ""
             }
            },
            "type": "scatterpolargl"
           }
          ],
          "scatterternary": [
           {
            "marker": {
             "colorbar": {
              "outlinewidth": 0,
              "ticks": ""
             }
            },
            "type": "scatterternary"
           }
          ],
          "surface": [
           {
            "colorbar": {
             "outlinewidth": 0,
             "ticks": ""
            },
            "colorscale": [
             [
              0,
              "#0d0887"
             ],
             [
              0.1111111111111111,
              "#46039f"
             ],
             [
              0.2222222222222222,
              "#7201a8"
             ],
             [
              0.3333333333333333,
              "#9c179e"
             ],
             [
              0.4444444444444444,
              "#bd3786"
             ],
             [
              0.5555555555555556,
              "#d8576b"
             ],
             [
              0.6666666666666666,
              "#ed7953"
             ],
             [
              0.7777777777777778,
              "#fb9f3a"
             ],
             [
              0.8888888888888888,
              "#fdca26"
             ],
             [
              1,
              "#f0f921"
             ]
            ],
            "type": "surface"
           }
          ],
          "table": [
           {
            "cells": {
             "fill": {
              "color": "#EBF0F8"
             },
             "line": {
              "color": "white"
             }
            },
            "header": {
             "fill": {
              "color": "#C8D4E3"
             },
             "line": {
              "color": "white"
             }
            },
            "type": "table"
           }
          ]
         },
         "layout": {
          "annotationdefaults": {
           "arrowcolor": "#2a3f5f",
           "arrowhead": 0,
           "arrowwidth": 1
          },
          "autotypenumbers": "strict",
          "coloraxis": {
           "colorbar": {
            "outlinewidth": 0,
            "ticks": ""
           }
          },
          "colorscale": {
           "diverging": [
            [
             0,
             "#8e0152"
            ],
            [
             0.1,
             "#c51b7d"
            ],
            [
             0.2,
             "#de77ae"
            ],
            [
             0.3,
             "#f1b6da"
            ],
            [
             0.4,
             "#fde0ef"
            ],
            [
             0.5,
             "#f7f7f7"
            ],
            [
             0.6,
             "#e6f5d0"
            ],
            [
             0.7,
             "#b8e186"
            ],
            [
             0.8,
             "#7fbc41"
            ],
            [
             0.9,
             "#4d9221"
            ],
            [
             1,
             "#276419"
            ]
           ],
           "sequential": [
            [
             0,
             "#0d0887"
            ],
            [
             0.1111111111111111,
             "#46039f"
            ],
            [
             0.2222222222222222,
             "#7201a8"
            ],
            [
             0.3333333333333333,
             "#9c179e"
            ],
            [
             0.4444444444444444,
             "#bd3786"
            ],
            [
             0.5555555555555556,
             "#d8576b"
            ],
            [
             0.6666666666666666,
             "#ed7953"
            ],
            [
             0.7777777777777778,
             "#fb9f3a"
            ],
            [
             0.8888888888888888,
             "#fdca26"
            ],
            [
             1,
             "#f0f921"
            ]
           ],
           "sequentialminus": [
            [
             0,
             "#0d0887"
            ],
            [
             0.1111111111111111,
             "#46039f"
            ],
            [
             0.2222222222222222,
             "#7201a8"
            ],
            [
             0.3333333333333333,
             "#9c179e"
            ],
            [
             0.4444444444444444,
             "#bd3786"
            ],
            [
             0.5555555555555556,
             "#d8576b"
            ],
            [
             0.6666666666666666,
             "#ed7953"
            ],
            [
             0.7777777777777778,
             "#fb9f3a"
            ],
            [
             0.8888888888888888,
             "#fdca26"
            ],
            [
             1,
             "#f0f921"
            ]
           ]
          },
          "colorway": [
           "#636efa",
           "#EF553B",
           "#00cc96",
           "#ab63fa",
           "#FFA15A",
           "#19d3f3",
           "#FF6692",
           "#B6E880",
           "#FF97FF",
           "#FECB52"
          ],
          "font": {
           "color": "#2a3f5f"
          },
          "geo": {
           "bgcolor": "white",
           "lakecolor": "white",
           "landcolor": "#E5ECF6",
           "showlakes": true,
           "showland": true,
           "subunitcolor": "white"
          },
          "hoverlabel": {
           "align": "left"
          },
          "hovermode": "closest",
          "mapbox": {
           "style": "light"
          },
          "paper_bgcolor": "white",
          "plot_bgcolor": "#E5ECF6",
          "polar": {
           "angularaxis": {
            "gridcolor": "white",
            "linecolor": "white",
            "ticks": ""
           },
           "bgcolor": "#E5ECF6",
           "radialaxis": {
            "gridcolor": "white",
            "linecolor": "white",
            "ticks": ""
           }
          },
          "scene": {
           "xaxis": {
            "backgroundcolor": "#E5ECF6",
            "gridcolor": "white",
            "gridwidth": 2,
            "linecolor": "white",
            "showbackground": true,
            "ticks": "",
            "zerolinecolor": "white"
           },
           "yaxis": {
            "backgroundcolor": "#E5ECF6",
            "gridcolor": "white",
            "gridwidth": 2,
            "linecolor": "white",
            "showbackground": true,
            "ticks": "",
            "zerolinecolor": "white"
           },
           "zaxis": {
            "backgroundcolor": "#E5ECF6",
            "gridcolor": "white",
            "gridwidth": 2,
            "linecolor": "white",
            "showbackground": true,
            "ticks": "",
            "zerolinecolor": "white"
           }
          },
          "shapedefaults": {
           "line": {
            "color": "#2a3f5f"
           }
          },
          "ternary": {
           "aaxis": {
            "gridcolor": "white",
            "linecolor": "white",
            "ticks": ""
           },
           "baxis": {
            "gridcolor": "white",
            "linecolor": "white",
            "ticks": ""
           },
           "bgcolor": "#E5ECF6",
           "caxis": {
            "gridcolor": "white",
            "linecolor": "white",
            "ticks": ""
           }
          },
          "title": {
           "x": 0.05
          },
          "xaxis": {
           "automargin": true,
           "gridcolor": "white",
           "linecolor": "white",
           "ticks": "",
           "title": {
            "standoff": 15
           },
           "zerolinecolor": "white",
           "zerolinewidth": 2
          },
          "yaxis": {
           "automargin": true,
           "gridcolor": "white",
           "linecolor": "white",
           "ticks": "",
           "title": {
            "standoff": 15
           },
           "zerolinecolor": "white",
           "zerolinewidth": 2
          }
         }
        },
        "title": {
         "text": "Top 10 Movies with highest IMDB Rating",
         "x": 0.5
        },
        "xaxis": {
         "anchor": "y",
         "domain": [
          0,
          1
         ],
         "title": {
          "text": "title"
         }
        },
        "yaxis": {
         "anchor": "x",
         "domain": [
          0,
          1
         ],
         "title": {
          "text": "imdb_rating"
         }
        }
       }
      },
      "text/html": [
       "<div>                            <div id=\"ba603d47-82f4-442f-836d-415eecf64c8e\" class=\"plotly-graph-div\" style=\"height:525px; width:100%;\"></div>            <script type=\"text/javascript\">                require([\"plotly\"], function(Plotly) {                    window.PLOTLYENV=window.PLOTLYENV || {};                                    if (document.getElementById(\"ba603d47-82f4-442f-836d-415eecf64c8e\")) {                    Plotly.newPlot(                        \"ba603d47-82f4-442f-836d-415eecf64c8e\",                        [{\"alignmentgroup\":\"True\",\"hovertemplate\":\"title=%{x}<br>imdb_rating=%{text}<extra></extra>\",\"legendgroup\":\"\",\"marker\":{\"color\":\"#636efa\",\"pattern\":{\"shape\":\"\"}},\"name\":\"\",\"offsetgroup\":\"\",\"orientation\":\"v\",\"showlegend\":false,\"text\":[\"8.7\",\"8.6\",\"8.5\",\"8.5\",\"8.4\",\"8.4\",\"8.4\",\"8.4\",\"8.4\",\"8.3\"],\"textposition\":\"auto\",\"type\":\"bar\",\"x\":[\"Star Wars: Episode V - The Empire Strikes Back\",\"Star Wars: Episode IV - A New Hope\",\"The Lion King\",\"Disney's Newsies: The Broadway Musical!\",\"Presto\",\"Piper\",\"Coco\",\"WALL\\u00b7E\",\"Avengers: Endgame\",\"Star Wars: Episode VI - Return of the Jedi\"],\"xaxis\":\"x\",\"y\":[8.7,8.6,8.5,8.5,8.4,8.4,8.4,8.4,8.4,8.3],\"yaxis\":\"y\"}],                        {\"barmode\":\"relative\",\"legend\":{\"tracegroupgap\":0},\"margin\":{\"t\":60},\"template\":{\"data\":{\"bar\":[{\"error_x\":{\"color\":\"#2a3f5f\"},\"error_y\":{\"color\":\"#2a3f5f\"},\"marker\":{\"line\":{\"color\":\"#E5ECF6\",\"width\":0.5},\"pattern\":{\"fillmode\":\"overlay\",\"size\":10,\"solidity\":0.2}},\"type\":\"bar\"}],\"barpolar\":[{\"marker\":{\"line\":{\"color\":\"#E5ECF6\",\"width\":0.5},\"pattern\":{\"fillmode\":\"overlay\",\"size\":10,\"solidity\":0.2}},\"type\":\"barpolar\"}],\"carpet\":[{\"aaxis\":{\"endlinecolor\":\"#2a3f5f\",\"gridcolor\":\"white\",\"linecolor\":\"white\",\"minorgridcolor\":\"white\",\"startlinecolor\":\"#2a3f5f\"},\"baxis\":{\"endlinecolor\":\"#2a3f5f\",\"gridcolor\":\"white\",\"linecolor\":\"white\",\"minorgridcolor\":\"white\",\"startlinecolor\":\"#2a3f5f\"},\"type\":\"carpet\"}],\"choropleth\":[{\"colorbar\":{\"outlinewidth\":0,\"ticks\":\"\"},\"type\":\"choropleth\"}],\"contour\":[{\"colorbar\":{\"outlinewidth\":0,\"ticks\":\"\"},\"colorscale\":[[0.0,\"#0d0887\"],[0.1111111111111111,\"#46039f\"],[0.2222222222222222,\"#7201a8\"],[0.3333333333333333,\"#9c179e\"],[0.4444444444444444,\"#bd3786\"],[0.5555555555555556,\"#d8576b\"],[0.6666666666666666,\"#ed7953\"],[0.7777777777777778,\"#fb9f3a\"],[0.8888888888888888,\"#fdca26\"],[1.0,\"#f0f921\"]],\"type\":\"contour\"}],\"contourcarpet\":[{\"colorbar\":{\"outlinewidth\":0,\"ticks\":\"\"},\"type\":\"contourcarpet\"}],\"heatmap\":[{\"colorbar\":{\"outlinewidth\":0,\"ticks\":\"\"},\"colorscale\":[[0.0,\"#0d0887\"],[0.1111111111111111,\"#46039f\"],[0.2222222222222222,\"#7201a8\"],[0.3333333333333333,\"#9c179e\"],[0.4444444444444444,\"#bd3786\"],[0.5555555555555556,\"#d8576b\"],[0.6666666666666666,\"#ed7953\"],[0.7777777777777778,\"#fb9f3a\"],[0.8888888888888888,\"#fdca26\"],[1.0,\"#f0f921\"]],\"type\":\"heatmap\"}],\"heatmapgl\":[{\"colorbar\":{\"outlinewidth\":0,\"ticks\":\"\"},\"colorscale\":[[0.0,\"#0d0887\"],[0.1111111111111111,\"#46039f\"],[0.2222222222222222,\"#7201a8\"],[0.3333333333333333,\"#9c179e\"],[0.4444444444444444,\"#bd3786\"],[0.5555555555555556,\"#d8576b\"],[0.6666666666666666,\"#ed7953\"],[0.7777777777777778,\"#fb9f3a\"],[0.8888888888888888,\"#fdca26\"],[1.0,\"#f0f921\"]],\"type\":\"heatmapgl\"}],\"histogram\":[{\"marker\":{\"pattern\":{\"fillmode\":\"overlay\",\"size\":10,\"solidity\":0.2}},\"type\":\"histogram\"}],\"histogram2d\":[{\"colorbar\":{\"outlinewidth\":0,\"ticks\":\"\"},\"colorscale\":[[0.0,\"#0d0887\"],[0.1111111111111111,\"#46039f\"],[0.2222222222222222,\"#7201a8\"],[0.3333333333333333,\"#9c179e\"],[0.4444444444444444,\"#bd3786\"],[0.5555555555555556,\"#d8576b\"],[0.6666666666666666,\"#ed7953\"],[0.7777777777777778,\"#fb9f3a\"],[0.8888888888888888,\"#fdca26\"],[1.0,\"#f0f921\"]],\"type\":\"histogram2d\"}],\"histogram2dcontour\":[{\"colorbar\":{\"outlinewidth\":0,\"ticks\":\"\"},\"colorscale\":[[0.0,\"#0d0887\"],[0.1111111111111111,\"#46039f\"],[0.2222222222222222,\"#7201a8\"],[0.3333333333333333,\"#9c179e\"],[0.4444444444444444,\"#bd3786\"],[0.5555555555555556,\"#d8576b\"],[0.6666666666666666,\"#ed7953\"],[0.7777777777777778,\"#fb9f3a\"],[0.8888888888888888,\"#fdca26\"],[1.0,\"#f0f921\"]],\"type\":\"histogram2dcontour\"}],\"mesh3d\":[{\"colorbar\":{\"outlinewidth\":0,\"ticks\":\"\"},\"type\":\"mesh3d\"}],\"parcoords\":[{\"line\":{\"colorbar\":{\"outlinewidth\":0,\"ticks\":\"\"}},\"type\":\"parcoords\"}],\"pie\":[{\"automargin\":true,\"type\":\"pie\"}],\"scatter\":[{\"marker\":{\"colorbar\":{\"outlinewidth\":0,\"ticks\":\"\"}},\"type\":\"scatter\"}],\"scatter3d\":[{\"line\":{\"colorbar\":{\"outlinewidth\":0,\"ticks\":\"\"}},\"marker\":{\"colorbar\":{\"outlinewidth\":0,\"ticks\":\"\"}},\"type\":\"scatter3d\"}],\"scattercarpet\":[{\"marker\":{\"colorbar\":{\"outlinewidth\":0,\"ticks\":\"\"}},\"type\":\"scattercarpet\"}],\"scattergeo\":[{\"marker\":{\"colorbar\":{\"outlinewidth\":0,\"ticks\":\"\"}},\"type\":\"scattergeo\"}],\"scattergl\":[{\"marker\":{\"colorbar\":{\"outlinewidth\":0,\"ticks\":\"\"}},\"type\":\"scattergl\"}],\"scattermapbox\":[{\"marker\":{\"colorbar\":{\"outlinewidth\":0,\"ticks\":\"\"}},\"type\":\"scattermapbox\"}],\"scatterpolar\":[{\"marker\":{\"colorbar\":{\"outlinewidth\":0,\"ticks\":\"\"}},\"type\":\"scatterpolar\"}],\"scatterpolargl\":[{\"marker\":{\"colorbar\":{\"outlinewidth\":0,\"ticks\":\"\"}},\"type\":\"scatterpolargl\"}],\"scatterternary\":[{\"marker\":{\"colorbar\":{\"outlinewidth\":0,\"ticks\":\"\"}},\"type\":\"scatterternary\"}],\"surface\":[{\"colorbar\":{\"outlinewidth\":0,\"ticks\":\"\"},\"colorscale\":[[0.0,\"#0d0887\"],[0.1111111111111111,\"#46039f\"],[0.2222222222222222,\"#7201a8\"],[0.3333333333333333,\"#9c179e\"],[0.4444444444444444,\"#bd3786\"],[0.5555555555555556,\"#d8576b\"],[0.6666666666666666,\"#ed7953\"],[0.7777777777777778,\"#fb9f3a\"],[0.8888888888888888,\"#fdca26\"],[1.0,\"#f0f921\"]],\"type\":\"surface\"}],\"table\":[{\"cells\":{\"fill\":{\"color\":\"#EBF0F8\"},\"line\":{\"color\":\"white\"}},\"header\":{\"fill\":{\"color\":\"#C8D4E3\"},\"line\":{\"color\":\"white\"}},\"type\":\"table\"}]},\"layout\":{\"annotationdefaults\":{\"arrowcolor\":\"#2a3f5f\",\"arrowhead\":0,\"arrowwidth\":1},\"autotypenumbers\":\"strict\",\"coloraxis\":{\"colorbar\":{\"outlinewidth\":0,\"ticks\":\"\"}},\"colorscale\":{\"diverging\":[[0,\"#8e0152\"],[0.1,\"#c51b7d\"],[0.2,\"#de77ae\"],[0.3,\"#f1b6da\"],[0.4,\"#fde0ef\"],[0.5,\"#f7f7f7\"],[0.6,\"#e6f5d0\"],[0.7,\"#b8e186\"],[0.8,\"#7fbc41\"],[0.9,\"#4d9221\"],[1,\"#276419\"]],\"sequential\":[[0.0,\"#0d0887\"],[0.1111111111111111,\"#46039f\"],[0.2222222222222222,\"#7201a8\"],[0.3333333333333333,\"#9c179e\"],[0.4444444444444444,\"#bd3786\"],[0.5555555555555556,\"#d8576b\"],[0.6666666666666666,\"#ed7953\"],[0.7777777777777778,\"#fb9f3a\"],[0.8888888888888888,\"#fdca26\"],[1.0,\"#f0f921\"]],\"sequentialminus\":[[0.0,\"#0d0887\"],[0.1111111111111111,\"#46039f\"],[0.2222222222222222,\"#7201a8\"],[0.3333333333333333,\"#9c179e\"],[0.4444444444444444,\"#bd3786\"],[0.5555555555555556,\"#d8576b\"],[0.6666666666666666,\"#ed7953\"],[0.7777777777777778,\"#fb9f3a\"],[0.8888888888888888,\"#fdca26\"],[1.0,\"#f0f921\"]]},\"colorway\":[\"#636efa\",\"#EF553B\",\"#00cc96\",\"#ab63fa\",\"#FFA15A\",\"#19d3f3\",\"#FF6692\",\"#B6E880\",\"#FF97FF\",\"#FECB52\"],\"font\":{\"color\":\"#2a3f5f\"},\"geo\":{\"bgcolor\":\"white\",\"lakecolor\":\"white\",\"landcolor\":\"#E5ECF6\",\"showlakes\":true,\"showland\":true,\"subunitcolor\":\"white\"},\"hoverlabel\":{\"align\":\"left\"},\"hovermode\":\"closest\",\"mapbox\":{\"style\":\"light\"},\"paper_bgcolor\":\"white\",\"plot_bgcolor\":\"#E5ECF6\",\"polar\":{\"angularaxis\":{\"gridcolor\":\"white\",\"linecolor\":\"white\",\"ticks\":\"\"},\"bgcolor\":\"#E5ECF6\",\"radialaxis\":{\"gridcolor\":\"white\",\"linecolor\":\"white\",\"ticks\":\"\"}},\"scene\":{\"xaxis\":{\"backgroundcolor\":\"#E5ECF6\",\"gridcolor\":\"white\",\"gridwidth\":2,\"linecolor\":\"white\",\"showbackground\":true,\"ticks\":\"\",\"zerolinecolor\":\"white\"},\"yaxis\":{\"backgroundcolor\":\"#E5ECF6\",\"gridcolor\":\"white\",\"gridwidth\":2,\"linecolor\":\"white\",\"showbackground\":true,\"ticks\":\"\",\"zerolinecolor\":\"white\"},\"zaxis\":{\"backgroundcolor\":\"#E5ECF6\",\"gridcolor\":\"white\",\"gridwidth\":2,\"linecolor\":\"white\",\"showbackground\":true,\"ticks\":\"\",\"zerolinecolor\":\"white\"}},\"shapedefaults\":{\"line\":{\"color\":\"#2a3f5f\"}},\"ternary\":{\"aaxis\":{\"gridcolor\":\"white\",\"linecolor\":\"white\",\"ticks\":\"\"},\"baxis\":{\"gridcolor\":\"white\",\"linecolor\":\"white\",\"ticks\":\"\"},\"bgcolor\":\"#E5ECF6\",\"caxis\":{\"gridcolor\":\"white\",\"linecolor\":\"white\",\"ticks\":\"\"}},\"title\":{\"x\":0.05},\"xaxis\":{\"automargin\":true,\"gridcolor\":\"white\",\"linecolor\":\"white\",\"ticks\":\"\",\"title\":{\"standoff\":15},\"zerolinecolor\":\"white\",\"zerolinewidth\":2},\"yaxis\":{\"automargin\":true,\"gridcolor\":\"white\",\"linecolor\":\"white\",\"ticks\":\"\",\"title\":{\"standoff\":15},\"zerolinecolor\":\"white\",\"zerolinewidth\":2}}},\"title\":{\"text\":\"Top 10 Movies with highest IMDB Rating\",\"x\":0.5},\"xaxis\":{\"anchor\":\"y\",\"domain\":[0.0,1.0],\"title\":{\"text\":\"title\"}},\"yaxis\":{\"anchor\":\"x\",\"domain\":[0.0,1.0],\"title\":{\"text\":\"imdb_rating\"}}},                        {\"responsive\": true}                    ).then(function(){\n",
       "                            \n",
       "var gd = document.getElementById('ba603d47-82f4-442f-836d-415eecf64c8e');\n",
       "var x = new MutationObserver(function (mutations, observer) {{\n",
       "        var display = window.getComputedStyle(gd).display;\n",
       "        if (!display || display === 'none') {{\n",
       "            console.log([gd, 'removed!']);\n",
       "            Plotly.purge(gd);\n",
       "            observer.disconnect();\n",
       "        }}\n",
       "}});\n",
       "\n",
       "// Listen for the removal of the full notebook cells\n",
       "var notebookContainer = gd.closest('#notebook-container');\n",
       "if (notebookContainer) {{\n",
       "    x.observe(notebookContainer, {childList: true});\n",
       "}}\n",
       "\n",
       "// Listen for the clearing of the current output cell\n",
       "var outputEl = gd.closest('.output');\n",
       "if (outputEl) {{\n",
       "    x.observe(outputEl, {childList: true});\n",
       "}}\n",
       "\n",
       "                        })                };                });            </script>        </div>"
      ]
     },
     "metadata": {},
     "output_type": "display_data"
    }
   ],
   "source": [
    "top10_m = df[df['type'] == 'movie'].sort_values('imdb_rating',ascending=False).head(10)\n",
    "\n",
    "fig = px.bar(top10_m,top10_m['title'],top10_m['imdb_rating'],text=top10_m['imdb_rating'])\n",
    "fig.update_layout(title='Top 10 Movies with highest IMDB Rating',title_x=0.5)\n",
    "fig.show()\n",
    "\n"
   ]
  },
  {
   "cell_type": "code",
   "execution_count": 8,
   "metadata": {},
   "outputs": [
    {
     "data": {
      "application/vnd.plotly.v1+json": {
       "config": {
        "plotlyServerURL": "https://plot.ly"
       },
       "data": [
        {
         "marker": {
          "color": [
           10.63064800986256,
           11.085430974151043,
           10.071736415479362,
           9.627415245702217,
           8.09416159056317,
           9.873955217140795,
           9.95530861731543,
           9.881559749609854,
           10.681150664273757,
           10.515381022709427,
           9.477978314857022,
           11.156600023891395,
           10.109865841998802,
           8.876100110832162,
           10.299295118541899,
           9.086373584168546,
           10.102548701905345,
           9.066265536003526,
           11.470392196065035,
           10.294776577515197,
           11.324287458178633,
           9.136276447190731,
           9.01532087274654,
           9.630340413584342,
           10.739420713207492,
           11.26838168145548,
           9.651945949069066,
           10.219815693087048,
           9.768748697240875,
           10.407157031338764,
           9.598130040175803,
           9.530704202017132,
           11.800953664748594,
           10.340715242595753,
           8.701846165275427,
           8.937931426851241,
           11.046506602243156,
           8.439986367555036,
           10.78107799647506,
           9.418891926234831,
           8.19557425782457,
           9.615093096779004,
           11.302003318657249,
           9.55964225760904,
           9.970432606871794,
           10.436896981597414,
           10.850951884025154,
           9.128002530966668,
           10.056194654196743,
           10.901824311314941,
           10.230555178930032,
           9.164696899086675,
           10.63769133620445,
           10.808296626127557,
           9.037020332960255,
           9.207120426925288,
           10.3401932825203,
           10.471289538551215,
           9.29558783840515,
           9.780634848699004,
           11.307259202031702,
           10.091586742673899,
           9.655400740069672,
           10.576615613319136,
           10.499204756933716,
           10.411782946942175,
           9.89688901873912,
           10.156302085076826,
           10.563476866883851,
           9.6364695606206,
           9.109282553668164,
           10.719370962760037,
           9.318586977233728,
           11.589157404156529,
           11.418202103812005,
           9.936912745882728,
           11.980279997738881,
           10.250725998724834,
           9.076278642299322,
           8.840656593119638,
           9.118950847297585,
           9.061207972988118,
           8.594389619709197,
           9.093790605705262,
           9.484417063357919,
           10.836490406482467,
           8.745807786302615,
           11.384568288924097,
           10.723278629592299,
           9.980174322391328,
           9.522119918699497,
           9.580487454945665,
           10.225034521509905,
           9.90417549680544,
           9.910729222484978,
           9.702794422645027,
           10.002639300505617,
           10.496425192001183,
           10.28260226034084,
           9.35968851926602,
           9.525670890489735,
           11.056581775941872,
           9.977620842457435,
           9.972339226022665,
           11.005532826574822,
           6.74768765986863,
           10.586561690530239,
           10.371118200083723,
           10.232784428149161,
           10.400813684480301,
           9.41154274740577,
           9.148131818364888,
           10.044740232265616,
           10.936318334168673,
           9.61935033383437,
           9.709300366848757,
           11.449655427212887,
           11.127906736468988,
           9.731674110670733,
           8.669353440494412,
           10.822399674229928,
           11.133502845784612,
           9.772601594353931,
           10.441300590746593,
           8.958503614662902,
           9.624034866817434,
           11.276960384080645,
           10.798697063138842,
           8.70199033914509,
           9.159686211597132,
           10.922276035529507,
           10.830384744524103,
           9.262535475752932,
           9.641430396673496,
           8.212999989156302,
           9.060300390921723,
           9.227988402355512,
           8.86479269736729,
           9.268199024636417,
           9.649810295616136,
           8.326509479293437,
           9.383574135128542,
           10.903930537392133,
           9.979004084742572,
           8.07184016416934,
           9.306306824811065,
           8.108328987427097,
           12.063464488115773,
           9.736534740976726,
           10.357263169233082,
           11.255677265666376,
           10.460339715718844,
           9.540375451702445,
           8.473046719015137,
           9.931961599086108,
           9.594208492694769,
           10.818376364493528,
           8.86229317604809,
           7.9946571424120085,
           9.909507493262089,
           8.152296779153131,
           9.268387210653753,
           8.14115393012132,
           10.361033217048853,
           11.840028137985753,
           7.998836548213687,
           9.325166759270926,
           10.846526686665996,
           9.818519450375074,
           10.744598885446383,
           9.865402475266746,
           8.463625397272436,
           10.034975071360972,
           9.768025214675006,
           8.729183094644256,
           9.394591564059334,
           10.890506904448568,
           10.783057372468669,
           13.34497813030651,
           11.67805088933916,
           9.683481338012346,
           9.975877326786687,
           9.584581285314542,
           10.06072117904609,
           11.171519265563475,
           9.928383883723384,
           11.429783516002713,
           8.82286198855555,
           10.397862993134757,
           8.26745662829303,
           9.386206111984597,
           9.213125285647862,
           9.307915264321638,
           11.482295511071824,
           10.084340171734672,
           8.886937082007762,
           10.539178892506655,
           9.165060311815047,
           9.496891918612103,
           8.623481239681732
          ],
          "showscale": true,
          "size": [
           43.5,
           43,
           42.5,
           42.5,
           42,
           42,
           42,
           42,
           42,
           41.5
          ]
         },
         "mode": "markers",
         "type": "scatter",
         "x": [
          "Star Wars: Episode V - The Empire Strikes Back",
          "Star Wars: Episode IV - A New Hope",
          "The Lion King",
          "Disney's Newsies: The Broadway Musical!",
          "Presto",
          "Piper",
          "Coco",
          "WALL·E",
          "Avengers: Endgame",
          "Star Wars: Episode VI - Return of the Jedi"
         ],
         "y": [
          8.7,
          8.6,
          8.5,
          8.5,
          8.4,
          8.4,
          8.4,
          8.4,
          8.4,
          8.3
         ]
        }
       ],
       "layout": {
        "template": {
         "data": {
          "bar": [
           {
            "error_x": {
             "color": "#2a3f5f"
            },
            "error_y": {
             "color": "#2a3f5f"
            },
            "marker": {
             "line": {
              "color": "white",
              "width": 0.5
             },
             "pattern": {
              "fillmode": "overlay",
              "size": 10,
              "solidity": 0.2
             }
            },
            "type": "bar"
           }
          ],
          "barpolar": [
           {
            "marker": {
             "line": {
              "color": "white",
              "width": 0.5
             },
             "pattern": {
              "fillmode": "overlay",
              "size": 10,
              "solidity": 0.2
             }
            },
            "type": "barpolar"
           }
          ],
          "carpet": [
           {
            "aaxis": {
             "endlinecolor": "#2a3f5f",
             "gridcolor": "#C8D4E3",
             "linecolor": "#C8D4E3",
             "minorgridcolor": "#C8D4E3",
             "startlinecolor": "#2a3f5f"
            },
            "baxis": {
             "endlinecolor": "#2a3f5f",
             "gridcolor": "#C8D4E3",
             "linecolor": "#C8D4E3",
             "minorgridcolor": "#C8D4E3",
             "startlinecolor": "#2a3f5f"
            },
            "type": "carpet"
           }
          ],
          "choropleth": [
           {
            "colorbar": {
             "outlinewidth": 0,
             "ticks": ""
            },
            "type": "choropleth"
           }
          ],
          "contour": [
           {
            "colorbar": {
             "outlinewidth": 0,
             "ticks": ""
            },
            "colorscale": [
             [
              0,
              "#0d0887"
             ],
             [
              0.1111111111111111,
              "#46039f"
             ],
             [
              0.2222222222222222,
              "#7201a8"
             ],
             [
              0.3333333333333333,
              "#9c179e"
             ],
             [
              0.4444444444444444,
              "#bd3786"
             ],
             [
              0.5555555555555556,
              "#d8576b"
             ],
             [
              0.6666666666666666,
              "#ed7953"
             ],
             [
              0.7777777777777778,
              "#fb9f3a"
             ],
             [
              0.8888888888888888,
              "#fdca26"
             ],
             [
              1,
              "#f0f921"
             ]
            ],
            "type": "contour"
           }
          ],
          "contourcarpet": [
           {
            "colorbar": {
             "outlinewidth": 0,
             "ticks": ""
            },
            "type": "contourcarpet"
           }
          ],
          "heatmap": [
           {
            "colorbar": {
             "outlinewidth": 0,
             "ticks": ""
            },
            "colorscale": [
             [
              0,
              "#0d0887"
             ],
             [
              0.1111111111111111,
              "#46039f"
             ],
             [
              0.2222222222222222,
              "#7201a8"
             ],
             [
              0.3333333333333333,
              "#9c179e"
             ],
             [
              0.4444444444444444,
              "#bd3786"
             ],
             [
              0.5555555555555556,
              "#d8576b"
             ],
             [
              0.6666666666666666,
              "#ed7953"
             ],
             [
              0.7777777777777778,
              "#fb9f3a"
             ],
             [
              0.8888888888888888,
              "#fdca26"
             ],
             [
              1,
              "#f0f921"
             ]
            ],
            "type": "heatmap"
           }
          ],
          "heatmapgl": [
           {
            "colorbar": {
             "outlinewidth": 0,
             "ticks": ""
            },
            "colorscale": [
             [
              0,
              "#0d0887"
             ],
             [
              0.1111111111111111,
              "#46039f"
             ],
             [
              0.2222222222222222,
              "#7201a8"
             ],
             [
              0.3333333333333333,
              "#9c179e"
             ],
             [
              0.4444444444444444,
              "#bd3786"
             ],
             [
              0.5555555555555556,
              "#d8576b"
             ],
             [
              0.6666666666666666,
              "#ed7953"
             ],
             [
              0.7777777777777778,
              "#fb9f3a"
             ],
             [
              0.8888888888888888,
              "#fdca26"
             ],
             [
              1,
              "#f0f921"
             ]
            ],
            "type": "heatmapgl"
           }
          ],
          "histogram": [
           {
            "marker": {
             "pattern": {
              "fillmode": "overlay",
              "size": 10,
              "solidity": 0.2
             }
            },
            "type": "histogram"
           }
          ],
          "histogram2d": [
           {
            "colorbar": {
             "outlinewidth": 0,
             "ticks": ""
            },
            "colorscale": [
             [
              0,
              "#0d0887"
             ],
             [
              0.1111111111111111,
              "#46039f"
             ],
             [
              0.2222222222222222,
              "#7201a8"
             ],
             [
              0.3333333333333333,
              "#9c179e"
             ],
             [
              0.4444444444444444,
              "#bd3786"
             ],
             [
              0.5555555555555556,
              "#d8576b"
             ],
             [
              0.6666666666666666,
              "#ed7953"
             ],
             [
              0.7777777777777778,
              "#fb9f3a"
             ],
             [
              0.8888888888888888,
              "#fdca26"
             ],
             [
              1,
              "#f0f921"
             ]
            ],
            "type": "histogram2d"
           }
          ],
          "histogram2dcontour": [
           {
            "colorbar": {
             "outlinewidth": 0,
             "ticks": ""
            },
            "colorscale": [
             [
              0,
              "#0d0887"
             ],
             [
              0.1111111111111111,
              "#46039f"
             ],
             [
              0.2222222222222222,
              "#7201a8"
             ],
             [
              0.3333333333333333,
              "#9c179e"
             ],
             [
              0.4444444444444444,
              "#bd3786"
             ],
             [
              0.5555555555555556,
              "#d8576b"
             ],
             [
              0.6666666666666666,
              "#ed7953"
             ],
             [
              0.7777777777777778,
              "#fb9f3a"
             ],
             [
              0.8888888888888888,
              "#fdca26"
             ],
             [
              1,
              "#f0f921"
             ]
            ],
            "type": "histogram2dcontour"
           }
          ],
          "mesh3d": [
           {
            "colorbar": {
             "outlinewidth": 0,
             "ticks": ""
            },
            "type": "mesh3d"
           }
          ],
          "parcoords": [
           {
            "line": {
             "colorbar": {
              "outlinewidth": 0,
              "ticks": ""
             }
            },
            "type": "parcoords"
           }
          ],
          "pie": [
           {
            "automargin": true,
            "type": "pie"
           }
          ],
          "scatter": [
           {
            "marker": {
             "colorbar": {
              "outlinewidth": 0,
              "ticks": ""
             }
            },
            "type": "scatter"
           }
          ],
          "scatter3d": [
           {
            "line": {
             "colorbar": {
              "outlinewidth": 0,
              "ticks": ""
             }
            },
            "marker": {
             "colorbar": {
              "outlinewidth": 0,
              "ticks": ""
             }
            },
            "type": "scatter3d"
           }
          ],
          "scattercarpet": [
           {
            "marker": {
             "colorbar": {
              "outlinewidth": 0,
              "ticks": ""
             }
            },
            "type": "scattercarpet"
           }
          ],
          "scattergeo": [
           {
            "marker": {
             "colorbar": {
              "outlinewidth": 0,
              "ticks": ""
             }
            },
            "type": "scattergeo"
           }
          ],
          "scattergl": [
           {
            "marker": {
             "colorbar": {
              "outlinewidth": 0,
              "ticks": ""
             }
            },
            "type": "scattergl"
           }
          ],
          "scattermapbox": [
           {
            "marker": {
             "colorbar": {
              "outlinewidth": 0,
              "ticks": ""
             }
            },
            "type": "scattermapbox"
           }
          ],
          "scatterpolar": [
           {
            "marker": {
             "colorbar": {
              "outlinewidth": 0,
              "ticks": ""
             }
            },
            "type": "scatterpolar"
           }
          ],
          "scatterpolargl": [
           {
            "marker": {
             "colorbar": {
              "outlinewidth": 0,
              "ticks": ""
             }
            },
            "type": "scatterpolargl"
           }
          ],
          "scatterternary": [
           {
            "marker": {
             "colorbar": {
              "outlinewidth": 0,
              "ticks": ""
             }
            },
            "type": "scatterternary"
           }
          ],
          "surface": [
           {
            "colorbar": {
             "outlinewidth": 0,
             "ticks": ""
            },
            "colorscale": [
             [
              0,
              "#0d0887"
             ],
             [
              0.1111111111111111,
              "#46039f"
             ],
             [
              0.2222222222222222,
              "#7201a8"
             ],
             [
              0.3333333333333333,
              "#9c179e"
             ],
             [
              0.4444444444444444,
              "#bd3786"
             ],
             [
              0.5555555555555556,
              "#d8576b"
             ],
             [
              0.6666666666666666,
              "#ed7953"
             ],
             [
              0.7777777777777778,
              "#fb9f3a"
             ],
             [
              0.8888888888888888,
              "#fdca26"
             ],
             [
              1,
              "#f0f921"
             ]
            ],
            "type": "surface"
           }
          ],
          "table": [
           {
            "cells": {
             "fill": {
              "color": "#EBF0F8"
             },
             "line": {
              "color": "white"
             }
            },
            "header": {
             "fill": {
              "color": "#C8D4E3"
             },
             "line": {
              "color": "white"
             }
            },
            "type": "table"
           }
          ]
         },
         "layout": {
          "annotationdefaults": {
           "arrowcolor": "#2a3f5f",
           "arrowhead": 0,
           "arrowwidth": 1
          },
          "autotypenumbers": "strict",
          "coloraxis": {
           "colorbar": {
            "outlinewidth": 0,
            "ticks": ""
           }
          },
          "colorscale": {
           "diverging": [
            [
             0,
             "#8e0152"
            ],
            [
             0.1,
             "#c51b7d"
            ],
            [
             0.2,
             "#de77ae"
            ],
            [
             0.3,
             "#f1b6da"
            ],
            [
             0.4,
             "#fde0ef"
            ],
            [
             0.5,
             "#f7f7f7"
            ],
            [
             0.6,
             "#e6f5d0"
            ],
            [
             0.7,
             "#b8e186"
            ],
            [
             0.8,
             "#7fbc41"
            ],
            [
             0.9,
             "#4d9221"
            ],
            [
             1,
             "#276419"
            ]
           ],
           "sequential": [
            [
             0,
             "#0d0887"
            ],
            [
             0.1111111111111111,
             "#46039f"
            ],
            [
             0.2222222222222222,
             "#7201a8"
            ],
            [
             0.3333333333333333,
             "#9c179e"
            ],
            [
             0.4444444444444444,
             "#bd3786"
            ],
            [
             0.5555555555555556,
             "#d8576b"
            ],
            [
             0.6666666666666666,
             "#ed7953"
            ],
            [
             0.7777777777777778,
             "#fb9f3a"
            ],
            [
             0.8888888888888888,
             "#fdca26"
            ],
            [
             1,
             "#f0f921"
            ]
           ],
           "sequentialminus": [
            [
             0,
             "#0d0887"
            ],
            [
             0.1111111111111111,
             "#46039f"
            ],
            [
             0.2222222222222222,
             "#7201a8"
            ],
            [
             0.3333333333333333,
             "#9c179e"
            ],
            [
             0.4444444444444444,
             "#bd3786"
            ],
            [
             0.5555555555555556,
             "#d8576b"
            ],
            [
             0.6666666666666666,
             "#ed7953"
            ],
            [
             0.7777777777777778,
             "#fb9f3a"
            ],
            [
             0.8888888888888888,
             "#fdca26"
            ],
            [
             1,
             "#f0f921"
            ]
           ]
          },
          "colorway": [
           "#636efa",
           "#EF553B",
           "#00cc96",
           "#ab63fa",
           "#FFA15A",
           "#19d3f3",
           "#FF6692",
           "#B6E880",
           "#FF97FF",
           "#FECB52"
          ],
          "font": {
           "color": "#2a3f5f"
          },
          "geo": {
           "bgcolor": "white",
           "lakecolor": "white",
           "landcolor": "white",
           "showlakes": true,
           "showland": true,
           "subunitcolor": "#C8D4E3"
          },
          "hoverlabel": {
           "align": "left"
          },
          "hovermode": "closest",
          "mapbox": {
           "style": "light"
          },
          "paper_bgcolor": "white",
          "plot_bgcolor": "white",
          "polar": {
           "angularaxis": {
            "gridcolor": "#EBF0F8",
            "linecolor": "#EBF0F8",
            "ticks": ""
           },
           "bgcolor": "white",
           "radialaxis": {
            "gridcolor": "#EBF0F8",
            "linecolor": "#EBF0F8",
            "ticks": ""
           }
          },
          "scene": {
           "xaxis": {
            "backgroundcolor": "white",
            "gridcolor": "#DFE8F3",
            "gridwidth": 2,
            "linecolor": "#EBF0F8",
            "showbackground": true,
            "ticks": "",
            "zerolinecolor": "#EBF0F8"
           },
           "yaxis": {
            "backgroundcolor": "white",
            "gridcolor": "#DFE8F3",
            "gridwidth": 2,
            "linecolor": "#EBF0F8",
            "showbackground": true,
            "ticks": "",
            "zerolinecolor": "#EBF0F8"
           },
           "zaxis": {
            "backgroundcolor": "white",
            "gridcolor": "#DFE8F3",
            "gridwidth": 2,
            "linecolor": "#EBF0F8",
            "showbackground": true,
            "ticks": "",
            "zerolinecolor": "#EBF0F8"
           }
          },
          "shapedefaults": {
           "line": {
            "color": "#2a3f5f"
           }
          },
          "ternary": {
           "aaxis": {
            "gridcolor": "#DFE8F3",
            "linecolor": "#A2B1C6",
            "ticks": ""
           },
           "baxis": {
            "gridcolor": "#DFE8F3",
            "linecolor": "#A2B1C6",
            "ticks": ""
           },
           "bgcolor": "white",
           "caxis": {
            "gridcolor": "#DFE8F3",
            "linecolor": "#A2B1C6",
            "ticks": ""
           }
          },
          "title": {
           "x": 0.05
          },
          "xaxis": {
           "automargin": true,
           "gridcolor": "#EBF0F8",
           "linecolor": "#EBF0F8",
           "ticks": "",
           "title": {
            "standoff": 15
           },
           "zerolinecolor": "#EBF0F8",
           "zerolinewidth": 2
          },
          "yaxis": {
           "automargin": true,
           "gridcolor": "#EBF0F8",
           "linecolor": "#EBF0F8",
           "ticks": "",
           "title": {
            "standoff": 15
           },
           "zerolinecolor": "#EBF0F8",
           "zerolinewidth": 2
          }
         }
        },
        "title": {
         "text": "Top 10 Movies with the Highest IMDB Ratings",
         "x": 0.5
        },
        "xaxis": {
         "title": {
          "text": "name"
         }
        },
        "yaxis": {
         "title": {
          "text": "IMDB Rating"
         }
        }
       }
      },
      "text/html": [
       "<div>                            <div id=\"0517853e-6ca9-466e-b1ab-60529082cee7\" class=\"plotly-graph-div\" style=\"height:525px; width:100%;\"></div>            <script type=\"text/javascript\">                require([\"plotly\"], function(Plotly) {                    window.PLOTLYENV=window.PLOTLYENV || {};                                    if (document.getElementById(\"0517853e-6ca9-466e-b1ab-60529082cee7\")) {                    Plotly.newPlot(                        \"0517853e-6ca9-466e-b1ab-60529082cee7\",                        [{\"marker\":{\"color\":[10.63064800986256,11.085430974151043,10.071736415479362,9.627415245702217,8.09416159056317,9.873955217140795,9.95530861731543,9.881559749609854,10.681150664273757,10.515381022709427,9.477978314857022,11.156600023891395,10.109865841998802,8.876100110832162,10.299295118541899,9.086373584168546,10.102548701905345,9.066265536003526,11.470392196065035,10.294776577515197,11.324287458178633,9.136276447190731,9.01532087274654,9.630340413584342,10.739420713207492,11.26838168145548,9.651945949069066,10.219815693087048,9.768748697240875,10.407157031338764,9.598130040175803,9.530704202017132,11.800953664748594,10.340715242595753,8.701846165275427,8.937931426851241,11.046506602243156,8.439986367555036,10.78107799647506,9.418891926234831,8.19557425782457,9.615093096779004,11.302003318657249,9.55964225760904,9.970432606871794,10.436896981597414,10.850951884025154,9.128002530966668,10.056194654196743,10.901824311314941,10.230555178930032,9.164696899086675,10.63769133620445,10.808296626127557,9.037020332960255,9.207120426925288,10.3401932825203,10.471289538551215,9.29558783840515,9.780634848699004,11.307259202031702,10.091586742673899,9.655400740069672,10.576615613319136,10.499204756933716,10.411782946942175,9.89688901873912,10.156302085076826,10.563476866883851,9.6364695606206,9.109282553668164,10.719370962760037,9.318586977233728,11.589157404156529,11.418202103812005,9.936912745882728,11.980279997738881,10.250725998724834,9.076278642299322,8.840656593119638,9.118950847297585,9.061207972988118,8.594389619709197,9.093790605705262,9.484417063357919,10.836490406482467,8.745807786302615,11.384568288924097,10.723278629592299,9.980174322391328,9.522119918699497,9.580487454945665,10.225034521509905,9.90417549680544,9.910729222484978,9.702794422645027,10.002639300505617,10.496425192001183,10.28260226034084,9.35968851926602,9.525670890489735,11.056581775941872,9.977620842457435,9.972339226022665,11.005532826574822,6.74768765986863,10.586561690530239,10.371118200083723,10.232784428149161,10.400813684480301,9.41154274740577,9.148131818364888,10.044740232265616,10.936318334168673,9.61935033383437,9.709300366848757,11.449655427212887,11.127906736468988,9.731674110670733,8.669353440494412,10.822399674229928,11.133502845784612,9.772601594353931,10.441300590746593,8.958503614662902,9.624034866817434,11.276960384080645,10.798697063138842,8.70199033914509,9.159686211597132,10.922276035529507,10.830384744524103,9.262535475752932,9.641430396673496,8.212999989156302,9.060300390921723,9.227988402355512,8.86479269736729,9.268199024636417,9.649810295616136,8.326509479293437,9.383574135128542,10.903930537392133,9.979004084742572,8.07184016416934,9.306306824811065,8.108328987427097,12.063464488115773,9.736534740976726,10.357263169233082,11.255677265666376,10.460339715718844,9.540375451702445,8.473046719015137,9.931961599086108,9.594208492694769,10.818376364493528,8.86229317604809,7.9946571424120085,9.909507493262089,8.152296779153131,9.268387210653753,8.14115393012132,10.361033217048853,11.840028137985753,7.998836548213687,9.325166759270926,10.846526686665996,9.818519450375074,10.744598885446383,9.865402475266746,8.463625397272436,10.034975071360972,9.768025214675006,8.729183094644256,9.394591564059334,10.890506904448568,10.783057372468669,13.34497813030651,11.67805088933916,9.683481338012346,9.975877326786687,9.584581285314542,10.06072117904609,11.171519265563475,9.928383883723384,11.429783516002713,8.82286198855555,10.397862993134757,8.26745662829303,9.386206111984597,9.213125285647862,9.307915264321638,11.482295511071824,10.084340171734672,8.886937082007762,10.539178892506655,9.165060311815047,9.496891918612103,8.623481239681732],\"showscale\":true,\"size\":[43.5,43.0,42.5,42.5,42.0,42.0,42.0,42.0,42.0,41.5]},\"mode\":\"markers\",\"type\":\"scatter\",\"x\":[\"Star Wars: Episode V - The Empire Strikes Back\",\"Star Wars: Episode IV - A New Hope\",\"The Lion King\",\"Disney's Newsies: The Broadway Musical!\",\"Presto\",\"Piper\",\"Coco\",\"WALL\\u00b7E\",\"Avengers: Endgame\",\"Star Wars: Episode VI - Return of the Jedi\"],\"y\":[8.7,8.6,8.5,8.5,8.4,8.4,8.4,8.4,8.4,8.3]}],                        {\"template\":{\"data\":{\"bar\":[{\"error_x\":{\"color\":\"#2a3f5f\"},\"error_y\":{\"color\":\"#2a3f5f\"},\"marker\":{\"line\":{\"color\":\"white\",\"width\":0.5},\"pattern\":{\"fillmode\":\"overlay\",\"size\":10,\"solidity\":0.2}},\"type\":\"bar\"}],\"barpolar\":[{\"marker\":{\"line\":{\"color\":\"white\",\"width\":0.5},\"pattern\":{\"fillmode\":\"overlay\",\"size\":10,\"solidity\":0.2}},\"type\":\"barpolar\"}],\"carpet\":[{\"aaxis\":{\"endlinecolor\":\"#2a3f5f\",\"gridcolor\":\"#C8D4E3\",\"linecolor\":\"#C8D4E3\",\"minorgridcolor\":\"#C8D4E3\",\"startlinecolor\":\"#2a3f5f\"},\"baxis\":{\"endlinecolor\":\"#2a3f5f\",\"gridcolor\":\"#C8D4E3\",\"linecolor\":\"#C8D4E3\",\"minorgridcolor\":\"#C8D4E3\",\"startlinecolor\":\"#2a3f5f\"},\"type\":\"carpet\"}],\"choropleth\":[{\"colorbar\":{\"outlinewidth\":0,\"ticks\":\"\"},\"type\":\"choropleth\"}],\"contour\":[{\"colorbar\":{\"outlinewidth\":0,\"ticks\":\"\"},\"colorscale\":[[0.0,\"#0d0887\"],[0.1111111111111111,\"#46039f\"],[0.2222222222222222,\"#7201a8\"],[0.3333333333333333,\"#9c179e\"],[0.4444444444444444,\"#bd3786\"],[0.5555555555555556,\"#d8576b\"],[0.6666666666666666,\"#ed7953\"],[0.7777777777777778,\"#fb9f3a\"],[0.8888888888888888,\"#fdca26\"],[1.0,\"#f0f921\"]],\"type\":\"contour\"}],\"contourcarpet\":[{\"colorbar\":{\"outlinewidth\":0,\"ticks\":\"\"},\"type\":\"contourcarpet\"}],\"heatmap\":[{\"colorbar\":{\"outlinewidth\":0,\"ticks\":\"\"},\"colorscale\":[[0.0,\"#0d0887\"],[0.1111111111111111,\"#46039f\"],[0.2222222222222222,\"#7201a8\"],[0.3333333333333333,\"#9c179e\"],[0.4444444444444444,\"#bd3786\"],[0.5555555555555556,\"#d8576b\"],[0.6666666666666666,\"#ed7953\"],[0.7777777777777778,\"#fb9f3a\"],[0.8888888888888888,\"#fdca26\"],[1.0,\"#f0f921\"]],\"type\":\"heatmap\"}],\"heatmapgl\":[{\"colorbar\":{\"outlinewidth\":0,\"ticks\":\"\"},\"colorscale\":[[0.0,\"#0d0887\"],[0.1111111111111111,\"#46039f\"],[0.2222222222222222,\"#7201a8\"],[0.3333333333333333,\"#9c179e\"],[0.4444444444444444,\"#bd3786\"],[0.5555555555555556,\"#d8576b\"],[0.6666666666666666,\"#ed7953\"],[0.7777777777777778,\"#fb9f3a\"],[0.8888888888888888,\"#fdca26\"],[1.0,\"#f0f921\"]],\"type\":\"heatmapgl\"}],\"histogram\":[{\"marker\":{\"pattern\":{\"fillmode\":\"overlay\",\"size\":10,\"solidity\":0.2}},\"type\":\"histogram\"}],\"histogram2d\":[{\"colorbar\":{\"outlinewidth\":0,\"ticks\":\"\"},\"colorscale\":[[0.0,\"#0d0887\"],[0.1111111111111111,\"#46039f\"],[0.2222222222222222,\"#7201a8\"],[0.3333333333333333,\"#9c179e\"],[0.4444444444444444,\"#bd3786\"],[0.5555555555555556,\"#d8576b\"],[0.6666666666666666,\"#ed7953\"],[0.7777777777777778,\"#fb9f3a\"],[0.8888888888888888,\"#fdca26\"],[1.0,\"#f0f921\"]],\"type\":\"histogram2d\"}],\"histogram2dcontour\":[{\"colorbar\":{\"outlinewidth\":0,\"ticks\":\"\"},\"colorscale\":[[0.0,\"#0d0887\"],[0.1111111111111111,\"#46039f\"],[0.2222222222222222,\"#7201a8\"],[0.3333333333333333,\"#9c179e\"],[0.4444444444444444,\"#bd3786\"],[0.5555555555555556,\"#d8576b\"],[0.6666666666666666,\"#ed7953\"],[0.7777777777777778,\"#fb9f3a\"],[0.8888888888888888,\"#fdca26\"],[1.0,\"#f0f921\"]],\"type\":\"histogram2dcontour\"}],\"mesh3d\":[{\"colorbar\":{\"outlinewidth\":0,\"ticks\":\"\"},\"type\":\"mesh3d\"}],\"parcoords\":[{\"line\":{\"colorbar\":{\"outlinewidth\":0,\"ticks\":\"\"}},\"type\":\"parcoords\"}],\"pie\":[{\"automargin\":true,\"type\":\"pie\"}],\"scatter\":[{\"marker\":{\"colorbar\":{\"outlinewidth\":0,\"ticks\":\"\"}},\"type\":\"scatter\"}],\"scatter3d\":[{\"line\":{\"colorbar\":{\"outlinewidth\":0,\"ticks\":\"\"}},\"marker\":{\"colorbar\":{\"outlinewidth\":0,\"ticks\":\"\"}},\"type\":\"scatter3d\"}],\"scattercarpet\":[{\"marker\":{\"colorbar\":{\"outlinewidth\":0,\"ticks\":\"\"}},\"type\":\"scattercarpet\"}],\"scattergeo\":[{\"marker\":{\"colorbar\":{\"outlinewidth\":0,\"ticks\":\"\"}},\"type\":\"scattergeo\"}],\"scattergl\":[{\"marker\":{\"colorbar\":{\"outlinewidth\":0,\"ticks\":\"\"}},\"type\":\"scattergl\"}],\"scattermapbox\":[{\"marker\":{\"colorbar\":{\"outlinewidth\":0,\"ticks\":\"\"}},\"type\":\"scattermapbox\"}],\"scatterpolar\":[{\"marker\":{\"colorbar\":{\"outlinewidth\":0,\"ticks\":\"\"}},\"type\":\"scatterpolar\"}],\"scatterpolargl\":[{\"marker\":{\"colorbar\":{\"outlinewidth\":0,\"ticks\":\"\"}},\"type\":\"scatterpolargl\"}],\"scatterternary\":[{\"marker\":{\"colorbar\":{\"outlinewidth\":0,\"ticks\":\"\"}},\"type\":\"scatterternary\"}],\"surface\":[{\"colorbar\":{\"outlinewidth\":0,\"ticks\":\"\"},\"colorscale\":[[0.0,\"#0d0887\"],[0.1111111111111111,\"#46039f\"],[0.2222222222222222,\"#7201a8\"],[0.3333333333333333,\"#9c179e\"],[0.4444444444444444,\"#bd3786\"],[0.5555555555555556,\"#d8576b\"],[0.6666666666666666,\"#ed7953\"],[0.7777777777777778,\"#fb9f3a\"],[0.8888888888888888,\"#fdca26\"],[1.0,\"#f0f921\"]],\"type\":\"surface\"}],\"table\":[{\"cells\":{\"fill\":{\"color\":\"#EBF0F8\"},\"line\":{\"color\":\"white\"}},\"header\":{\"fill\":{\"color\":\"#C8D4E3\"},\"line\":{\"color\":\"white\"}},\"type\":\"table\"}]},\"layout\":{\"annotationdefaults\":{\"arrowcolor\":\"#2a3f5f\",\"arrowhead\":0,\"arrowwidth\":1},\"autotypenumbers\":\"strict\",\"coloraxis\":{\"colorbar\":{\"outlinewidth\":0,\"ticks\":\"\"}},\"colorscale\":{\"diverging\":[[0,\"#8e0152\"],[0.1,\"#c51b7d\"],[0.2,\"#de77ae\"],[0.3,\"#f1b6da\"],[0.4,\"#fde0ef\"],[0.5,\"#f7f7f7\"],[0.6,\"#e6f5d0\"],[0.7,\"#b8e186\"],[0.8,\"#7fbc41\"],[0.9,\"#4d9221\"],[1,\"#276419\"]],\"sequential\":[[0.0,\"#0d0887\"],[0.1111111111111111,\"#46039f\"],[0.2222222222222222,\"#7201a8\"],[0.3333333333333333,\"#9c179e\"],[0.4444444444444444,\"#bd3786\"],[0.5555555555555556,\"#d8576b\"],[0.6666666666666666,\"#ed7953\"],[0.7777777777777778,\"#fb9f3a\"],[0.8888888888888888,\"#fdca26\"],[1.0,\"#f0f921\"]],\"sequentialminus\":[[0.0,\"#0d0887\"],[0.1111111111111111,\"#46039f\"],[0.2222222222222222,\"#7201a8\"],[0.3333333333333333,\"#9c179e\"],[0.4444444444444444,\"#bd3786\"],[0.5555555555555556,\"#d8576b\"],[0.6666666666666666,\"#ed7953\"],[0.7777777777777778,\"#fb9f3a\"],[0.8888888888888888,\"#fdca26\"],[1.0,\"#f0f921\"]]},\"colorway\":[\"#636efa\",\"#EF553B\",\"#00cc96\",\"#ab63fa\",\"#FFA15A\",\"#19d3f3\",\"#FF6692\",\"#B6E880\",\"#FF97FF\",\"#FECB52\"],\"font\":{\"color\":\"#2a3f5f\"},\"geo\":{\"bgcolor\":\"white\",\"lakecolor\":\"white\",\"landcolor\":\"white\",\"showlakes\":true,\"showland\":true,\"subunitcolor\":\"#C8D4E3\"},\"hoverlabel\":{\"align\":\"left\"},\"hovermode\":\"closest\",\"mapbox\":{\"style\":\"light\"},\"paper_bgcolor\":\"white\",\"plot_bgcolor\":\"white\",\"polar\":{\"angularaxis\":{\"gridcolor\":\"#EBF0F8\",\"linecolor\":\"#EBF0F8\",\"ticks\":\"\"},\"bgcolor\":\"white\",\"radialaxis\":{\"gridcolor\":\"#EBF0F8\",\"linecolor\":\"#EBF0F8\",\"ticks\":\"\"}},\"scene\":{\"xaxis\":{\"backgroundcolor\":\"white\",\"gridcolor\":\"#DFE8F3\",\"gridwidth\":2,\"linecolor\":\"#EBF0F8\",\"showbackground\":true,\"ticks\":\"\",\"zerolinecolor\":\"#EBF0F8\"},\"yaxis\":{\"backgroundcolor\":\"white\",\"gridcolor\":\"#DFE8F3\",\"gridwidth\":2,\"linecolor\":\"#EBF0F8\",\"showbackground\":true,\"ticks\":\"\",\"zerolinecolor\":\"#EBF0F8\"},\"zaxis\":{\"backgroundcolor\":\"white\",\"gridcolor\":\"#DFE8F3\",\"gridwidth\":2,\"linecolor\":\"#EBF0F8\",\"showbackground\":true,\"ticks\":\"\",\"zerolinecolor\":\"#EBF0F8\"}},\"shapedefaults\":{\"line\":{\"color\":\"#2a3f5f\"}},\"ternary\":{\"aaxis\":{\"gridcolor\":\"#DFE8F3\",\"linecolor\":\"#A2B1C6\",\"ticks\":\"\"},\"baxis\":{\"gridcolor\":\"#DFE8F3\",\"linecolor\":\"#A2B1C6\",\"ticks\":\"\"},\"bgcolor\":\"white\",\"caxis\":{\"gridcolor\":\"#DFE8F3\",\"linecolor\":\"#A2B1C6\",\"ticks\":\"\"}},\"title\":{\"x\":0.05},\"xaxis\":{\"automargin\":true,\"gridcolor\":\"#EBF0F8\",\"linecolor\":\"#EBF0F8\",\"ticks\":\"\",\"title\":{\"standoff\":15},\"zerolinecolor\":\"#EBF0F8\",\"zerolinewidth\":2},\"yaxis\":{\"automargin\":true,\"gridcolor\":\"#EBF0F8\",\"linecolor\":\"#EBF0F8\",\"ticks\":\"\",\"title\":{\"standoff\":15},\"zerolinecolor\":\"#EBF0F8\",\"zerolinewidth\":2}}},\"title\":{\"text\":\"Top 10 Movies with the Highest IMDB Ratings\",\"x\":0.5},\"xaxis\":{\"title\":{\"text\":\"name\"}},\"yaxis\":{\"title\":{\"text\":\"IMDB Rating\"}}},                        {\"responsive\": true}                    ).then(function(){\n",
       "                            \n",
       "var gd = document.getElementById('0517853e-6ca9-466e-b1ab-60529082cee7');\n",
       "var x = new MutationObserver(function (mutations, observer) {{\n",
       "        var display = window.getComputedStyle(gd).display;\n",
       "        if (!display || display === 'none') {{\n",
       "            console.log([gd, 'removed!']);\n",
       "            Plotly.purge(gd);\n",
       "            observer.disconnect();\n",
       "        }}\n",
       "}});\n",
       "\n",
       "// Listen for the removal of the full notebook cells\n",
       "var notebookContainer = gd.closest('#notebook-container');\n",
       "if (notebookContainer) {{\n",
       "    x.observe(notebookContainer, {childList: true});\n",
       "}}\n",
       "\n",
       "// Listen for the clearing of the current output cell\n",
       "var outputEl = gd.closest('.output');\n",
       "if (outputEl) {{\n",
       "    x.observe(outputEl, {childList: true});\n",
       "}}\n",
       "\n",
       "                        })                };                });            </script>        </div>"
      ]
     },
     "metadata": {},
     "output_type": "display_data"
    }
   ],
   "source": [
    "fig = go.Figure(data=[go.Scatter(\n",
    "    x=top10_m['title'],\n",
    "    y=top10_m['imdb_rating'],\n",
    "    mode='markers',\n",
    "    marker=dict(\n",
    "        color=10+np.random.randn(200),\n",
    "\n",
    "        size=top10_m['imdb_rating']*5,\n",
    "        showscale=True\n",
    "        )\n",
    ")])\n",
    "fig.update_layout(\n",
    "    title='Top 10 Movies with the Highest IMDB Ratings',\n",
    "    title_x=0.5,\n",
    "    xaxis_title=\"name\",\n",
    "    yaxis_title=\"IMDB Rating\",\n",
    "    template='plotly_white'\n",
    "\n",
    ")\n",
    "fig.show()"
   ]
  },
  {
   "cell_type": "code",
   "execution_count": 10,
   "metadata": {},
   "outputs": [
    {
     "data": {
      "application/vnd.plotly.v1+json": {
       "config": {
        "plotlyServerURL": "https://plot.ly"
       },
       "data": [
        {
         "alignmentgroup": "True",
         "bingroup": "x",
         "hovertemplate": "variable=imdb_votes<br>value=%{x}<br>count=%{y}<extra></extra>",
         "legendgroup": "imdb_votes",
         "marker": {
          "color": "#636efa",
          "pattern": {
           "shape": ""
          }
         },
         "name": "imdb_votes",
         "offsetgroup": "imdb_votes",
         "orientation": "v",
         "showlegend": true,
         "type": "histogram",
         "x": [
          "283,945",
          "124",
          "97,785",
          "7,434",
          "33,444",
          "4,933",
          "27,761",
          "257,065",
          "35",
          "43,655",
          "5,479",
          "488",
          "1,042",
          "59",
          "38,659",
          "204,537",
          "356,283",
          "31,603",
          "25,623",
          "123,377",
          "371,772",
          "2,586",
          "572",
          "1,840",
          "309",
          "4,652",
          "557",
          "73",
          "236",
          "9,244",
          "1,723",
          "4,380",
          "130",
          null,
          "82,011",
          "178",
          "7,621",
          "98,258",
          "1,019",
          "8,666",
          "1,086,714",
          null,
          "799",
          "3,228",
          "125,824",
          "8,741",
          "19,660",
          null,
          "675",
          "254",
          "404,632",
          "2,425",
          "8,603",
          "10,040",
          "32,823",
          "85,524",
          "269",
          "25,171",
          "2,629",
          "1,475",
          "11,575",
          "567",
          null,
          "393,016",
          null,
          "77",
          null,
          "47",
          "4,913",
          "18,277",
          "949",
          "993",
          "182,591",
          null,
          "1,188",
          null,
          "12,312",
          "37,279",
          "2,812",
          "357,239",
          "1,201",
          "42",
          null,
          "5,328",
          "92,453",
          "13,878",
          "436",
          "23",
          null,
          "9,708",
          "12,570",
          "8,448",
          "28,782",
          "15,387",
          "756",
          "3,479",
          "269",
          null,
          "349,674",
          "150,876",
          "68,243",
          null,
          "283",
          null,
          null,
          null,
          null,
          null,
          "178",
          "272",
          "56",
          null,
          "535",
          "1,432",
          "316",
          "48",
          "50",
          "90,580",
          "801",
          "764",
          "82,825",
          "16,431",
          "1,223",
          "139,378",
          "9,985",
          "8,691",
          "1,987",
          "3,482",
          "333,411",
          null,
          "14,974",
          "26,686",
          "93",
          "88,123",
          "267",
          null,
          "483",
          "5,625",
          "599",
          "2,634",
          "6,664",
          "13,689",
          "1,585",
          "3,316",
          "16,108",
          "40",
          "2,791",
          "7,218",
          "4,072",
          "3,695",
          "1,291",
          "333",
          "40,808",
          "50,895",
          "2,582",
          "912",
          "5,133",
          "2,363",
          "1,154",
          "1,565",
          "1,666",
          "14,470",
          "707",
          null,
          "396",
          "9",
          "193",
          "144",
          null,
          "2,403",
          "63,771",
          null,
          "2,047",
          "5",
          "1,227",
          "5,555",
          null,
          "2,979",
          null,
          "837",
          "153",
          null,
          "2,253",
          "1,578",
          "35",
          "492",
          null,
          null,
          "652",
          "2,046",
          "9,623",
          "1,291",
          "223",
          "186",
          null,
          "1,371",
          "181",
          "530",
          null,
          "8,913",
          "282",
          "27,880",
          null,
          null,
          "9,244",
          "22,207",
          "1,143",
          "1,155",
          "21,355",
          "3,977",
          "39,194",
          "3,701",
          null,
          "6,043",
          "6,262",
          "3,316",
          "5,708",
          "1,024",
          "3,529",
          "1,093",
          "442",
          "18",
          "1,734",
          "89,150",
          "40,531",
          "2,539",
          null,
          "566",
          "376",
          "2,421",
          "572",
          "764",
          "416",
          "318",
          "2,820",
          "2,868",
          "323",
          "17",
          "345",
          "13",
          "47",
          "10",
          "49",
          "220",
          "11",
          "41",
          "5,051",
          "24,234",
          "5,161",
          "58,882",
          null,
          "24",
          "12",
          "2,304",
          "58,850",
          "998",
          null,
          "61",
          "991",
          "390",
          "3,772",
          "235",
          "8,810",
          "13,163",
          "10",
          "18",
          "47",
          "84,999",
          "33,785",
          "2,886",
          "1,921",
          "2,254",
          "227,414",
          "911,647",
          null,
          "9,855",
          "2,882",
          "42,322",
          "1,031",
          "1,547",
          "81,512",
          null,
          "28,126",
          null,
          null,
          null,
          null,
          null,
          "26",
          null,
          null,
          "32",
          null,
          "524",
          "94,078",
          "10,736",
          "11,109",
          "120,172",
          "916",
          "46,710",
          "3,969",
          "551,637",
          "106,368",
          "816",
          "6,454",
          "155",
          "41,151",
          "13,699",
          "10,723",
          "1,570",
          null,
          "68,409",
          "6,039",
          "21,679",
          "5,713",
          null,
          "12,220",
          "41,442",
          "3,121",
          "1,212",
          "17,475",
          "4,577",
          "7,293",
          "316",
          "1,551",
          null,
          "1,304",
          "694",
          "1,203",
          "1,481",
          "36",
          "11,872",
          "5,443",
          "6,476",
          "1,288",
          "35,066",
          "8,392",
          "38,414",
          null,
          "2,324",
          "823",
          "24,212",
          "312",
          "4,958",
          "6,553",
          "7,035",
          "43,653",
          "195,894",
          "77,328",
          "52,782",
          "55,628",
          "2,038",
          null,
          "14",
          "89,713",
          "74,143",
          "101,062",
          "19,123",
          "13,127",
          "40,421",
          "39,775",
          "137,074",
          "12,439",
          "1,485",
          "382",
          "894",
          "34",
          "2,484",
          "367",
          "462",
          "826",
          "386",
          "2,473",
          "8,812",
          "421,204",
          "2,814",
          "23,891",
          "682",
          null,
          "17",
          null,
          null,
          "577,209",
          "43,808",
          "5,423",
          "94",
          "183",
          "63,682",
          "2,240",
          "2,638",
          "2,671",
          "7,095",
          null,
          "54,474",
          "13,829",
          "57,814",
          "3,897",
          null,
          "11,715",
          null,
          "248,903",
          "1,922",
          "4,615",
          "17,198",
          null,
          "15,008",
          "6,574",
          "1,603",
          "22,111",
          "205",
          "125",
          "22,405",
          "4,372",
          "2,030",
          "3,728",
          null,
          "77",
          "56",
          "3,834",
          null,
          "10,599",
          "12,217",
          "4,349",
          "12,134",
          "116,990",
          "9,837",
          "1,848",
          "980",
          null,
          "401",
          "127",
          null,
          "617",
          "17",
          "680",
          null,
          "54",
          "65",
          null,
          "161",
          "364",
          "13,515",
          "803",
          "4,565",
          "2,731",
          "221",
          "1,429",
          "1,205",
          "5,221",
          "727",
          "17,178",
          "160,264",
          "7,344",
          "11,210",
          "16,649",
          "1,838",
          "362",
          "63",
          null,
          "56",
          "5,581",
          null,
          "6,337",
          null,
          "686",
          "818",
          null,
          null,
          "15",
          "20,441",
          "534",
          "594",
          "24,829",
          "2,643",
          "36,206",
          "85",
          "242",
          "306",
          "255",
          null,
          "61",
          "854",
          "936",
          null,
          "540,523",
          "711,205",
          "694,527",
          "579,293",
          "628,016",
          "711,603",
          "706,555",
          "406,778",
          "562,696",
          "1,007,917",
          "537,920",
          "910,300",
          "693,517",
          "730,917",
          "1,225,316",
          "717,145",
          "542,938",
          "571,192",
          "63",
          "9,725",
          "69,458",
          "246",
          "6,168",
          null,
          "75",
          "2,520",
          null,
          "97",
          "20,672",
          "2,012",
          "160",
          "20,241",
          "1,440",
          null,
          null,
          "151,417",
          "7,151",
          "2,567",
          "84,040",
          "4,534",
          null,
          "1,772",
          "609",
          "335",
          "7,496",
          "607",
          "9,549",
          null,
          "6,247",
          "533",
          "2,542",
          "3,756",
          "26,795",
          "11,759",
          "416",
          "24,147",
          "5,182",
          "45,667",
          "293",
          "1,835",
          "67",
          "38,715",
          "51",
          "250,176",
          "3,300",
          "308,588",
          "779,728",
          "4,203",
          "1173",
          "511",
          "557",
          "237,755",
          "20,851",
          "329",
          null,
          "6",
          "20,293",
          "30,336",
          "77",
          "12,448",
          "363",
          "295,236",
          "212,576",
          "86",
          "18,094",
          "1,703",
          "9,752",
          "2,047",
          "10,650",
          "35,534",
          "11,270",
          "41,874",
          "1,056",
          "1,025",
          "155",
          null,
          "146,668",
          "2,977",
          "13,993",
          "5,420",
          "45,444",
          "8,265",
          "344",
          "504",
          "814",
          "5",
          null,
          "9",
          "19,102",
          "1,480",
          "6",
          "272",
          "21,558",
          "52,020",
          "120,707",
          "17,404",
          "2,570",
          "6,479",
          "31,287",
          "7,624",
          "419",
          null,
          "6,519",
          "124,261",
          "24,041",
          "577,465",
          "635,041",
          "465,510",
          "992,127",
          "193",
          "3,085",
          "696",
          null,
          null,
          "2,023",
          "383",
          "138",
          null,
          null,
          "163,209",
          "13,201",
          "8,533",
          "4,850",
          "6,031",
          null,
          "21,778",
          "163",
          "20,758",
          "14,569",
          "42",
          "611",
          "1,158",
          "3,478",
          "14,265",
          "2,030",
          "612,483",
          "4,915",
          "282",
          "571",
          "9,032",
          "1,759",
          "32,647",
          "6,019",
          "190,945",
          null,
          "4,201",
          "5,338",
          "23,581",
          "1,960",
          "1,087",
          null,
          "1,135",
          "110,712",
          "5",
          "526,836",
          "23,711",
          "968",
          "607",
          "2,122",
          "259",
          "4,784",
          "140",
          "3,879",
          "1,100",
          "1,320",
          "147,182",
          "331",
          null,
          "556",
          "10,155",
          "25,455",
          "7",
          "126",
          "6",
          "76",
          null,
          "10,911",
          null,
          "5,651",
          "503",
          "2,364",
          "16",
          "1,778",
          "302,244",
          "83,764",
          "47,046",
          "1,022",
          "129,694",
          "4,198",
          "5,998",
          "399",
          "24,563",
          "174,379",
          "1,355",
          "2,043",
          "2,519",
          "350",
          "10,074",
          "833",
          "943",
          "2,704",
          "2,517",
          "438",
          "65,908",
          "1,105",
          "24,977",
          null,
          "3,403",
          "1,188,658",
          "613,768",
          "29",
          "912,250",
          "681,075",
          "47,308",
          "53,973",
          "1,109,656",
          "833,706",
          "532,835",
          "698,744",
          null,
          "2,130",
          "12,305",
          "6,678",
          "1,317",
          "7,622",
          "133",
          "3,395",
          "12",
          "1,089",
          "854",
          "40",
          "324",
          "13,189",
          "12,743",
          "3,246",
          "390,220",
          "1,861",
          "1,598",
          "5,264",
          "1,471",
          "378",
          "3,331",
          "8,886",
          "6,775",
          "3,952",
          "5,542",
          "16,953",
          "6,856",
          null,
          "603",
          "7,451",
          "11,917",
          "166",
          "286",
          "4,710",
          "2,270",
          "89,029",
          "1,061",
          "12,505",
          "682",
          "2,714",
          "253",
          "73,906",
          "1,381",
          "281",
          "29,395",
          "22,422",
          "8,311",
          null,
          "412",
          "25",
          "1,333",
          "421",
          "4,162",
          "6,690",
          "5,512",
          "3,779",
          "345",
          "187,627",
          "353,342",
          "3,027",
          "4,208",
          "4,769",
          null,
          null,
          "171,721",
          "6,241",
          "59,000",
          "24",
          "81,227",
          "3,961",
          "56,291",
          "97",
          "483",
          "856",
          "97,413",
          "42,723",
          "12,993",
          "26,823",
          "40,276",
          "756",
          "135,545",
          "5,645",
          "1,194",
          "999",
          null,
          "3,702",
          "633,057",
          "4,848",
          "159,903",
          "14,354",
          "625",
          "78,380",
          "1,084",
          "189,877",
          "35,523",
          "58,256",
          "901,362",
          "227,707",
          "16,648",
          "8,001",
          null,
          "1,139",
          "34,463",
          "345",
          "32",
          "13,617",
          "157,153",
          "31,065",
          "1,886",
          "1,843",
          "45,861",
          "31,198",
          "84,999",
          "5,614",
          "3,077",
          "292",
          "43,976",
          "3,165",
          "634",
          "40",
          "1,741",
          "18,041",
          "114,898",
          "659",
          "14",
          "466",
          "33",
          "2,791",
          "117,082",
          "377,085",
          "123,037",
          "70,904",
          "5,951",
          "1,430",
          "2,403",
          "2,409",
          "55,743",
          "36,509",
          "50,945",
          "31,236",
          "1,746",
          "91,389",
          "47,866",
          "31,254",
          "774",
          "490",
          "2,468",
          "4,080",
          "645",
          null,
          "328,282",
          "1,181",
          "194,154",
          "1,281",
          "77,452",
          "2,531",
          "3,051",
          "30,964",
          "14,716",
          "1,410",
          "1,522",
          "85,169",
          "4,525",
          "11,541",
          "48,683",
          "16,402",
          "2,028",
          "3,244",
          "2,421",
          "1,478",
          "341",
          "23,206",
          "1,567",
          "4,934",
          "645",
          "1,121",
          "1,008",
          "423",
          null,
          "867",
          "4,805",
          null,
          "45,155",
          "21,881",
          null,
          "14,576",
          "1,166",
          "281,155",
          "1,300",
          "8,549",
          "9,253",
          "11,194",
          "7,103",
          "9,233",
          "273",
          "532",
          "24,630",
          "9,519",
          "846,332",
          "504,561",
          "729,086",
          "172,068",
          "7,148",
          null,
          "5,326",
          "139",
          "359",
          "6,611",
          "412",
          "96,646",
          null,
          "110,110",
          "7,409",
          "306,175",
          "2,866",
          "20,533",
          "650",
          "61,665",
          "31",
          "719",
          "6,703",
          "3,961",
          "917",
          null,
          "72",
          "895,906",
          "1,736",
          "20,118",
          "14",
          "1,892",
          "2,253",
          "955,757",
          null,
          "111",
          "5,328",
          "252",
          "18,897",
          "175,505",
          "677",
          null,
          null,
          null,
          "97,309",
          null,
          "10",
          "20,673",
          "1,781",
          "1,634",
          "595",
          "27,826",
          "14,540",
          "9,497",
          null,
          "365,043",
          "9,763",
          null,
          "324",
          "177",
          "526",
          "1,608",
          "4,944",
          "2,993",
          "3,750",
          "6,378",
          "3,318",
          "2,339",
          "410,437"
         ],
         "xaxis": "x",
         "yaxis": "y"
        }
       ],
       "layout": {
        "barmode": "relative",
        "legend": {
         "title": {
          "text": "variable"
         },
         "tracegroupgap": 0
        },
        "margin": {
         "t": 60
        },
        "template": {
         "data": {
          "bar": [
           {
            "error_x": {
             "color": "#2a3f5f"
            },
            "error_y": {
             "color": "#2a3f5f"
            },
            "marker": {
             "line": {
              "color": "#E5ECF6",
              "width": 0.5
             },
             "pattern": {
              "fillmode": "overlay",
              "size": 10,
              "solidity": 0.2
             }
            },
            "type": "bar"
           }
          ],
          "barpolar": [
           {
            "marker": {
             "line": {
              "color": "#E5ECF6",
              "width": 0.5
             },
             "pattern": {
              "fillmode": "overlay",
              "size": 10,
              "solidity": 0.2
             }
            },
            "type": "barpolar"
           }
          ],
          "carpet": [
           {
            "aaxis": {
             "endlinecolor": "#2a3f5f",
             "gridcolor": "white",
             "linecolor": "white",
             "minorgridcolor": "white",
             "startlinecolor": "#2a3f5f"
            },
            "baxis": {
             "endlinecolor": "#2a3f5f",
             "gridcolor": "white",
             "linecolor": "white",
             "minorgridcolor": "white",
             "startlinecolor": "#2a3f5f"
            },
            "type": "carpet"
           }
          ],
          "choropleth": [
           {
            "colorbar": {
             "outlinewidth": 0,
             "ticks": ""
            },
            "type": "choropleth"
           }
          ],
          "contour": [
           {
            "colorbar": {
             "outlinewidth": 0,
             "ticks": ""
            },
            "colorscale": [
             [
              0,
              "#0d0887"
             ],
             [
              0.1111111111111111,
              "#46039f"
             ],
             [
              0.2222222222222222,
              "#7201a8"
             ],
             [
              0.3333333333333333,
              "#9c179e"
             ],
             [
              0.4444444444444444,
              "#bd3786"
             ],
             [
              0.5555555555555556,
              "#d8576b"
             ],
             [
              0.6666666666666666,
              "#ed7953"
             ],
             [
              0.7777777777777778,
              "#fb9f3a"
             ],
             [
              0.8888888888888888,
              "#fdca26"
             ],
             [
              1,
              "#f0f921"
             ]
            ],
            "type": "contour"
           }
          ],
          "contourcarpet": [
           {
            "colorbar": {
             "outlinewidth": 0,
             "ticks": ""
            },
            "type": "contourcarpet"
           }
          ],
          "heatmap": [
           {
            "colorbar": {
             "outlinewidth": 0,
             "ticks": ""
            },
            "colorscale": [
             [
              0,
              "#0d0887"
             ],
             [
              0.1111111111111111,
              "#46039f"
             ],
             [
              0.2222222222222222,
              "#7201a8"
             ],
             [
              0.3333333333333333,
              "#9c179e"
             ],
             [
              0.4444444444444444,
              "#bd3786"
             ],
             [
              0.5555555555555556,
              "#d8576b"
             ],
             [
              0.6666666666666666,
              "#ed7953"
             ],
             [
              0.7777777777777778,
              "#fb9f3a"
             ],
             [
              0.8888888888888888,
              "#fdca26"
             ],
             [
              1,
              "#f0f921"
             ]
            ],
            "type": "heatmap"
           }
          ],
          "heatmapgl": [
           {
            "colorbar": {
             "outlinewidth": 0,
             "ticks": ""
            },
            "colorscale": [
             [
              0,
              "#0d0887"
             ],
             [
              0.1111111111111111,
              "#46039f"
             ],
             [
              0.2222222222222222,
              "#7201a8"
             ],
             [
              0.3333333333333333,
              "#9c179e"
             ],
             [
              0.4444444444444444,
              "#bd3786"
             ],
             [
              0.5555555555555556,
              "#d8576b"
             ],
             [
              0.6666666666666666,
              "#ed7953"
             ],
             [
              0.7777777777777778,
              "#fb9f3a"
             ],
             [
              0.8888888888888888,
              "#fdca26"
             ],
             [
              1,
              "#f0f921"
             ]
            ],
            "type": "heatmapgl"
           }
          ],
          "histogram": [
           {
            "marker": {
             "pattern": {
              "fillmode": "overlay",
              "size": 10,
              "solidity": 0.2
             }
            },
            "type": "histogram"
           }
          ],
          "histogram2d": [
           {
            "colorbar": {
             "outlinewidth": 0,
             "ticks": ""
            },
            "colorscale": [
             [
              0,
              "#0d0887"
             ],
             [
              0.1111111111111111,
              "#46039f"
             ],
             [
              0.2222222222222222,
              "#7201a8"
             ],
             [
              0.3333333333333333,
              "#9c179e"
             ],
             [
              0.4444444444444444,
              "#bd3786"
             ],
             [
              0.5555555555555556,
              "#d8576b"
             ],
             [
              0.6666666666666666,
              "#ed7953"
             ],
             [
              0.7777777777777778,
              "#fb9f3a"
             ],
             [
              0.8888888888888888,
              "#fdca26"
             ],
             [
              1,
              "#f0f921"
             ]
            ],
            "type": "histogram2d"
           }
          ],
          "histogram2dcontour": [
           {
            "colorbar": {
             "outlinewidth": 0,
             "ticks": ""
            },
            "colorscale": [
             [
              0,
              "#0d0887"
             ],
             [
              0.1111111111111111,
              "#46039f"
             ],
             [
              0.2222222222222222,
              "#7201a8"
             ],
             [
              0.3333333333333333,
              "#9c179e"
             ],
             [
              0.4444444444444444,
              "#bd3786"
             ],
             [
              0.5555555555555556,
              "#d8576b"
             ],
             [
              0.6666666666666666,
              "#ed7953"
             ],
             [
              0.7777777777777778,
              "#fb9f3a"
             ],
             [
              0.8888888888888888,
              "#fdca26"
             ],
             [
              1,
              "#f0f921"
             ]
            ],
            "type": "histogram2dcontour"
           }
          ],
          "mesh3d": [
           {
            "colorbar": {
             "outlinewidth": 0,
             "ticks": ""
            },
            "type": "mesh3d"
           }
          ],
          "parcoords": [
           {
            "line": {
             "colorbar": {
              "outlinewidth": 0,
              "ticks": ""
             }
            },
            "type": "parcoords"
           }
          ],
          "pie": [
           {
            "automargin": true,
            "type": "pie"
           }
          ],
          "scatter": [
           {
            "marker": {
             "colorbar": {
              "outlinewidth": 0,
              "ticks": ""
             }
            },
            "type": "scatter"
           }
          ],
          "scatter3d": [
           {
            "line": {
             "colorbar": {
              "outlinewidth": 0,
              "ticks": ""
             }
            },
            "marker": {
             "colorbar": {
              "outlinewidth": 0,
              "ticks": ""
             }
            },
            "type": "scatter3d"
           }
          ],
          "scattercarpet": [
           {
            "marker": {
             "colorbar": {
              "outlinewidth": 0,
              "ticks": ""
             }
            },
            "type": "scattercarpet"
           }
          ],
          "scattergeo": [
           {
            "marker": {
             "colorbar": {
              "outlinewidth": 0,
              "ticks": ""
             }
            },
            "type": "scattergeo"
           }
          ],
          "scattergl": [
           {
            "marker": {
             "colorbar": {
              "outlinewidth": 0,
              "ticks": ""
             }
            },
            "type": "scattergl"
           }
          ],
          "scattermapbox": [
           {
            "marker": {
             "colorbar": {
              "outlinewidth": 0,
              "ticks": ""
             }
            },
            "type": "scattermapbox"
           }
          ],
          "scatterpolar": [
           {
            "marker": {
             "colorbar": {
              "outlinewidth": 0,
              "ticks": ""
             }
            },
            "type": "scatterpolar"
           }
          ],
          "scatterpolargl": [
           {
            "marker": {
             "colorbar": {
              "outlinewidth": 0,
              "ticks": ""
             }
            },
            "type": "scatterpolargl"
           }
          ],
          "scatterternary": [
           {
            "marker": {
             "colorbar": {
              "outlinewidth": 0,
              "ticks": ""
             }
            },
            "type": "scatterternary"
           }
          ],
          "surface": [
           {
            "colorbar": {
             "outlinewidth": 0,
             "ticks": ""
            },
            "colorscale": [
             [
              0,
              "#0d0887"
             ],
             [
              0.1111111111111111,
              "#46039f"
             ],
             [
              0.2222222222222222,
              "#7201a8"
             ],
             [
              0.3333333333333333,
              "#9c179e"
             ],
             [
              0.4444444444444444,
              "#bd3786"
             ],
             [
              0.5555555555555556,
              "#d8576b"
             ],
             [
              0.6666666666666666,
              "#ed7953"
             ],
             [
              0.7777777777777778,
              "#fb9f3a"
             ],
             [
              0.8888888888888888,
              "#fdca26"
             ],
             [
              1,
              "#f0f921"
             ]
            ],
            "type": "surface"
           }
          ],
          "table": [
           {
            "cells": {
             "fill": {
              "color": "#EBF0F8"
             },
             "line": {
              "color": "white"
             }
            },
            "header": {
             "fill": {
              "color": "#C8D4E3"
             },
             "line": {
              "color": "white"
             }
            },
            "type": "table"
           }
          ]
         },
         "layout": {
          "annotationdefaults": {
           "arrowcolor": "#2a3f5f",
           "arrowhead": 0,
           "arrowwidth": 1
          },
          "autotypenumbers": "strict",
          "coloraxis": {
           "colorbar": {
            "outlinewidth": 0,
            "ticks": ""
           }
          },
          "colorscale": {
           "diverging": [
            [
             0,
             "#8e0152"
            ],
            [
             0.1,
             "#c51b7d"
            ],
            [
             0.2,
             "#de77ae"
            ],
            [
             0.3,
             "#f1b6da"
            ],
            [
             0.4,
             "#fde0ef"
            ],
            [
             0.5,
             "#f7f7f7"
            ],
            [
             0.6,
             "#e6f5d0"
            ],
            [
             0.7,
             "#b8e186"
            ],
            [
             0.8,
             "#7fbc41"
            ],
            [
             0.9,
             "#4d9221"
            ],
            [
             1,
             "#276419"
            ]
           ],
           "sequential": [
            [
             0,
             "#0d0887"
            ],
            [
             0.1111111111111111,
             "#46039f"
            ],
            [
             0.2222222222222222,
             "#7201a8"
            ],
            [
             0.3333333333333333,
             "#9c179e"
            ],
            [
             0.4444444444444444,
             "#bd3786"
            ],
            [
             0.5555555555555556,
             "#d8576b"
            ],
            [
             0.6666666666666666,
             "#ed7953"
            ],
            [
             0.7777777777777778,
             "#fb9f3a"
            ],
            [
             0.8888888888888888,
             "#fdca26"
            ],
            [
             1,
             "#f0f921"
            ]
           ],
           "sequentialminus": [
            [
             0,
             "#0d0887"
            ],
            [
             0.1111111111111111,
             "#46039f"
            ],
            [
             0.2222222222222222,
             "#7201a8"
            ],
            [
             0.3333333333333333,
             "#9c179e"
            ],
            [
             0.4444444444444444,
             "#bd3786"
            ],
            [
             0.5555555555555556,
             "#d8576b"
            ],
            [
             0.6666666666666666,
             "#ed7953"
            ],
            [
             0.7777777777777778,
             "#fb9f3a"
            ],
            [
             0.8888888888888888,
             "#fdca26"
            ],
            [
             1,
             "#f0f921"
            ]
           ]
          },
          "colorway": [
           "#636efa",
           "#EF553B",
           "#00cc96",
           "#ab63fa",
           "#FFA15A",
           "#19d3f3",
           "#FF6692",
           "#B6E880",
           "#FF97FF",
           "#FECB52"
          ],
          "font": {
           "color": "#2a3f5f"
          },
          "geo": {
           "bgcolor": "white",
           "lakecolor": "white",
           "landcolor": "#E5ECF6",
           "showlakes": true,
           "showland": true,
           "subunitcolor": "white"
          },
          "hoverlabel": {
           "align": "left"
          },
          "hovermode": "closest",
          "mapbox": {
           "style": "light"
          },
          "paper_bgcolor": "white",
          "plot_bgcolor": "#E5ECF6",
          "polar": {
           "angularaxis": {
            "gridcolor": "white",
            "linecolor": "white",
            "ticks": ""
           },
           "bgcolor": "#E5ECF6",
           "radialaxis": {
            "gridcolor": "white",
            "linecolor": "white",
            "ticks": ""
           }
          },
          "scene": {
           "xaxis": {
            "backgroundcolor": "#E5ECF6",
            "gridcolor": "white",
            "gridwidth": 2,
            "linecolor": "white",
            "showbackground": true,
            "ticks": "",
            "zerolinecolor": "white"
           },
           "yaxis": {
            "backgroundcolor": "#E5ECF6",
            "gridcolor": "white",
            "gridwidth": 2,
            "linecolor": "white",
            "showbackground": true,
            "ticks": "",
            "zerolinecolor": "white"
           },
           "zaxis": {
            "backgroundcolor": "#E5ECF6",
            "gridcolor": "white",
            "gridwidth": 2,
            "linecolor": "white",
            "showbackground": true,
            "ticks": "",
            "zerolinecolor": "white"
           }
          },
          "shapedefaults": {
           "line": {
            "color": "#2a3f5f"
           }
          },
          "ternary": {
           "aaxis": {
            "gridcolor": "white",
            "linecolor": "white",
            "ticks": ""
           },
           "baxis": {
            "gridcolor": "white",
            "linecolor": "white",
            "ticks": ""
           },
           "bgcolor": "#E5ECF6",
           "caxis": {
            "gridcolor": "white",
            "linecolor": "white",
            "ticks": ""
           }
          },
          "title": {
           "x": 0.05
          },
          "xaxis": {
           "automargin": true,
           "gridcolor": "white",
           "linecolor": "white",
           "ticks": "",
           "title": {
            "standoff": 15
           },
           "zerolinecolor": "white",
           "zerolinewidth": 2
          },
          "yaxis": {
           "automargin": true,
           "gridcolor": "white",
           "linecolor": "white",
           "ticks": "",
           "title": {
            "standoff": 15
           },
           "zerolinecolor": "white",
           "zerolinewidth": 2
          }
         }
        },
        "title": {
         "text": "Distribution of IMBD Votes",
         "x": 0.5
        },
        "xaxis": {
         "anchor": "y",
         "domain": [
          0,
          1
         ],
         "title": {
          "text": "value"
         }
        },
        "yaxis": {
         "anchor": "x",
         "domain": [
          0,
          1
         ],
         "title": {
          "text": "count"
         }
        }
       }
      },
      "text/html": [
       "<div>                            <div id=\"58929d4f-0dd6-4c73-b202-1020450307e2\" class=\"plotly-graph-div\" style=\"height:525px; width:100%;\"></div>            <script type=\"text/javascript\">                require([\"plotly\"], function(Plotly) {                    window.PLOTLYENV=window.PLOTLYENV || {};                                    if (document.getElementById(\"58929d4f-0dd6-4c73-b202-1020450307e2\")) {                    Plotly.newPlot(                        \"58929d4f-0dd6-4c73-b202-1020450307e2\",                        [{\"alignmentgroup\":\"True\",\"bingroup\":\"x\",\"hovertemplate\":\"variable=imdb_votes<br>value=%{x}<br>count=%{y}<extra></extra>\",\"legendgroup\":\"imdb_votes\",\"marker\":{\"color\":\"#636efa\",\"pattern\":{\"shape\":\"\"}},\"name\":\"imdb_votes\",\"offsetgroup\":\"imdb_votes\",\"orientation\":\"v\",\"showlegend\":true,\"type\":\"histogram\",\"x\":[\"283,945\",\"124\",\"97,785\",\"7,434\",\"33,444\",\"4,933\",\"27,761\",\"257,065\",\"35\",\"43,655\",\"5,479\",\"488\",\"1,042\",\"59\",\"38,659\",\"204,537\",\"356,283\",\"31,603\",\"25,623\",\"123,377\",\"371,772\",\"2,586\",\"572\",\"1,840\",\"309\",\"4,652\",\"557\",\"73\",\"236\",\"9,244\",\"1,723\",\"4,380\",\"130\",null,\"82,011\",\"178\",\"7,621\",\"98,258\",\"1,019\",\"8,666\",\"1,086,714\",null,\"799\",\"3,228\",\"125,824\",\"8,741\",\"19,660\",null,\"675\",\"254\",\"404,632\",\"2,425\",\"8,603\",\"10,040\",\"32,823\",\"85,524\",\"269\",\"25,171\",\"2,629\",\"1,475\",\"11,575\",\"567\",null,\"393,016\",null,\"77\",null,\"47\",\"4,913\",\"18,277\",\"949\",\"993\",\"182,591\",null,\"1,188\",null,\"12,312\",\"37,279\",\"2,812\",\"357,239\",\"1,201\",\"42\",null,\"5,328\",\"92,453\",\"13,878\",\"436\",\"23\",null,\"9,708\",\"12,570\",\"8,448\",\"28,782\",\"15,387\",\"756\",\"3,479\",\"269\",null,\"349,674\",\"150,876\",\"68,243\",null,\"283\",null,null,null,null,null,\"178\",\"272\",\"56\",null,\"535\",\"1,432\",\"316\",\"48\",\"50\",\"90,580\",\"801\",\"764\",\"82,825\",\"16,431\",\"1,223\",\"139,378\",\"9,985\",\"8,691\",\"1,987\",\"3,482\",\"333,411\",null,\"14,974\",\"26,686\",\"93\",\"88,123\",\"267\",null,\"483\",\"5,625\",\"599\",\"2,634\",\"6,664\",\"13,689\",\"1,585\",\"3,316\",\"16,108\",\"40\",\"2,791\",\"7,218\",\"4,072\",\"3,695\",\"1,291\",\"333\",\"40,808\",\"50,895\",\"2,582\",\"912\",\"5,133\",\"2,363\",\"1,154\",\"1,565\",\"1,666\",\"14,470\",\"707\",null,\"396\",\"9\",\"193\",\"144\",null,\"2,403\",\"63,771\",null,\"2,047\",\"5\",\"1,227\",\"5,555\",null,\"2,979\",null,\"837\",\"153\",null,\"2,253\",\"1,578\",\"35\",\"492\",null,null,\"652\",\"2,046\",\"9,623\",\"1,291\",\"223\",\"186\",null,\"1,371\",\"181\",\"530\",null,\"8,913\",\"282\",\"27,880\",null,null,\"9,244\",\"22,207\",\"1,143\",\"1,155\",\"21,355\",\"3,977\",\"39,194\",\"3,701\",null,\"6,043\",\"6,262\",\"3,316\",\"5,708\",\"1,024\",\"3,529\",\"1,093\",\"442\",\"18\",\"1,734\",\"89,150\",\"40,531\",\"2,539\",null,\"566\",\"376\",\"2,421\",\"572\",\"764\",\"416\",\"318\",\"2,820\",\"2,868\",\"323\",\"17\",\"345\",\"13\",\"47\",\"10\",\"49\",\"220\",\"11\",\"41\",\"5,051\",\"24,234\",\"5,161\",\"58,882\",null,\"24\",\"12\",\"2,304\",\"58,850\",\"998\",null,\"61\",\"991\",\"390\",\"3,772\",\"235\",\"8,810\",\"13,163\",\"10\",\"18\",\"47\",\"84,999\",\"33,785\",\"2,886\",\"1,921\",\"2,254\",\"227,414\",\"911,647\",null,\"9,855\",\"2,882\",\"42,322\",\"1,031\",\"1,547\",\"81,512\",null,\"28,126\",null,null,null,null,null,\"26\",null,null,\"32\",null,\"524\",\"94,078\",\"10,736\",\"11,109\",\"120,172\",\"916\",\"46,710\",\"3,969\",\"551,637\",\"106,368\",\"816\",\"6,454\",\"155\",\"41,151\",\"13,699\",\"10,723\",\"1,570\",null,\"68,409\",\"6,039\",\"21,679\",\"5,713\",null,\"12,220\",\"41,442\",\"3,121\",\"1,212\",\"17,475\",\"4,577\",\"7,293\",\"316\",\"1,551\",null,\"1,304\",\"694\",\"1,203\",\"1,481\",\"36\",\"11,872\",\"5,443\",\"6,476\",\"1,288\",\"35,066\",\"8,392\",\"38,414\",null,\"2,324\",\"823\",\"24,212\",\"312\",\"4,958\",\"6,553\",\"7,035\",\"43,653\",\"195,894\",\"77,328\",\"52,782\",\"55,628\",\"2,038\",null,\"14\",\"89,713\",\"74,143\",\"101,062\",\"19,123\",\"13,127\",\"40,421\",\"39,775\",\"137,074\",\"12,439\",\"1,485\",\"382\",\"894\",\"34\",\"2,484\",\"367\",\"462\",\"826\",\"386\",\"2,473\",\"8,812\",\"421,204\",\"2,814\",\"23,891\",\"682\",null,\"17\",null,null,\"577,209\",\"43,808\",\"5,423\",\"94\",\"183\",\"63,682\",\"2,240\",\"2,638\",\"2,671\",\"7,095\",null,\"54,474\",\"13,829\",\"57,814\",\"3,897\",null,\"11,715\",null,\"248,903\",\"1,922\",\"4,615\",\"17,198\",null,\"15,008\",\"6,574\",\"1,603\",\"22,111\",\"205\",\"125\",\"22,405\",\"4,372\",\"2,030\",\"3,728\",null,\"77\",\"56\",\"3,834\",null,\"10,599\",\"12,217\",\"4,349\",\"12,134\",\"116,990\",\"9,837\",\"1,848\",\"980\",null,\"401\",\"127\",null,\"617\",\"17\",\"680\",null,\"54\",\"65\",null,\"161\",\"364\",\"13,515\",\"803\",\"4,565\",\"2,731\",\"221\",\"1,429\",\"1,205\",\"5,221\",\"727\",\"17,178\",\"160,264\",\"7,344\",\"11,210\",\"16,649\",\"1,838\",\"362\",\"63\",null,\"56\",\"5,581\",null,\"6,337\",null,\"686\",\"818\",null,null,\"15\",\"20,441\",\"534\",\"594\",\"24,829\",\"2,643\",\"36,206\",\"85\",\"242\",\"306\",\"255\",null,\"61\",\"854\",\"936\",null,\"540,523\",\"711,205\",\"694,527\",\"579,293\",\"628,016\",\"711,603\",\"706,555\",\"406,778\",\"562,696\",\"1,007,917\",\"537,920\",\"910,300\",\"693,517\",\"730,917\",\"1,225,316\",\"717,145\",\"542,938\",\"571,192\",\"63\",\"9,725\",\"69,458\",\"246\",\"6,168\",null,\"75\",\"2,520\",null,\"97\",\"20,672\",\"2,012\",\"160\",\"20,241\",\"1,440\",null,null,\"151,417\",\"7,151\",\"2,567\",\"84,040\",\"4,534\",null,\"1,772\",\"609\",\"335\",\"7,496\",\"607\",\"9,549\",null,\"6,247\",\"533\",\"2,542\",\"3,756\",\"26,795\",\"11,759\",\"416\",\"24,147\",\"5,182\",\"45,667\",\"293\",\"1,835\",\"67\",\"38,715\",\"51\",\"250,176\",\"3,300\",\"308,588\",\"779,728\",\"4,203\",\"1173\",\"511\",\"557\",\"237,755\",\"20,851\",\"329\",null,\"6\",\"20,293\",\"30,336\",\"77\",\"12,448\",\"363\",\"295,236\",\"212,576\",\"86\",\"18,094\",\"1,703\",\"9,752\",\"2,047\",\"10,650\",\"35,534\",\"11,270\",\"41,874\",\"1,056\",\"1,025\",\"155\",null,\"146,668\",\"2,977\",\"13,993\",\"5,420\",\"45,444\",\"8,265\",\"344\",\"504\",\"814\",\"5\",null,\"9\",\"19,102\",\"1,480\",\"6\",\"272\",\"21,558\",\"52,020\",\"120,707\",\"17,404\",\"2,570\",\"6,479\",\"31,287\",\"7,624\",\"419\",null,\"6,519\",\"124,261\",\"24,041\",\"577,465\",\"635,041\",\"465,510\",\"992,127\",\"193\",\"3,085\",\"696\",null,null,\"2,023\",\"383\",\"138\",null,null,\"163,209\",\"13,201\",\"8,533\",\"4,850\",\"6,031\",null,\"21,778\",\"163\",\"20,758\",\"14,569\",\"42\",\"611\",\"1,158\",\"3,478\",\"14,265\",\"2,030\",\"612,483\",\"4,915\",\"282\",\"571\",\"9,032\",\"1,759\",\"32,647\",\"6,019\",\"190,945\",null,\"4,201\",\"5,338\",\"23,581\",\"1,960\",\"1,087\",null,\"1,135\",\"110,712\",\"5\",\"526,836\",\"23,711\",\"968\",\"607\",\"2,122\",\"259\",\"4,784\",\"140\",\"3,879\",\"1,100\",\"1,320\",\"147,182\",\"331\",null,\"556\",\"10,155\",\"25,455\",\"7\",\"126\",\"6\",\"76\",null,\"10,911\",null,\"5,651\",\"503\",\"2,364\",\"16\",\"1,778\",\"302,244\",\"83,764\",\"47,046\",\"1,022\",\"129,694\",\"4,198\",\"5,998\",\"399\",\"24,563\",\"174,379\",\"1,355\",\"2,043\",\"2,519\",\"350\",\"10,074\",\"833\",\"943\",\"2,704\",\"2,517\",\"438\",\"65,908\",\"1,105\",\"24,977\",null,\"3,403\",\"1,188,658\",\"613,768\",\"29\",\"912,250\",\"681,075\",\"47,308\",\"53,973\",\"1,109,656\",\"833,706\",\"532,835\",\"698,744\",null,\"2,130\",\"12,305\",\"6,678\",\"1,317\",\"7,622\",\"133\",\"3,395\",\"12\",\"1,089\",\"854\",\"40\",\"324\",\"13,189\",\"12,743\",\"3,246\",\"390,220\",\"1,861\",\"1,598\",\"5,264\",\"1,471\",\"378\",\"3,331\",\"8,886\",\"6,775\",\"3,952\",\"5,542\",\"16,953\",\"6,856\",null,\"603\",\"7,451\",\"11,917\",\"166\",\"286\",\"4,710\",\"2,270\",\"89,029\",\"1,061\",\"12,505\",\"682\",\"2,714\",\"253\",\"73,906\",\"1,381\",\"281\",\"29,395\",\"22,422\",\"8,311\",null,\"412\",\"25\",\"1,333\",\"421\",\"4,162\",\"6,690\",\"5,512\",\"3,779\",\"345\",\"187,627\",\"353,342\",\"3,027\",\"4,208\",\"4,769\",null,null,\"171,721\",\"6,241\",\"59,000\",\"24\",\"81,227\",\"3,961\",\"56,291\",\"97\",\"483\",\"856\",\"97,413\",\"42,723\",\"12,993\",\"26,823\",\"40,276\",\"756\",\"135,545\",\"5,645\",\"1,194\",\"999\",null,\"3,702\",\"633,057\",\"4,848\",\"159,903\",\"14,354\",\"625\",\"78,380\",\"1,084\",\"189,877\",\"35,523\",\"58,256\",\"901,362\",\"227,707\",\"16,648\",\"8,001\",null,\"1,139\",\"34,463\",\"345\",\"32\",\"13,617\",\"157,153\",\"31,065\",\"1,886\",\"1,843\",\"45,861\",\"31,198\",\"84,999\",\"5,614\",\"3,077\",\"292\",\"43,976\",\"3,165\",\"634\",\"40\",\"1,741\",\"18,041\",\"114,898\",\"659\",\"14\",\"466\",\"33\",\"2,791\",\"117,082\",\"377,085\",\"123,037\",\"70,904\",\"5,951\",\"1,430\",\"2,403\",\"2,409\",\"55,743\",\"36,509\",\"50,945\",\"31,236\",\"1,746\",\"91,389\",\"47,866\",\"31,254\",\"774\",\"490\",\"2,468\",\"4,080\",\"645\",null,\"328,282\",\"1,181\",\"194,154\",\"1,281\",\"77,452\",\"2,531\",\"3,051\",\"30,964\",\"14,716\",\"1,410\",\"1,522\",\"85,169\",\"4,525\",\"11,541\",\"48,683\",\"16,402\",\"2,028\",\"3,244\",\"2,421\",\"1,478\",\"341\",\"23,206\",\"1,567\",\"4,934\",\"645\",\"1,121\",\"1,008\",\"423\",null,\"867\",\"4,805\",null,\"45,155\",\"21,881\",null,\"14,576\",\"1,166\",\"281,155\",\"1,300\",\"8,549\",\"9,253\",\"11,194\",\"7,103\",\"9,233\",\"273\",\"532\",\"24,630\",\"9,519\",\"846,332\",\"504,561\",\"729,086\",\"172,068\",\"7,148\",null,\"5,326\",\"139\",\"359\",\"6,611\",\"412\",\"96,646\",null,\"110,110\",\"7,409\",\"306,175\",\"2,866\",\"20,533\",\"650\",\"61,665\",\"31\",\"719\",\"6,703\",\"3,961\",\"917\",null,\"72\",\"895,906\",\"1,736\",\"20,118\",\"14\",\"1,892\",\"2,253\",\"955,757\",null,\"111\",\"5,328\",\"252\",\"18,897\",\"175,505\",\"677\",null,null,null,\"97,309\",null,\"10\",\"20,673\",\"1,781\",\"1,634\",\"595\",\"27,826\",\"14,540\",\"9,497\",null,\"365,043\",\"9,763\",null,\"324\",\"177\",\"526\",\"1,608\",\"4,944\",\"2,993\",\"3,750\",\"6,378\",\"3,318\",\"2,339\",\"410,437\"],\"xaxis\":\"x\",\"yaxis\":\"y\"}],                        {\"barmode\":\"relative\",\"legend\":{\"title\":{\"text\":\"variable\"},\"tracegroupgap\":0},\"margin\":{\"t\":60},\"template\":{\"data\":{\"bar\":[{\"error_x\":{\"color\":\"#2a3f5f\"},\"error_y\":{\"color\":\"#2a3f5f\"},\"marker\":{\"line\":{\"color\":\"#E5ECF6\",\"width\":0.5},\"pattern\":{\"fillmode\":\"overlay\",\"size\":10,\"solidity\":0.2}},\"type\":\"bar\"}],\"barpolar\":[{\"marker\":{\"line\":{\"color\":\"#E5ECF6\",\"width\":0.5},\"pattern\":{\"fillmode\":\"overlay\",\"size\":10,\"solidity\":0.2}},\"type\":\"barpolar\"}],\"carpet\":[{\"aaxis\":{\"endlinecolor\":\"#2a3f5f\",\"gridcolor\":\"white\",\"linecolor\":\"white\",\"minorgridcolor\":\"white\",\"startlinecolor\":\"#2a3f5f\"},\"baxis\":{\"endlinecolor\":\"#2a3f5f\",\"gridcolor\":\"white\",\"linecolor\":\"white\",\"minorgridcolor\":\"white\",\"startlinecolor\":\"#2a3f5f\"},\"type\":\"carpet\"}],\"choropleth\":[{\"colorbar\":{\"outlinewidth\":0,\"ticks\":\"\"},\"type\":\"choropleth\"}],\"contour\":[{\"colorbar\":{\"outlinewidth\":0,\"ticks\":\"\"},\"colorscale\":[[0.0,\"#0d0887\"],[0.1111111111111111,\"#46039f\"],[0.2222222222222222,\"#7201a8\"],[0.3333333333333333,\"#9c179e\"],[0.4444444444444444,\"#bd3786\"],[0.5555555555555556,\"#d8576b\"],[0.6666666666666666,\"#ed7953\"],[0.7777777777777778,\"#fb9f3a\"],[0.8888888888888888,\"#fdca26\"],[1.0,\"#f0f921\"]],\"type\":\"contour\"}],\"contourcarpet\":[{\"colorbar\":{\"outlinewidth\":0,\"ticks\":\"\"},\"type\":\"contourcarpet\"}],\"heatmap\":[{\"colorbar\":{\"outlinewidth\":0,\"ticks\":\"\"},\"colorscale\":[[0.0,\"#0d0887\"],[0.1111111111111111,\"#46039f\"],[0.2222222222222222,\"#7201a8\"],[0.3333333333333333,\"#9c179e\"],[0.4444444444444444,\"#bd3786\"],[0.5555555555555556,\"#d8576b\"],[0.6666666666666666,\"#ed7953\"],[0.7777777777777778,\"#fb9f3a\"],[0.8888888888888888,\"#fdca26\"],[1.0,\"#f0f921\"]],\"type\":\"heatmap\"}],\"heatmapgl\":[{\"colorbar\":{\"outlinewidth\":0,\"ticks\":\"\"},\"colorscale\":[[0.0,\"#0d0887\"],[0.1111111111111111,\"#46039f\"],[0.2222222222222222,\"#7201a8\"],[0.3333333333333333,\"#9c179e\"],[0.4444444444444444,\"#bd3786\"],[0.5555555555555556,\"#d8576b\"],[0.6666666666666666,\"#ed7953\"],[0.7777777777777778,\"#fb9f3a\"],[0.8888888888888888,\"#fdca26\"],[1.0,\"#f0f921\"]],\"type\":\"heatmapgl\"}],\"histogram\":[{\"marker\":{\"pattern\":{\"fillmode\":\"overlay\",\"size\":10,\"solidity\":0.2}},\"type\":\"histogram\"}],\"histogram2d\":[{\"colorbar\":{\"outlinewidth\":0,\"ticks\":\"\"},\"colorscale\":[[0.0,\"#0d0887\"],[0.1111111111111111,\"#46039f\"],[0.2222222222222222,\"#7201a8\"],[0.3333333333333333,\"#9c179e\"],[0.4444444444444444,\"#bd3786\"],[0.5555555555555556,\"#d8576b\"],[0.6666666666666666,\"#ed7953\"],[0.7777777777777778,\"#fb9f3a\"],[0.8888888888888888,\"#fdca26\"],[1.0,\"#f0f921\"]],\"type\":\"histogram2d\"}],\"histogram2dcontour\":[{\"colorbar\":{\"outlinewidth\":0,\"ticks\":\"\"},\"colorscale\":[[0.0,\"#0d0887\"],[0.1111111111111111,\"#46039f\"],[0.2222222222222222,\"#7201a8\"],[0.3333333333333333,\"#9c179e\"],[0.4444444444444444,\"#bd3786\"],[0.5555555555555556,\"#d8576b\"],[0.6666666666666666,\"#ed7953\"],[0.7777777777777778,\"#fb9f3a\"],[0.8888888888888888,\"#fdca26\"],[1.0,\"#f0f921\"]],\"type\":\"histogram2dcontour\"}],\"mesh3d\":[{\"colorbar\":{\"outlinewidth\":0,\"ticks\":\"\"},\"type\":\"mesh3d\"}],\"parcoords\":[{\"line\":{\"colorbar\":{\"outlinewidth\":0,\"ticks\":\"\"}},\"type\":\"parcoords\"}],\"pie\":[{\"automargin\":true,\"type\":\"pie\"}],\"scatter\":[{\"marker\":{\"colorbar\":{\"outlinewidth\":0,\"ticks\":\"\"}},\"type\":\"scatter\"}],\"scatter3d\":[{\"line\":{\"colorbar\":{\"outlinewidth\":0,\"ticks\":\"\"}},\"marker\":{\"colorbar\":{\"outlinewidth\":0,\"ticks\":\"\"}},\"type\":\"scatter3d\"}],\"scattercarpet\":[{\"marker\":{\"colorbar\":{\"outlinewidth\":0,\"ticks\":\"\"}},\"type\":\"scattercarpet\"}],\"scattergeo\":[{\"marker\":{\"colorbar\":{\"outlinewidth\":0,\"ticks\":\"\"}},\"type\":\"scattergeo\"}],\"scattergl\":[{\"marker\":{\"colorbar\":{\"outlinewidth\":0,\"ticks\":\"\"}},\"type\":\"scattergl\"}],\"scattermapbox\":[{\"marker\":{\"colorbar\":{\"outlinewidth\":0,\"ticks\":\"\"}},\"type\":\"scattermapbox\"}],\"scatterpolar\":[{\"marker\":{\"colorbar\":{\"outlinewidth\":0,\"ticks\":\"\"}},\"type\":\"scatterpolar\"}],\"scatterpolargl\":[{\"marker\":{\"colorbar\":{\"outlinewidth\":0,\"ticks\":\"\"}},\"type\":\"scatterpolargl\"}],\"scatterternary\":[{\"marker\":{\"colorbar\":{\"outlinewidth\":0,\"ticks\":\"\"}},\"type\":\"scatterternary\"}],\"surface\":[{\"colorbar\":{\"outlinewidth\":0,\"ticks\":\"\"},\"colorscale\":[[0.0,\"#0d0887\"],[0.1111111111111111,\"#46039f\"],[0.2222222222222222,\"#7201a8\"],[0.3333333333333333,\"#9c179e\"],[0.4444444444444444,\"#bd3786\"],[0.5555555555555556,\"#d8576b\"],[0.6666666666666666,\"#ed7953\"],[0.7777777777777778,\"#fb9f3a\"],[0.8888888888888888,\"#fdca26\"],[1.0,\"#f0f921\"]],\"type\":\"surface\"}],\"table\":[{\"cells\":{\"fill\":{\"color\":\"#EBF0F8\"},\"line\":{\"color\":\"white\"}},\"header\":{\"fill\":{\"color\":\"#C8D4E3\"},\"line\":{\"color\":\"white\"}},\"type\":\"table\"}]},\"layout\":{\"annotationdefaults\":{\"arrowcolor\":\"#2a3f5f\",\"arrowhead\":0,\"arrowwidth\":1},\"autotypenumbers\":\"strict\",\"coloraxis\":{\"colorbar\":{\"outlinewidth\":0,\"ticks\":\"\"}},\"colorscale\":{\"diverging\":[[0,\"#8e0152\"],[0.1,\"#c51b7d\"],[0.2,\"#de77ae\"],[0.3,\"#f1b6da\"],[0.4,\"#fde0ef\"],[0.5,\"#f7f7f7\"],[0.6,\"#e6f5d0\"],[0.7,\"#b8e186\"],[0.8,\"#7fbc41\"],[0.9,\"#4d9221\"],[1,\"#276419\"]],\"sequential\":[[0.0,\"#0d0887\"],[0.1111111111111111,\"#46039f\"],[0.2222222222222222,\"#7201a8\"],[0.3333333333333333,\"#9c179e\"],[0.4444444444444444,\"#bd3786\"],[0.5555555555555556,\"#d8576b\"],[0.6666666666666666,\"#ed7953\"],[0.7777777777777778,\"#fb9f3a\"],[0.8888888888888888,\"#fdca26\"],[1.0,\"#f0f921\"]],\"sequentialminus\":[[0.0,\"#0d0887\"],[0.1111111111111111,\"#46039f\"],[0.2222222222222222,\"#7201a8\"],[0.3333333333333333,\"#9c179e\"],[0.4444444444444444,\"#bd3786\"],[0.5555555555555556,\"#d8576b\"],[0.6666666666666666,\"#ed7953\"],[0.7777777777777778,\"#fb9f3a\"],[0.8888888888888888,\"#fdca26\"],[1.0,\"#f0f921\"]]},\"colorway\":[\"#636efa\",\"#EF553B\",\"#00cc96\",\"#ab63fa\",\"#FFA15A\",\"#19d3f3\",\"#FF6692\",\"#B6E880\",\"#FF97FF\",\"#FECB52\"],\"font\":{\"color\":\"#2a3f5f\"},\"geo\":{\"bgcolor\":\"white\",\"lakecolor\":\"white\",\"landcolor\":\"#E5ECF6\",\"showlakes\":true,\"showland\":true,\"subunitcolor\":\"white\"},\"hoverlabel\":{\"align\":\"left\"},\"hovermode\":\"closest\",\"mapbox\":{\"style\":\"light\"},\"paper_bgcolor\":\"white\",\"plot_bgcolor\":\"#E5ECF6\",\"polar\":{\"angularaxis\":{\"gridcolor\":\"white\",\"linecolor\":\"white\",\"ticks\":\"\"},\"bgcolor\":\"#E5ECF6\",\"radialaxis\":{\"gridcolor\":\"white\",\"linecolor\":\"white\",\"ticks\":\"\"}},\"scene\":{\"xaxis\":{\"backgroundcolor\":\"#E5ECF6\",\"gridcolor\":\"white\",\"gridwidth\":2,\"linecolor\":\"white\",\"showbackground\":true,\"ticks\":\"\",\"zerolinecolor\":\"white\"},\"yaxis\":{\"backgroundcolor\":\"#E5ECF6\",\"gridcolor\":\"white\",\"gridwidth\":2,\"linecolor\":\"white\",\"showbackground\":true,\"ticks\":\"\",\"zerolinecolor\":\"white\"},\"zaxis\":{\"backgroundcolor\":\"#E5ECF6\",\"gridcolor\":\"white\",\"gridwidth\":2,\"linecolor\":\"white\",\"showbackground\":true,\"ticks\":\"\",\"zerolinecolor\":\"white\"}},\"shapedefaults\":{\"line\":{\"color\":\"#2a3f5f\"}},\"ternary\":{\"aaxis\":{\"gridcolor\":\"white\",\"linecolor\":\"white\",\"ticks\":\"\"},\"baxis\":{\"gridcolor\":\"white\",\"linecolor\":\"white\",\"ticks\":\"\"},\"bgcolor\":\"#E5ECF6\",\"caxis\":{\"gridcolor\":\"white\",\"linecolor\":\"white\",\"ticks\":\"\"}},\"title\":{\"x\":0.05},\"xaxis\":{\"automargin\":true,\"gridcolor\":\"white\",\"linecolor\":\"white\",\"ticks\":\"\",\"title\":{\"standoff\":15},\"zerolinecolor\":\"white\",\"zerolinewidth\":2},\"yaxis\":{\"automargin\":true,\"gridcolor\":\"white\",\"linecolor\":\"white\",\"ticks\":\"\",\"title\":{\"standoff\":15},\"zerolinecolor\":\"white\",\"zerolinewidth\":2}}},\"title\":{\"text\":\"Distribution of IMBD Votes\",\"x\":0.5},\"xaxis\":{\"anchor\":\"y\",\"domain\":[0.0,1.0],\"title\":{\"text\":\"value\"}},\"yaxis\":{\"anchor\":\"x\",\"domain\":[0.0,1.0],\"title\":{\"text\":\"count\"}}},                        {\"responsive\": true}                    ).then(function(){\n",
       "                            \n",
       "var gd = document.getElementById('58929d4f-0dd6-4c73-b202-1020450307e2');\n",
       "var x = new MutationObserver(function (mutations, observer) {{\n",
       "        var display = window.getComputedStyle(gd).display;\n",
       "        if (!display || display === 'none') {{\n",
       "            console.log([gd, 'removed!']);\n",
       "            Plotly.purge(gd);\n",
       "            observer.disconnect();\n",
       "        }}\n",
       "}});\n",
       "\n",
       "// Listen for the removal of the full notebook cells\n",
       "var notebookContainer = gd.closest('#notebook-container');\n",
       "if (notebookContainer) {{\n",
       "    x.observe(notebookContainer, {childList: true});\n",
       "}}\n",
       "\n",
       "// Listen for the clearing of the current output cell\n",
       "var outputEl = gd.closest('.output');\n",
       "if (outputEl) {{\n",
       "    x.observe(outputEl, {childList: true});\n",
       "}}\n",
       "\n",
       "                        })                };                });            </script>        </div>"
      ]
     },
     "metadata": {},
     "output_type": "display_data"
    }
   ],
   "source": [
    "fig = px.histogram(df['imdb_votes'])\n",
    "fig.update_layout(title='Distribution of IMBD Votes',title_x=0.5)\n"
   ]
  },
  {
   "cell_type": "code",
   "execution_count": null,
   "metadata": {},
   "outputs": [],
   "source": []
  }
 ],
 "metadata": {
  "kernelspec": {
   "display_name": "PythonData",
   "language": "python",
   "name": "pythondata"
  },
  "language_info": {
   "codemirror_mode": {
    "name": "ipython",
    "version": 3
   },
   "file_extension": ".py",
   "mimetype": "text/x-python",
   "name": "python",
   "nbconvert_exporter": "python",
   "pygments_lexer": "ipython3",
   "version": "3.8.8"
  }
 },
 "nbformat": 4,
 "nbformat_minor": 4
}
